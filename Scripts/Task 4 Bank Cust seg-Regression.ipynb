{
 "cells": [
  {
   "cell_type": "markdown",
   "id": "5309906a",
   "metadata": {},
   "source": [
    "# Supervised machine Learning-Regression Analysis"
   ]
  },
  {
   "cell_type": "markdown",
   "id": "29d03fbf",
   "metadata": {},
   "source": [
    "# This script contains the following:\n",
    "\n",
    "1. Importing libraries and data\n",
    "2. Data cleaning\n",
    "3. Data prep for regression analysis\n",
    "4. Regression analysis Bonus: performance improvement after removing outliers"
   ]
  },
  {
   "cell_type": "markdown",
   "id": "6595eae6",
   "metadata": {},
   "source": [
    "# 1. Importing libraries and data"
   ]
  },
  {
   "cell_type": "code",
   "execution_count": 1,
   "id": "0abab8e2",
   "metadata": {},
   "outputs": [],
   "source": [
    "import pandas as pd\n",
    "import numpy as np\n",
    "import seaborn as sns\n",
    "import matplotlib\n",
    "import matplotlib.pyplot as plt\n",
    "import os\n",
    "import sklearn\n",
    "from sklearn.model_selection import train_test_split \n",
    "from sklearn.linear_model import LinearRegression\n",
    "from sklearn.metrics import mean_squared_error, r2_score"
   ]
  },
  {
   "cell_type": "code",
   "execution_count": 2,
   "id": "07d28322",
   "metadata": {},
   "outputs": [],
   "source": [
    "# This option ensures that the graphs you create are displayed within the notebook without the need to \"call\" them specifically.\n",
    "\n",
    "%matplotlib inline"
   ]
  },
  {
   "cell_type": "code",
   "execution_count": 3,
   "id": "3a33dbaa",
   "metadata": {},
   "outputs": [],
   "source": [
    "path=r'C:\\Users\\sruth\\OneDrive\\Desktop\\Career Foundry\\Data Immersion\\A6-Advanced Analytics & Dashboard design\\6.4 Supervised machinelearning-Regression'"
   ]
  },
  {
   "cell_type": "code",
   "execution_count": 4,
   "id": "56bcf001",
   "metadata": {},
   "outputs": [],
   "source": [
    "df_bank=pd.read_csv(os.path.join(path,'Data','Prepared data','Bank Transactions2.csv'))\n"
   ]
  },
  {
   "cell_type": "markdown",
   "id": "6a597de1",
   "metadata": {},
   "source": [
    "## Hypothesis:\n",
    "## 1. The balance of the customer's account increases if the age increases.\n",
    "\n",
    "## 2. If Age increases, then the transaction amount increases."
   ]
  },
  {
   "cell_type": "markdown",
   "id": "e7f92020",
   "metadata": {},
   "source": [
    "# 2.Data Cleaning"
   ]
  },
  {
   "cell_type": "code",
   "execution_count": 5,
   "id": "c61f25c1",
   "metadata": {},
   "outputs": [
    {
     "data": {
      "text/html": [
       "<div>\n",
       "<style scoped>\n",
       "    .dataframe tbody tr th:only-of-type {\n",
       "        vertical-align: middle;\n",
       "    }\n",
       "\n",
       "    .dataframe tbody tr th {\n",
       "        vertical-align: top;\n",
       "    }\n",
       "\n",
       "    .dataframe thead th {\n",
       "        text-align: right;\n",
       "    }\n",
       "</style>\n",
       "<table border=\"1\" class=\"dataframe\">\n",
       "  <thead>\n",
       "    <tr style=\"text-align: right;\">\n",
       "      <th></th>\n",
       "      <th>TransactionID</th>\n",
       "      <th>CustomerID</th>\n",
       "      <th>CustomerDOB</th>\n",
       "      <th>CustGender</th>\n",
       "      <th>CustLocation</th>\n",
       "      <th>CustAccountBalance</th>\n",
       "      <th>TransactionDate</th>\n",
       "      <th>TransactionTime</th>\n",
       "      <th>TransactionAmount (INR)</th>\n",
       "      <th>Age</th>\n",
       "      <th>month of transaction</th>\n",
       "      <th>Trans_monthname</th>\n",
       "      <th>Month_spend</th>\n",
       "      <th>Age_Group</th>\n",
       "      <th>Age_Category</th>\n",
       "      <th>State</th>\n",
       "    </tr>\n",
       "  </thead>\n",
       "  <tbody>\n",
       "    <tr>\n",
       "      <th>0</th>\n",
       "      <td>T3</td>\n",
       "      <td>C4417068</td>\n",
       "      <td>1996-11-26</td>\n",
       "      <td>F</td>\n",
       "      <td>Mumbai</td>\n",
       "      <td>17874.44</td>\n",
       "      <td>2016-02-08</td>\n",
       "      <td>15:38:32</td>\n",
       "      <td>459.0</td>\n",
       "      <td>26</td>\n",
       "      <td>2</td>\n",
       "      <td>Feb</td>\n",
       "      <td>Low spending Month</td>\n",
       "      <td>26-35</td>\n",
       "      <td>Low spenders</td>\n",
       "      <td>Maharashtra</td>\n",
       "    </tr>\n",
       "    <tr>\n",
       "      <th>1</th>\n",
       "      <td>T4</td>\n",
       "      <td>C5342380</td>\n",
       "      <td>1973-09-14</td>\n",
       "      <td>F</td>\n",
       "      <td>Mumbai</td>\n",
       "      <td>866503.21</td>\n",
       "      <td>2016-02-08</td>\n",
       "      <td>15:38:34</td>\n",
       "      <td>2060.0</td>\n",
       "      <td>50</td>\n",
       "      <td>2</td>\n",
       "      <td>Feb</td>\n",
       "      <td>Low spending Month</td>\n",
       "      <td>45+</td>\n",
       "      <td>Medium spenders</td>\n",
       "      <td>Maharashtra</td>\n",
       "    </tr>\n",
       "    <tr>\n",
       "      <th>2</th>\n",
       "      <td>T5</td>\n",
       "      <td>C9031234</td>\n",
       "      <td>1988-03-24</td>\n",
       "      <td>F</td>\n",
       "      <td>Mumbai</td>\n",
       "      <td>6714.43</td>\n",
       "      <td>2016-02-08</td>\n",
       "      <td>02:19:16</td>\n",
       "      <td>1762.5</td>\n",
       "      <td>35</td>\n",
       "      <td>2</td>\n",
       "      <td>Feb</td>\n",
       "      <td>Low spending Month</td>\n",
       "      <td>26-35</td>\n",
       "      <td>High spenders</td>\n",
       "      <td>Maharashtra</td>\n",
       "    </tr>\n",
       "    <tr>\n",
       "      <th>3</th>\n",
       "      <td>T7</td>\n",
       "      <td>C7126560</td>\n",
       "      <td>1992-01-26</td>\n",
       "      <td>F</td>\n",
       "      <td>Mumbai</td>\n",
       "      <td>973.46</td>\n",
       "      <td>2016-02-08</td>\n",
       "      <td>00:16:46</td>\n",
       "      <td>566.0</td>\n",
       "      <td>31</td>\n",
       "      <td>2</td>\n",
       "      <td>Feb</td>\n",
       "      <td>Low spending Month</td>\n",
       "      <td>26-35</td>\n",
       "      <td>High spenders</td>\n",
       "      <td>Maharashtra</td>\n",
       "    </tr>\n",
       "    <tr>\n",
       "      <th>4</th>\n",
       "      <td>T8</td>\n",
       "      <td>C1220223</td>\n",
       "      <td>1982-01-27</td>\n",
       "      <td>M</td>\n",
       "      <td>Mumbai</td>\n",
       "      <td>95075.54</td>\n",
       "      <td>2016-02-08</td>\n",
       "      <td>23:22:17</td>\n",
       "      <td>148.0</td>\n",
       "      <td>41</td>\n",
       "      <td>2</td>\n",
       "      <td>Feb</td>\n",
       "      <td>Low spending Month</td>\n",
       "      <td>36-45</td>\n",
       "      <td>Medium spenders</td>\n",
       "      <td>Maharashtra</td>\n",
       "    </tr>\n",
       "  </tbody>\n",
       "</table>\n",
       "</div>"
      ],
      "text/plain": [
       "  TransactionID CustomerID CustomerDOB CustGender CustLocation  \\\n",
       "0            T3   C4417068  1996-11-26          F       Mumbai   \n",
       "1            T4   C5342380  1973-09-14          F       Mumbai   \n",
       "2            T5   C9031234  1988-03-24          F       Mumbai   \n",
       "3            T7   C7126560  1992-01-26          F       Mumbai   \n",
       "4            T8   C1220223  1982-01-27          M       Mumbai   \n",
       "\n",
       "   CustAccountBalance TransactionDate TransactionTime  \\\n",
       "0            17874.44      2016-02-08        15:38:32   \n",
       "1           866503.21      2016-02-08        15:38:34   \n",
       "2             6714.43      2016-02-08        02:19:16   \n",
       "3              973.46      2016-02-08        00:16:46   \n",
       "4            95075.54      2016-02-08        23:22:17   \n",
       "\n",
       "   TransactionAmount (INR)  Age  month of transaction Trans_monthname  \\\n",
       "0                    459.0   26                     2             Feb   \n",
       "1                   2060.0   50                     2             Feb   \n",
       "2                   1762.5   35                     2             Feb   \n",
       "3                    566.0   31                     2             Feb   \n",
       "4                    148.0   41                     2             Feb   \n",
       "\n",
       "          Month_spend Age_Group     Age_Category        State  \n",
       "0  Low spending Month     26-35     Low spenders  Maharashtra  \n",
       "1  Low spending Month       45+  Medium spenders  Maharashtra  \n",
       "2  Low spending Month     26-35    High spenders  Maharashtra  \n",
       "3  Low spending Month     26-35    High spenders  Maharashtra  \n",
       "4  Low spending Month     36-45  Medium spenders  Maharashtra  "
      ]
     },
     "execution_count": 5,
     "metadata": {},
     "output_type": "execute_result"
    }
   ],
   "source": [
    "df_bank.head()"
   ]
  },
  {
   "cell_type": "code",
   "execution_count": 6,
   "id": "e468cb25",
   "metadata": {},
   "outputs": [],
   "source": [
    "df_bank_sub=df_bank[['Age','TransactionAmount (INR)','CustAccountBalance']]"
   ]
  },
  {
   "cell_type": "code",
   "execution_count": 7,
   "id": "7cbe93b8",
   "metadata": {},
   "outputs": [
    {
     "data": {
      "text/html": [
       "<div>\n",
       "<style scoped>\n",
       "    .dataframe tbody tr th:only-of-type {\n",
       "        vertical-align: middle;\n",
       "    }\n",
       "\n",
       "    .dataframe tbody tr th {\n",
       "        vertical-align: top;\n",
       "    }\n",
       "\n",
       "    .dataframe thead th {\n",
       "        text-align: right;\n",
       "    }\n",
       "</style>\n",
       "<table border=\"1\" class=\"dataframe\">\n",
       "  <thead>\n",
       "    <tr style=\"text-align: right;\">\n",
       "      <th></th>\n",
       "      <th>Age</th>\n",
       "      <th>TransactionAmount (INR)</th>\n",
       "      <th>CustAccountBalance</th>\n",
       "    </tr>\n",
       "  </thead>\n",
       "  <tbody>\n",
       "    <tr>\n",
       "      <th>0</th>\n",
       "      <td>26</td>\n",
       "      <td>459.0</td>\n",
       "      <td>17874.44</td>\n",
       "    </tr>\n",
       "    <tr>\n",
       "      <th>1</th>\n",
       "      <td>50</td>\n",
       "      <td>2060.0</td>\n",
       "      <td>866503.21</td>\n",
       "    </tr>\n",
       "    <tr>\n",
       "      <th>2</th>\n",
       "      <td>35</td>\n",
       "      <td>1762.5</td>\n",
       "      <td>6714.43</td>\n",
       "    </tr>\n",
       "    <tr>\n",
       "      <th>3</th>\n",
       "      <td>31</td>\n",
       "      <td>566.0</td>\n",
       "      <td>973.46</td>\n",
       "    </tr>\n",
       "    <tr>\n",
       "      <th>4</th>\n",
       "      <td>41</td>\n",
       "      <td>148.0</td>\n",
       "      <td>95075.54</td>\n",
       "    </tr>\n",
       "  </tbody>\n",
       "</table>\n",
       "</div>"
      ],
      "text/plain": [
       "   Age  TransactionAmount (INR)  CustAccountBalance\n",
       "0   26                    459.0            17874.44\n",
       "1   50                   2060.0           866503.21\n",
       "2   35                   1762.5             6714.43\n",
       "3   31                    566.0              973.46\n",
       "4   41                    148.0            95075.54"
      ]
     },
     "execution_count": 7,
     "metadata": {},
     "output_type": "execute_result"
    }
   ],
   "source": [
    "df_bank_sub.head()"
   ]
  },
  {
   "cell_type": "markdown",
   "id": "475bfddc",
   "metadata": {},
   "source": [
    "### Missing values Check"
   ]
  },
  {
   "cell_type": "code",
   "execution_count": 8,
   "id": "fed80b12",
   "metadata": {},
   "outputs": [
    {
     "data": {
      "text/plain": [
       "Age                        0\n",
       "TransactionAmount (INR)    0\n",
       "CustAccountBalance         0\n",
       "dtype: int64"
      ]
     },
     "execution_count": 8,
     "metadata": {},
     "output_type": "execute_result"
    }
   ],
   "source": [
    "# Check for missing values\n",
    "\n",
    "df_bank_sub.isnull().sum()\n",
    "\n",
    "# No missing values"
   ]
  },
  {
   "cell_type": "markdown",
   "id": "5b8fdca4",
   "metadata": {},
   "source": [
    "### Duplicate check"
   ]
  },
  {
   "cell_type": "code",
   "execution_count": 9,
   "id": "ac2d1774",
   "metadata": {},
   "outputs": [],
   "source": [
    "dups=df_bank_sub.duplicated()"
   ]
  },
  {
   "cell_type": "code",
   "execution_count": 10,
   "id": "76e65cf0",
   "metadata": {},
   "outputs": [
    {
     "data": {
      "text/plain": [
       "(660304,)"
      ]
     },
     "execution_count": 10,
     "metadata": {},
     "output_type": "execute_result"
    }
   ],
   "source": [
    "dups.shape"
   ]
  },
  {
   "cell_type": "code",
   "execution_count": 17,
   "id": "54096905",
   "metadata": {},
   "outputs": [],
   "source": [
    "# No Duplicates"
   ]
  },
  {
   "cell_type": "markdown",
   "id": "ab919c95",
   "metadata": {},
   "source": [
    "### Extreme values checks"
   ]
  },
  {
   "cell_type": "code",
   "execution_count": 11,
   "id": "bbfc5616",
   "metadata": {},
   "outputs": [
    {
     "name": "stderr",
     "output_type": "stream",
     "text": [
      "C:\\Users\\sruth\\AppData\\Local\\Temp\\ipykernel_6484\\439776439.py:1: UserWarning: \n",
      "\n",
      "`distplot` is a deprecated function and will be removed in seaborn v0.14.0.\n",
      "\n",
      "Please adapt your code to use either `displot` (a figure-level function with\n",
      "similar flexibility) or `histplot` (an axes-level function for histograms).\n",
      "\n",
      "For a guide to updating your code to use the new functions, please see\n",
      "https://gist.github.com/mwaskom/de44147ed2974457ad6372750bbe5751\n",
      "\n",
      "  sns.distplot(df_bank_sub['CustAccountBalance'], bins=25) # Shows extreme values\n"
     ]
    },
    {
     "data": {
      "text/plain": [
       "<Axes: xlabel='CustAccountBalance', ylabel='Density'>"
      ]
     },
     "execution_count": 11,
     "metadata": {},
     "output_type": "execute_result"
    },
    {
     "data": {
      "image/png": "[encoded data removed]",
      "text/plain": [
       "<Figure size 640x480 with 1 Axes>"
      ]
     },
     "metadata": {},
     "output_type": "display_data"
    }
   ],
   "source": [
    "sns.distplot(df_bank_sub['CustAccountBalance'], bins=25) # Shows extreme values"
   ]
  },
  {
   "cell_type": "code",
   "execution_count": 25,
   "id": "2e3016f7",
   "metadata": {},
   "outputs": [
    {
     "data": {
      "text/plain": [
       "0.0"
      ]
     },
     "execution_count": 25,
     "metadata": {},
     "output_type": "execute_result"
    }
   ],
   "source": [
    "df_bank_sub['CustAccountBalance'].min() # Check the min"
   ]
  },
  {
   "cell_type": "code",
   "execution_count": 13,
   "id": "24fa2e07",
   "metadata": {},
   "outputs": [
    {
     "data": {
      "text/plain": [
       "0.0"
      ]
     },
     "execution_count": 13,
     "metadata": {},
     "output_type": "execute_result"
    }
   ],
   "source": [
    "df_bank_sub['TransactionAmount (INR)'].min() # Check the min"
   ]
  },
  {
   "cell_type": "code",
   "execution_count": 20,
   "id": "b3359d1d",
   "metadata": {},
   "outputs": [
    {
     "data": {
      "text/plain": [
       "132449.4745887804"
      ]
     },
     "execution_count": 20,
     "metadata": {},
     "output_type": "execute_result"
    }
   ],
   "source": [
    "df_bank_sub['CustAccountBalance'].mean() # Check the mean"
   ]
  },
  {
   "cell_type": "code",
   "execution_count": 14,
   "id": "a68d52a5",
   "metadata": {},
   "outputs": [
    {
     "data": {
      "text/plain": [
       "1623.0029474454193"
      ]
     },
     "execution_count": 14,
     "metadata": {},
     "output_type": "execute_result"
    }
   ],
   "source": [
    "df_bank_sub['TransactionAmount (INR)'].mean() # Check the mean"
   ]
  },
  {
   "cell_type": "code",
   "execution_count": 21,
   "id": "b43aec43",
   "metadata": {},
   "outputs": [
    {
     "data": {
      "text/plain": [
       "19892.915"
      ]
     },
     "execution_count": 21,
     "metadata": {},
     "output_type": "execute_result"
    }
   ],
   "source": [
    "df_bank_sub['CustAccountBalance'].median() # Check the median"
   ]
  },
  {
   "cell_type": "code",
   "execution_count": 15,
   "id": "75269f39",
   "metadata": {},
   "outputs": [
    {
     "data": {
      "text/plain": [
       "500.0"
      ]
     },
     "execution_count": 15,
     "metadata": {},
     "output_type": "execute_result"
    }
   ],
   "source": [
    "df_bank_sub['TransactionAmount (INR)'].median() # Check the median"
   ]
  },
  {
   "cell_type": "code",
   "execution_count": 22,
   "id": "c97cf13f",
   "metadata": {},
   "outputs": [
    {
     "data": {
      "text/plain": [
       "82244629.9"
      ]
     },
     "execution_count": 22,
     "metadata": {},
     "output_type": "execute_result"
    }
   ],
   "source": [
    "df_bank_sub['CustAccountBalance'].max() # Check the max"
   ]
  },
  {
   "cell_type": "code",
   "execution_count": 16,
   "id": "a90e05d7",
   "metadata": {},
   "outputs": [
    {
     "data": {
      "text/plain": [
       "1560034.99"
      ]
     },
     "execution_count": 16,
     "metadata": {},
     "output_type": "execute_result"
    }
   ],
   "source": [
    "df_bank_sub['TransactionAmount (INR)'].max() # Check the max"
   ]
  },
  {
   "cell_type": "code",
   "execution_count": 28,
   "id": "1bd6a284",
   "metadata": {},
   "outputs": [
    {
     "data": {
      "text/plain": [
       "(660304, 3)"
      ]
     },
     "execution_count": 28,
     "metadata": {},
     "output_type": "execute_result"
    }
   ],
   "source": [
    "df_bank_sub.shape"
   ]
  },
  {
   "cell_type": "code",
   "execution_count": 18,
   "id": "a8ade1cb",
   "metadata": {},
   "outputs": [],
   "source": [
    "# create a dataframe with exclude age 0\n",
    "df_bank_age= df_bank_sub[df_bank_sub['Age'] != 0]"
   ]
  },
  {
   "cell_type": "code",
   "execution_count": 27,
   "id": "5c2c90e4",
   "metadata": {},
   "outputs": [
    {
     "data": {
      "text/plain": [
       "(566082, 3)"
      ]
     },
     "execution_count": 27,
     "metadata": {},
     "output_type": "execute_result"
    }
   ],
   "source": [
    "df_bank_age.shape"
   ]
  },
  {
   "cell_type": "markdown",
   "id": "31d97e5a",
   "metadata": {},
   "source": [
    "# 3.1.Data prep for regression analysis- Age vs CustAccountBalance"
   ]
  },
  {
   "cell_type": "code",
   "execution_count": 29,
   "id": "cf27ab78",
   "metadata": {},
   "outputs": [
    {
     "data": {
      "image/png": "[encoded data removed]",
      "text/plain": [
       "<Figure size 640x480 with 1 Axes>"
      ]
     },
     "metadata": {},
     "output_type": "display_data"
    }
   ],
   "source": [
    "# Create a scatterplot using matplotlib for another look at how the chosen variables plot against each other.\n",
    "\n",
    "df_bank_age.plot(x = 'Age', y='CustAccountBalance',style='o') # The style option creates a scatterplot; without it, we only have lines.\n",
    "plt.title('Age vs CustAccountBalance')  \n",
    "plt.xlabel('Age')  \n",
    "plt.ylabel('CustAccountBalance')  \n",
    "plt.show()"
   ]
  },
  {
   "cell_type": "code",
   "execution_count": 19,
   "id": "e356e2f5",
   "metadata": {},
   "outputs": [],
   "source": [
    "# Reshape the variables into NumPy arrays and put them into separate objects.\n",
    "\n",
    "X = df_bank_age['Age'].values.reshape(-1,1)\n",
    "y = df_bank_age['CustAccountBalance'].values.reshape(-1,1)"
   ]
  },
  {
   "cell_type": "code",
   "execution_count": 31,
   "id": "15b340c1",
   "metadata": {},
   "outputs": [
    {
     "data": {
      "text/plain": [
       "array([[26],\n",
       "       [50],\n",
       "       [35],\n",
       "       ...,\n",
       "       [33],\n",
       "       [34],\n",
       "       [39]], dtype=int64)"
      ]
     },
     "execution_count": 31,
     "metadata": {},
     "output_type": "execute_result"
    }
   ],
   "source": [
    "X"
   ]
  },
  {
   "cell_type": "code",
   "execution_count": 32,
   "id": "56875ba2",
   "metadata": {},
   "outputs": [
    {
     "data": {
      "text/plain": [
       "array([[ 17874.44],\n",
       "       [866503.21],\n",
       "       [  6714.43],\n",
       "       ...,\n",
       "       [  7635.19],\n",
       "       [221757.06],\n",
       "       [ 75734.42]])"
      ]
     },
     "execution_count": 32,
     "metadata": {},
     "output_type": "execute_result"
    }
   ],
   "source": [
    "y"
   ]
  },
  {
   "cell_type": "code",
   "execution_count": 20,
   "id": "9ad4db26",
   "metadata": {},
   "outputs": [],
   "source": [
    "# Split data into a training set and a test set.\n",
    "\n",
    "X_train, X_test, y_train, y_test = train_test_split(X, y, test_size=0.3, random_state=0)"
   ]
  },
  {
   "cell_type": "markdown",
   "id": "43e4dd3d",
   "metadata": {},
   "source": [
    "# 4.1Regression analysis-  Age vs CustAccountBalance"
   ]
  },
  {
   "cell_type": "code",
   "execution_count": 21,
   "id": "cd888e18",
   "metadata": {},
   "outputs": [],
   "source": [
    "# Create a regression object.\n",
    "\n",
    "regression = LinearRegression()  # This is the regression object, which will be fit onto the training set."
   ]
  },
  {
   "cell_type": "code",
   "execution_count": 22,
   "id": "1324abc1",
   "metadata": {},
   "outputs": [
    {
     "data": {
      "text/html": [
       "<style>#sk-container-id-1 {color: black;background-color: white;}#sk-container-id-1 pre{padding: 0;}#sk-container-id-1 div.sk-toggleable {background-color: white;}#sk-container-id-1 label.sk-toggleable__label {cursor: pointer;display: block;width: 100%;margin-bottom: 0;padding: 0.3em;box-sizing: border-box;text-align: center;}#sk-container-id-1 label.sk-toggleable__label-arrow:before {content: \"▸\";float: left;margin-right: 0.25em;color: #696969;}#sk-container-id-1 label.sk-toggleable__label-arrow:hover:before {color: black;}#sk-container-id-1 div.sk-estimator:hover label.sk-toggleable__label-arrow:before {color: black;}#sk-container-id-1 div.sk-toggleable__content {max-height: 0;max-width: 0;overflow: hidden;text-align: left;background-color: #f0f8ff;}#sk-container-id-1 div.sk-toggleable__content pre {margin: 0.2em;color: black;border-radius: 0.25em;background-color: #f0f8ff;}#sk-container-id-1 input.sk-toggleable__control:checked~div.sk-toggleable__content {max-height: 200px;max-width: 100%;overflow: auto;}#sk-container-id-1 input.sk-toggleable__control:checked~label.sk-toggleable__label-arrow:before {content: \"▾\";}#sk-container-id-1 div.sk-estimator input.sk-toggleable__control:checked~label.sk-toggleable__label {background-color: #d4ebff;}#sk-container-id-1 div.sk-label input.sk-toggleable__control:checked~label.sk-toggleable__label {background-color: #d4ebff;}#sk-container-id-1 input.sk-hidden--visually {border: 0;clip: rect(1px 1px 1px 1px);clip: rect(1px, 1px, 1px, 1px);height: 1px;margin: -1px;overflow: hidden;padding: 0;position: absolute;width: 1px;}#sk-container-id-1 div.sk-estimator {font-family: monospace;background-color: #f0f8ff;border: 1px dotted black;border-radius: 0.25em;box-sizing: border-box;margin-bottom: 0.5em;}#sk-container-id-1 div.sk-estimator:hover {background-color: #d4ebff;}#sk-container-id-1 div.sk-parallel-item::after {content: \"\";width: 100%;border-bottom: 1px solid gray;flex-grow: 1;}#sk-container-id-1 div.sk-label:hover label.sk-toggleable__label {background-color: #d4ebff;}#sk-container-id-1 div.sk-serial::before {content: \"\";position: absolute;border-left: 1px solid gray;box-sizing: border-box;top: 0;bottom: 0;left: 50%;z-index: 0;}#sk-container-id-1 div.sk-serial {display: flex;flex-direction: column;align-items: center;background-color: white;padding-right: 0.2em;padding-left: 0.2em;position: relative;}#sk-container-id-1 div.sk-item {position: relative;z-index: 1;}#sk-container-id-1 div.sk-parallel {display: flex;align-items: stretch;justify-content: center;background-color: white;position: relative;}#sk-container-id-1 div.sk-item::before, #sk-container-id-1 div.sk-parallel-item::before {content: \"\";position: absolute;border-left: 1px solid gray;box-sizing: border-box;top: 0;bottom: 0;left: 50%;z-index: -1;}#sk-container-id-1 div.sk-parallel-item {display: flex;flex-direction: column;z-index: 1;position: relative;background-color: white;}#sk-container-id-1 div.sk-parallel-item:first-child::after {align-self: flex-end;width: 50%;}#sk-container-id-1 div.sk-parallel-item:last-child::after {align-self: flex-start;width: 50%;}#sk-container-id-1 div.sk-parallel-item:only-child::after {width: 0;}#sk-container-id-1 div.sk-dashed-wrapped {border: 1px dashed gray;margin: 0 0.4em 0.5em 0.4em;box-sizing: border-box;padding-bottom: 0.4em;background-color: white;}#sk-container-id-1 div.sk-label label {font-family: monospace;font-weight: bold;display: inline-block;line-height: 1.2em;}#sk-container-id-1 div.sk-label-container {text-align: center;}#sk-container-id-1 div.sk-container {/* jupyter's `normalize.less` sets `[hidden] { display: none; }` but bootstrap.min.css set `[hidden] { display: none !important; }` so we also need the `!important` here to be able to override the default hidden behavior on the sphinx rendered scikit-learn.org. See: https://github.com/scikit-learn/scikit-learn/issues/21755 */display: inline-block !important;position: relative;}#sk-container-id-1 div.sk-text-repr-fallback {display: none;}</style><div id=\"sk-container-id-1\" class=\"sk-top-container\"><div class=\"sk-text-repr-fallback\"><pre>LinearRegression()</pre><b>In a Jupyter environment, please rerun this cell to show the HTML representation or trust the notebook. <br />On GitHub, the HTML representation is unable to render, please try loading this page with nbviewer.org.</b></div><div class=\"sk-container\" hidden><div class=\"sk-item\"><div class=\"sk-estimator sk-toggleable\"><input class=\"sk-toggleable__control sk-hidden--visually\" id=\"sk-estimator-id-1\" type=\"checkbox\" checked><label for=\"sk-estimator-id-1\" class=\"sk-toggleable__label sk-toggleable__label-arrow\">LinearRegression</label><div class=\"sk-toggleable__content\"><pre>LinearRegression()</pre></div></div></div></div></div>"
      ],
      "text/plain": [
       "LinearRegression()"
      ]
     },
     "execution_count": 22,
     "metadata": {},
     "output_type": "execute_result"
    }
   ],
   "source": [
    "# Fit the regression object onto the training set.\n",
    "\n",
    "regression.fit(X_train, y_train)"
   ]
  },
  {
   "cell_type": "code",
   "execution_count": 24,
   "id": "a7e28d4d",
   "metadata": {},
   "outputs": [],
   "source": [
    "# Predict the values of y using X.\n",
    "\n",
    "y_predicted = regression.predict(X_test)"
   ]
  },
  {
   "cell_type": "code",
   "execution_count": 25,
   "id": "bf4551cc",
   "metadata": {},
   "outputs": [
    {
     "data": {
      "image/png": "[encoded data removed]",
      "text/plain": [
       "<Figure size 640x480 with 1 Axes>"
      ]
     },
     "metadata": {},
     "output_type": "display_data"
    }
   ],
   "source": [
    "# Create a plot that shows the regression line from the model on the test set.\n",
    "\n",
    "plot_test = plt\n",
    "plot_test.scatter(X_test, y_test, color='gray', s = 15)\n",
    "plot_test.plot(X_test, y_predicted, color='red', linewidth =3)\n",
    "plot_test.title('Age vs CustAccountBalance (Test set)')\n",
    "plot_test.xlabel('Age')\n",
    "plot_test.ylabel('CustAccountBalance')\n",
    "plot_test.show()"
   ]
  },
  {
   "cell_type": "code",
   "execution_count": 26,
   "id": "5475be2a",
   "metadata": {},
   "outputs": [],
   "source": [
    "# To check accuracy Create objects that contain the model summary statistics.\n",
    "\n",
    "rmse = mean_squared_error(y_test, y_predicted) # This is the mean squared error\n",
    "r2 = r2_score(y_test, y_predicted) # This is the R2 score."
   ]
  },
  {
   "cell_type": "code",
   "execution_count": 85,
   "id": "71aae77e",
   "metadata": {},
   "outputs": [
    {
     "name": "stdout",
     "output_type": "stream",
     "text": [
      "Slope: [[7918.84366738]]\n",
      "Mean squared error:  8657042272.64877\n",
      "R2 score:  -259.474342962711\n"
     ]
    }
   ],
   "source": [
    "# Print the model summary statistics. This is where you evaluate the performance of the model.\n",
    "\n",
    "print('Slope:' ,regression.coef_)\n",
    "print('Mean squared error: ',rmse)\n",
    "print('R2 score: ', r2)"
   ]
  },
  {
   "cell_type": "code",
   "execution_count": 29,
   "id": "b6eb718b",
   "metadata": {},
   "outputs": [
    {
     "data": {
      "text/plain": [
       "array([[187728.27589527],\n",
       "       [118848.26656543],\n",
       "       [ 99168.26389976],\n",
       "       ...,\n",
       "       [ 99168.26389976],\n",
       "       [ 10608.25190424],\n",
       "       [187728.27589527]])"
      ]
     },
     "execution_count": 29,
     "metadata": {},
     "output_type": "execute_result"
    }
   ],
   "source": [
    "y_predicted"
   ]
  },
  {
   "cell_type": "code",
   "execution_count": 42,
   "id": "6b2e43d8",
   "metadata": {},
   "outputs": [
    {
     "data": {
      "text/html": [
       "<div>\n",
       "<style scoped>\n",
       "    .dataframe tbody tr th:only-of-type {\n",
       "        vertical-align: middle;\n",
       "    }\n",
       "\n",
       "    .dataframe tbody tr th {\n",
       "        vertical-align: top;\n",
       "    }\n",
       "\n",
       "    .dataframe thead th {\n",
       "        text-align: right;\n",
       "    }\n",
       "</style>\n",
       "<table border=\"1\" class=\"dataframe\">\n",
       "  <thead>\n",
       "    <tr style=\"text-align: right;\">\n",
       "      <th></th>\n",
       "      <th>Actual</th>\n",
       "      <th>Predicted</th>\n",
       "    </tr>\n",
       "  </thead>\n",
       "  <tbody>\n",
       "    <tr>\n",
       "      <th>0</th>\n",
       "      <td>19476.11</td>\n",
       "      <td>187728.275895</td>\n",
       "    </tr>\n",
       "    <tr>\n",
       "      <th>1</th>\n",
       "      <td>4987.29</td>\n",
       "      <td>118848.266565</td>\n",
       "    </tr>\n",
       "    <tr>\n",
       "      <th>2</th>\n",
       "      <td>171427.90</td>\n",
       "      <td>99168.263900</td>\n",
       "    </tr>\n",
       "    <tr>\n",
       "      <th>3</th>\n",
       "      <td>13479.44</td>\n",
       "      <td>138528.269231</td>\n",
       "    </tr>\n",
       "    <tr>\n",
       "      <th>4</th>\n",
       "      <td>6248.47</td>\n",
       "      <td>59808.258568</td>\n",
       "    </tr>\n",
       "    <tr>\n",
       "      <th>5</th>\n",
       "      <td>7788.44</td>\n",
       "      <td>227088.281227</td>\n",
       "    </tr>\n",
       "    <tr>\n",
       "      <th>6</th>\n",
       "      <td>68343.18</td>\n",
       "      <td>89328.262567</td>\n",
       "    </tr>\n",
       "    <tr>\n",
       "      <th>7</th>\n",
       "      <td>6633.97</td>\n",
       "      <td>49968.257236</td>\n",
       "    </tr>\n",
       "    <tr>\n",
       "      <th>8</th>\n",
       "      <td>95844.09</td>\n",
       "      <td>138528.269231</td>\n",
       "    </tr>\n",
       "    <tr>\n",
       "      <th>9</th>\n",
       "      <td>80292.32</td>\n",
       "      <td>109008.265233</td>\n",
       "    </tr>\n",
       "    <tr>\n",
       "      <th>10</th>\n",
       "      <td>44.35</td>\n",
       "      <td>49968.257236</td>\n",
       "    </tr>\n",
       "    <tr>\n",
       "      <th>11</th>\n",
       "      <td>10882.58</td>\n",
       "      <td>128688.267898</td>\n",
       "    </tr>\n",
       "    <tr>\n",
       "      <th>12</th>\n",
       "      <td>8530.50</td>\n",
       "      <td>69648.259901</td>\n",
       "    </tr>\n",
       "    <tr>\n",
       "      <th>13</th>\n",
       "      <td>10838.40</td>\n",
       "      <td>89328.262567</td>\n",
       "    </tr>\n",
       "    <tr>\n",
       "      <th>14</th>\n",
       "      <td>85141.73</td>\n",
       "      <td>10608.251904</td>\n",
       "    </tr>\n",
       "    <tr>\n",
       "      <th>15</th>\n",
       "      <td>53524.95</td>\n",
       "      <td>89328.262567</td>\n",
       "    </tr>\n",
       "    <tr>\n",
       "      <th>16</th>\n",
       "      <td>477.25</td>\n",
       "      <td>69648.259901</td>\n",
       "    </tr>\n",
       "    <tr>\n",
       "      <th>17</th>\n",
       "      <td>23352.37</td>\n",
       "      <td>99168.263900</td>\n",
       "    </tr>\n",
       "    <tr>\n",
       "      <th>18</th>\n",
       "      <td>61435.48</td>\n",
       "      <td>89328.262567</td>\n",
       "    </tr>\n",
       "    <tr>\n",
       "      <th>19</th>\n",
       "      <td>10300.32</td>\n",
       "      <td>128688.267898</td>\n",
       "    </tr>\n",
       "    <tr>\n",
       "      <th>20</th>\n",
       "      <td>11448.21</td>\n",
       "      <td>20448.253237</td>\n",
       "    </tr>\n",
       "    <tr>\n",
       "      <th>21</th>\n",
       "      <td>26697.57</td>\n",
       "      <td>207408.278561</td>\n",
       "    </tr>\n",
       "    <tr>\n",
       "      <th>22</th>\n",
       "      <td>105.40</td>\n",
       "      <td>59808.258568</td>\n",
       "    </tr>\n",
       "    <tr>\n",
       "      <th>23</th>\n",
       "      <td>35680.46</td>\n",
       "      <td>128688.267898</td>\n",
       "    </tr>\n",
       "    <tr>\n",
       "      <th>24</th>\n",
       "      <td>751630.04</td>\n",
       "      <td>69648.259901</td>\n",
       "    </tr>\n",
       "    <tr>\n",
       "      <th>25</th>\n",
       "      <td>9239.75</td>\n",
       "      <td>69648.259901</td>\n",
       "    </tr>\n",
       "    <tr>\n",
       "      <th>26</th>\n",
       "      <td>11952.35</td>\n",
       "      <td>118848.266565</td>\n",
       "    </tr>\n",
       "    <tr>\n",
       "      <th>27</th>\n",
       "      <td>8888.28</td>\n",
       "      <td>109008.265233</td>\n",
       "    </tr>\n",
       "    <tr>\n",
       "      <th>28</th>\n",
       "      <td>9667.89</td>\n",
       "      <td>109008.265233</td>\n",
       "    </tr>\n",
       "    <tr>\n",
       "      <th>29</th>\n",
       "      <td>10053.89</td>\n",
       "      <td>10608.251904</td>\n",
       "    </tr>\n",
       "  </tbody>\n",
       "</table>\n",
       "</div>"
      ],
      "text/plain": [
       "       Actual      Predicted\n",
       "0    19476.11  187728.275895\n",
       "1     4987.29  118848.266565\n",
       "2   171427.90   99168.263900\n",
       "3    13479.44  138528.269231\n",
       "4     6248.47   59808.258568\n",
       "5     7788.44  227088.281227\n",
       "6    68343.18   89328.262567\n",
       "7     6633.97   49968.257236\n",
       "8    95844.09  138528.269231\n",
       "9    80292.32  109008.265233\n",
       "10      44.35   49968.257236\n",
       "11   10882.58  128688.267898\n",
       "12    8530.50   69648.259901\n",
       "13   10838.40   89328.262567\n",
       "14   85141.73   10608.251904\n",
       "15   53524.95   89328.262567\n",
       "16     477.25   69648.259901\n",
       "17   23352.37   99168.263900\n",
       "18   61435.48   89328.262567\n",
       "19   10300.32  128688.267898\n",
       "20   11448.21   20448.253237\n",
       "21   26697.57  207408.278561\n",
       "22     105.40   59808.258568\n",
       "23   35680.46  128688.267898\n",
       "24  751630.04   69648.259901\n",
       "25    9239.75   69648.259901\n",
       "26   11952.35  118848.266565\n",
       "27    8888.28  109008.265233\n",
       "28    9667.89  109008.265233\n",
       "29   10053.89   10608.251904"
      ]
     },
     "execution_count": 42,
     "metadata": {},
     "output_type": "execute_result"
    }
   ],
   "source": [
    "# Create a dataframe comparing the actual and predicted values of y.\n",
    "\n",
    "data = pd.DataFrame({'Actual': y_test.flatten(), 'Predicted': y_predicted.flatten()})\n",
    "data.head(30)"
   ]
  },
  {
   "cell_type": "markdown",
   "id": "ad0626b8",
   "metadata": {},
   "source": [
    "#### Here the model is not a good fit.Most of the datapoints are far from the trend line, which indicates that there are not a linear relationship between both variables.\n",
    "#### The MSE is large(Regression may not be the best model) and the R2 score is practically 0 (less fit) .\n",
    "#### The slope is 9840 indicating  the positive relationship between Age and CustAccountBalance.ie when Age increases then the custAcc balance also increases\n",
    "#### There is difference between the actual and predicted y values"
   ]
  },
  {
   "cell_type": "markdown",
   "id": "84df7e21",
   "metadata": {},
   "source": [
    "# Compare how the regression fits the training set -Age vs CustAccountBalance"
   ]
  },
  {
   "cell_type": "code",
   "execution_count": 30,
   "id": "2dec5549",
   "metadata": {},
   "outputs": [],
   "source": [
    "# Predict.\n",
    "\n",
    "y_predicted_train = regression.predict(X_train) # This is predicting X_train!"
   ]
  },
  {
   "cell_type": "code",
   "execution_count": 31,
   "id": "446dd4ae",
   "metadata": {},
   "outputs": [],
   "source": [
    "rmse = mean_squared_error(y_train, y_predicted_train)\n",
    "r2 = r2_score(y_train, y_predicted_train)"
   ]
  },
  {
   "cell_type": "code",
   "execution_count": 32,
   "id": "0d797fcf",
   "metadata": {},
   "outputs": [
    {
     "name": "stdout",
     "output_type": "stream",
     "text": [
      "Slope: [[9840.00133284]]\n",
      "Mean squared error:  160804327093.2239\n",
      "R2 score:  0.01806885431540295\n"
     ]
    }
   ],
   "source": [
    "print('Slope:' ,regression.coef_)\n",
    "print('Mean squared error: ', rmse)\n",
    "print('R2 score: ', r2)"
   ]
  },
  {
   "cell_type": "code",
   "execution_count": 33,
   "id": "36a65163",
   "metadata": {},
   "outputs": [
    {
     "data": {
      "image/png": "[encoded data removed]",
      "text/plain": [
       "<Figure size 640x480 with 1 Axes>"
      ]
     },
     "metadata": {},
     "output_type": "display_data"
    }
   ],
   "source": [
    "# Visualizing the training set results.\n",
    "\n",
    "plot_test = plt\n",
    "plot_test.scatter(X_train, y_train, color='green', s = 15)\n",
    "plot_test.plot(X_train, y_predicted_train, color='red', linewidth =3)\n",
    "plot_test.title('Age vs CustAccountBalance (Train set)')\n",
    "plot_test.xlabel('Age')\n",
    "plot_test.ylabel('CustAccountBalance')\n",
    "plot_test.show()"
   ]
  },
  {
   "cell_type": "markdown",
   "id": "1fbfe44a",
   "metadata": {},
   "source": [
    "#### The results of the models on the training set are similar to those on the test set. This supports our earlier assumption that the model is not suitable."
   ]
  },
  {
   "cell_type": "markdown",
   "id": "d92b511c",
   "metadata": {},
   "source": [
    "# Bonus: performance improvement after removing outliers-Age vs CustAccountBalance"
   ]
  },
  {
   "cell_type": "code",
   "execution_count": 45,
   "id": "0a3492a2",
   "metadata": {},
   "outputs": [],
   "source": [
    "# Clean the extreme values from the \"CustAccountBalance\" variable observed during the consistency checks.\n",
    "\n",
    "df_test = df_bank_age[(df_bank_age['CustAccountBalance'] >0) & (df_bank_age['CustAccountBalance'] <5000000)] "
   ]
  },
  {
   "cell_type": "code",
   "execution_count": 46,
   "id": "7cc5b0d1",
   "metadata": {},
   "outputs": [
    {
     "data": {
      "image/png": "[encoded data removed]",
      "text/plain": [
       "<Figure size 640x480 with 1 Axes>"
      ]
     },
     "metadata": {},
     "output_type": "display_data"
    }
   ],
   "source": [
    "# See how the scatterplot looks without outliers.\n",
    "\n",
    "df_test.plot(x = 'Age', y='CustAccountBalance', style='o')  \n",
    "plt.title('Age vs CustAccountBalance')  \n",
    "plt.xlabel('Age')  \n",
    "plt.ylabel('CustAccountBalance')  \n",
    "plt.show()"
   ]
  },
  {
   "cell_type": "code",
   "execution_count": 47,
   "id": "989062c0",
   "metadata": {},
   "outputs": [],
   "source": [
    "# Reshape again.\n",
    "\n",
    "X_2 = df_test['Age'].values.reshape(-1,1)\n",
    "y_2 = df_test['CustAccountBalance'].values.reshape(-1,1)"
   ]
  },
  {
   "cell_type": "code",
   "execution_count": 48,
   "id": "bb339cd7",
   "metadata": {},
   "outputs": [],
   "source": [
    "X_train_2, X_test_2, y_train_2, y_test_2 = train_test_split(X_2, y_2, test_size=0.3, random_state=0)"
   ]
  },
  {
   "cell_type": "code",
   "execution_count": 49,
   "id": "324f85bb",
   "metadata": {},
   "outputs": [
    {
     "data": {
      "text/html": [
       "<style>#sk-container-id-3 {color: black;background-color: white;}#sk-container-id-3 pre{padding: 0;}#sk-container-id-3 div.sk-toggleable {background-color: white;}#sk-container-id-3 label.sk-toggleable__label {cursor: pointer;display: block;width: 100%;margin-bottom: 0;padding: 0.3em;box-sizing: border-box;text-align: center;}#sk-container-id-3 label.sk-toggleable__label-arrow:before {content: \"▸\";float: left;margin-right: 0.25em;color: #696969;}#sk-container-id-3 label.sk-toggleable__label-arrow:hover:before {color: black;}#sk-container-id-3 div.sk-estimator:hover label.sk-toggleable__label-arrow:before {color: black;}#sk-container-id-3 div.sk-toggleable__content {max-height: 0;max-width: 0;overflow: hidden;text-align: left;background-color: #f0f8ff;}#sk-container-id-3 div.sk-toggleable__content pre {margin: 0.2em;color: black;border-radius: 0.25em;background-color: #f0f8ff;}#sk-container-id-3 input.sk-toggleable__control:checked~div.sk-toggleable__content {max-height: 200px;max-width: 100%;overflow: auto;}#sk-container-id-3 input.sk-toggleable__control:checked~label.sk-toggleable__label-arrow:before {content: \"▾\";}#sk-container-id-3 div.sk-estimator input.sk-toggleable__control:checked~label.sk-toggleable__label {background-color: #d4ebff;}#sk-container-id-3 div.sk-label input.sk-toggleable__control:checked~label.sk-toggleable__label {background-color: #d4ebff;}#sk-container-id-3 input.sk-hidden--visually {border: 0;clip: rect(1px 1px 1px 1px);clip: rect(1px, 1px, 1px, 1px);height: 1px;margin: -1px;overflow: hidden;padding: 0;position: absolute;width: 1px;}#sk-container-id-3 div.sk-estimator {font-family: monospace;background-color: #f0f8ff;border: 1px dotted black;border-radius: 0.25em;box-sizing: border-box;margin-bottom: 0.5em;}#sk-container-id-3 div.sk-estimator:hover {background-color: #d4ebff;}#sk-container-id-3 div.sk-parallel-item::after {content: \"\";width: 100%;border-bottom: 1px solid gray;flex-grow: 1;}#sk-container-id-3 div.sk-label:hover label.sk-toggleable__label {background-color: #d4ebff;}#sk-container-id-3 div.sk-serial::before {content: \"\";position: absolute;border-left: 1px solid gray;box-sizing: border-box;top: 0;bottom: 0;left: 50%;z-index: 0;}#sk-container-id-3 div.sk-serial {display: flex;flex-direction: column;align-items: center;background-color: white;padding-right: 0.2em;padding-left: 0.2em;position: relative;}#sk-container-id-3 div.sk-item {position: relative;z-index: 1;}#sk-container-id-3 div.sk-parallel {display: flex;align-items: stretch;justify-content: center;background-color: white;position: relative;}#sk-container-id-3 div.sk-item::before, #sk-container-id-3 div.sk-parallel-item::before {content: \"\";position: absolute;border-left: 1px solid gray;box-sizing: border-box;top: 0;bottom: 0;left: 50%;z-index: -1;}#sk-container-id-3 div.sk-parallel-item {display: flex;flex-direction: column;z-index: 1;position: relative;background-color: white;}#sk-container-id-3 div.sk-parallel-item:first-child::after {align-self: flex-end;width: 50%;}#sk-container-id-3 div.sk-parallel-item:last-child::after {align-self: flex-start;width: 50%;}#sk-container-id-3 div.sk-parallel-item:only-child::after {width: 0;}#sk-container-id-3 div.sk-dashed-wrapped {border: 1px dashed gray;margin: 0 0.4em 0.5em 0.4em;box-sizing: border-box;padding-bottom: 0.4em;background-color: white;}#sk-container-id-3 div.sk-label label {font-family: monospace;font-weight: bold;display: inline-block;line-height: 1.2em;}#sk-container-id-3 div.sk-label-container {text-align: center;}#sk-container-id-3 div.sk-container {/* jupyter's `normalize.less` sets `[hidden] { display: none; }` but bootstrap.min.css set `[hidden] { display: none !important; }` so we also need the `!important` here to be able to override the default hidden behavior on the sphinx rendered scikit-learn.org. See: https://github.com/scikit-learn/scikit-learn/issues/21755 */display: inline-block !important;position: relative;}#sk-container-id-3 div.sk-text-repr-fallback {display: none;}</style><div id=\"sk-container-id-3\" class=\"sk-top-container\"><div class=\"sk-text-repr-fallback\"><pre>LinearRegression()</pre><b>In a Jupyter environment, please rerun this cell to show the HTML representation or trust the notebook. <br />On GitHub, the HTML representation is unable to render, please try loading this page with nbviewer.org.</b></div><div class=\"sk-container\" hidden><div class=\"sk-item\"><div class=\"sk-estimator sk-toggleable\"><input class=\"sk-toggleable__control sk-hidden--visually\" id=\"sk-estimator-id-3\" type=\"checkbox\" checked><label for=\"sk-estimator-id-3\" class=\"sk-toggleable__label sk-toggleable__label-arrow\">LinearRegression</label><div class=\"sk-toggleable__content\"><pre>LinearRegression()</pre></div></div></div></div></div>"
      ],
      "text/plain": [
       "LinearRegression()"
      ]
     },
     "execution_count": 49,
     "metadata": {},
     "output_type": "execute_result"
    }
   ],
   "source": [
    "# Run and fit the regression.\n",
    "\n",
    "regression = LinearRegression()  \n",
    "regression.fit(X_train_2, y_train_2)"
   ]
  },
  {
   "cell_type": "code",
   "execution_count": 50,
   "id": "7cadab71",
   "metadata": {},
   "outputs": [],
   "source": [
    "# Predict.\n",
    "\n",
    "y_predicted_2 = regression.predict(X_test_2)"
   ]
  },
  {
   "cell_type": "code",
   "execution_count": 51,
   "id": "4ee3e85a",
   "metadata": {},
   "outputs": [],
   "source": [
    " # Create objects that contain the model summary statistics.\n",
    "rmse = mean_squared_error(y_test_2, y_predicted_2)\n",
    "r2 = r2_score(y_test_2, y_predicted_2)"
   ]
  },
  {
   "cell_type": "code",
   "execution_count": 52,
   "id": "d7b96c77",
   "metadata": {},
   "outputs": [
    {
     "name": "stdout",
     "output_type": "stream",
     "text": [
      "Slope: [[7918.84366738]]\n",
      "Mean squared error:  61370928459.160645\n",
      "R2 score:  0.028238054273712954\n"
     ]
    }
   ],
   "source": [
    "# Print the model summary statistics. This is where you evaluate the performance of the model.\n",
    "print('Slope:' ,regression.coef_)\n",
    "print('Mean squared error: ', rmse)\n",
    "print('R2 score: ', r2)"
   ]
  },
  {
   "cell_type": "code",
   "execution_count": 53,
   "id": "d0d22f1c",
   "metadata": {},
   "outputs": [
    {
     "data": {
      "image/png": "[encoded data removed]",
      "text/plain": [
       "<Figure size 640x480 with 1 Axes>"
      ]
     },
     "metadata": {},
     "output_type": "display_data"
    }
   ],
   "source": [
    "# Visualizing the test set results.\n",
    "plot_test = plt\n",
    "plot_test.scatter(X_test_2, y_test_2, color='gray', s = 15)\n",
    "plot_test.plot(X_test_2, y_predicted_2, color='red', linewidth =3)\n",
    "plot_test.title('Age vs CustAccountBalance (Test set)')\n",
    "plot_test.xlabel('Age')\n",
    "plot_test.ylabel('CustAccountBalance')\n",
    "plot_test.show()"
   ]
  },
  {
   "cell_type": "code",
   "execution_count": 54,
   "id": "bdcd4129",
   "metadata": {},
   "outputs": [
    {
     "data": {
      "text/html": [
       "<div>\n",
       "<style scoped>\n",
       "    .dataframe tbody tr th:only-of-type {\n",
       "        vertical-align: middle;\n",
       "    }\n",
       "\n",
       "    .dataframe tbody tr th {\n",
       "        vertical-align: top;\n",
       "    }\n",
       "\n",
       "    .dataframe thead th {\n",
       "        text-align: right;\n",
       "    }\n",
       "</style>\n",
       "<table border=\"1\" class=\"dataframe\">\n",
       "  <thead>\n",
       "    <tr style=\"text-align: right;\">\n",
       "      <th></th>\n",
       "      <th>Actual</th>\n",
       "      <th>Predicted</th>\n",
       "    </tr>\n",
       "  </thead>\n",
       "  <tbody>\n",
       "    <tr>\n",
       "      <th>0</th>\n",
       "      <td>21804.85</td>\n",
       "      <td>25438.321751</td>\n",
       "    </tr>\n",
       "    <tr>\n",
       "      <th>1</th>\n",
       "      <td>56202.21</td>\n",
       "      <td>104626.758425</td>\n",
       "    </tr>\n",
       "    <tr>\n",
       "      <th>2</th>\n",
       "      <td>6.30</td>\n",
       "      <td>33357.165419</td>\n",
       "    </tr>\n",
       "    <tr>\n",
       "      <th>3</th>\n",
       "      <td>56491.99</td>\n",
       "      <td>72951.383756</td>\n",
       "    </tr>\n",
       "    <tr>\n",
       "      <th>4</th>\n",
       "      <td>1932.62</td>\n",
       "      <td>49194.852753</td>\n",
       "    </tr>\n",
       "    <tr>\n",
       "      <th>5</th>\n",
       "      <td>16788.32</td>\n",
       "      <td>104626.758425</td>\n",
       "    </tr>\n",
       "    <tr>\n",
       "      <th>6</th>\n",
       "      <td>7539.95</td>\n",
       "      <td>72951.383756</td>\n",
       "    </tr>\n",
       "    <tr>\n",
       "      <th>7</th>\n",
       "      <td>50514.35</td>\n",
       "      <td>152139.820429</td>\n",
       "    </tr>\n",
       "    <tr>\n",
       "      <th>8</th>\n",
       "      <td>5870.18</td>\n",
       "      <td>57113.696421</td>\n",
       "    </tr>\n",
       "    <tr>\n",
       "      <th>9</th>\n",
       "      <td>68593.23</td>\n",
       "      <td>160058.664097</td>\n",
       "    </tr>\n",
       "    <tr>\n",
       "      <th>10</th>\n",
       "      <td>10964.81</td>\n",
       "      <td>120464.445760</td>\n",
       "    </tr>\n",
       "    <tr>\n",
       "      <th>11</th>\n",
       "      <td>7457.57</td>\n",
       "      <td>80870.227423</td>\n",
       "    </tr>\n",
       "    <tr>\n",
       "      <th>12</th>\n",
       "      <td>5098.70</td>\n",
       "      <td>65032.540088</td>\n",
       "    </tr>\n",
       "    <tr>\n",
       "      <th>13</th>\n",
       "      <td>21742.20</td>\n",
       "      <td>41276.009086</td>\n",
       "    </tr>\n",
       "    <tr>\n",
       "      <th>14</th>\n",
       "      <td>13952.73</td>\n",
       "      <td>57113.696421</td>\n",
       "    </tr>\n",
       "    <tr>\n",
       "      <th>15</th>\n",
       "      <td>3375.21</td>\n",
       "      <td>1681.790749</td>\n",
       "    </tr>\n",
       "    <tr>\n",
       "      <th>16</th>\n",
       "      <td>6195.20</td>\n",
       "      <td>167977.507764</td>\n",
       "    </tr>\n",
       "    <tr>\n",
       "      <th>17</th>\n",
       "      <td>13144.90</td>\n",
       "      <td>49194.852753</td>\n",
       "    </tr>\n",
       "    <tr>\n",
       "      <th>18</th>\n",
       "      <td>136838.23</td>\n",
       "      <td>17519.478084</td>\n",
       "    </tr>\n",
       "    <tr>\n",
       "      <th>19</th>\n",
       "      <td>1910.72</td>\n",
       "      <td>80870.227423</td>\n",
       "    </tr>\n",
       "    <tr>\n",
       "      <th>20</th>\n",
       "      <td>235202.11</td>\n",
       "      <td>88789.071090</td>\n",
       "    </tr>\n",
       "    <tr>\n",
       "      <th>21</th>\n",
       "      <td>851744.64</td>\n",
       "      <td>128383.289427</td>\n",
       "    </tr>\n",
       "    <tr>\n",
       "      <th>22</th>\n",
       "      <td>39215.52</td>\n",
       "      <td>144220.976762</td>\n",
       "    </tr>\n",
       "    <tr>\n",
       "      <th>23</th>\n",
       "      <td>14910.66</td>\n",
       "      <td>80870.227423</td>\n",
       "    </tr>\n",
       "    <tr>\n",
       "      <th>24</th>\n",
       "      <td>902.02</td>\n",
       "      <td>120464.445760</td>\n",
       "    </tr>\n",
       "    <tr>\n",
       "      <th>25</th>\n",
       "      <td>299360.60</td>\n",
       "      <td>128383.289427</td>\n",
       "    </tr>\n",
       "    <tr>\n",
       "      <th>26</th>\n",
       "      <td>60238.38</td>\n",
       "      <td>41276.009086</td>\n",
       "    </tr>\n",
       "    <tr>\n",
       "      <th>27</th>\n",
       "      <td>497660.81</td>\n",
       "      <td>72951.383756</td>\n",
       "    </tr>\n",
       "    <tr>\n",
       "      <th>28</th>\n",
       "      <td>14974.66</td>\n",
       "      <td>49194.852753</td>\n",
       "    </tr>\n",
       "    <tr>\n",
       "      <th>29</th>\n",
       "      <td>15510.46</td>\n",
       "      <td>120464.445760</td>\n",
       "    </tr>\n",
       "  </tbody>\n",
       "</table>\n",
       "</div>"
      ],
      "text/plain": [
       "       Actual      Predicted\n",
       "0    21804.85   25438.321751\n",
       "1    56202.21  104626.758425\n",
       "2        6.30   33357.165419\n",
       "3    56491.99   72951.383756\n",
       "4     1932.62   49194.852753\n",
       "5    16788.32  104626.758425\n",
       "6     7539.95   72951.383756\n",
       "7    50514.35  152139.820429\n",
       "8     5870.18   57113.696421\n",
       "9    68593.23  160058.664097\n",
       "10   10964.81  120464.445760\n",
       "11    7457.57   80870.227423\n",
       "12    5098.70   65032.540088\n",
       "13   21742.20   41276.009086\n",
       "14   13952.73   57113.696421\n",
       "15    3375.21    1681.790749\n",
       "16    6195.20  167977.507764\n",
       "17   13144.90   49194.852753\n",
       "18  136838.23   17519.478084\n",
       "19    1910.72   80870.227423\n",
       "20  235202.11   88789.071090\n",
       "21  851744.64  128383.289427\n",
       "22   39215.52  144220.976762\n",
       "23   14910.66   80870.227423\n",
       "24     902.02  120464.445760\n",
       "25  299360.60  128383.289427\n",
       "26   60238.38   41276.009086\n",
       "27  497660.81   72951.383756\n",
       "28   14974.66   49194.852753\n",
       "29   15510.46  120464.445760"
      ]
     },
     "execution_count": 54,
     "metadata": {},
     "output_type": "execute_result"
    }
   ],
   "source": [
    "data = pd.DataFrame({'Actual': y_test_2.flatten(), 'Predicted': y_predicted_2.flatten()})\n",
    "data.head(30)"
   ]
  },
  {
   "cell_type": "markdown",
   "id": "d96b34db",
   "metadata": {},
   "source": [
    "## There is a positive correlation between age and customer account balance, as seen here as well, but due to the MSE & R2 score value, this model is not suitable for making predictions."
   ]
  },
  {
   "cell_type": "markdown",
   "id": "c76a546d",
   "metadata": {},
   "source": [
    "# 3.2 Data prep for regression analysis - Age Vs TransactionAmount (INR)"
   ]
  },
  {
   "cell_type": "code",
   "execution_count": 63,
   "id": "0b75bffc",
   "metadata": {},
   "outputs": [
    {
     "data": {
      "image/png": "[encoded data removed]",
      "text/plain": [
       "<Figure size 640x480 with 1 Axes>"
      ]
     },
     "metadata": {},
     "output_type": "display_data"
    }
   ],
   "source": [
    "# Create a scatterplot using matplotlib for another look at how the chosen variables plot against each other.\n",
    "\n",
    "df_bank_age.plot(x = 'Age', y='TransactionAmount (INR)',style='o') # The style option creates a scatterplot; without it, we only have lines.\n",
    "plt.title('Age Vs TransactionAmount (INR)')  \n",
    "plt.xlabel('Age')  \n",
    "plt.ylabel('TransactionAmount (INR)')  \n",
    "plt.show()"
   ]
  },
  {
   "cell_type": "code",
   "execution_count": 64,
   "id": "68bd049b",
   "metadata": {},
   "outputs": [],
   "source": [
    "# Reshape the variables into NumPy arrays and put them into separate objects.\n",
    "\n",
    "X1 = df_bank_age['Age'].values.reshape(-1,1)\n",
    "y1 = df_bank_age['TransactionAmount (INR)'].values.reshape(-1,1)"
   ]
  },
  {
   "cell_type": "code",
   "execution_count": 65,
   "id": "6bbe909e",
   "metadata": {},
   "outputs": [
    {
     "data": {
      "text/plain": [
       "array([[26],\n",
       "       [50],\n",
       "       [35],\n",
       "       ...,\n",
       "       [33],\n",
       "       [34],\n",
       "       [39]], dtype=int64)"
      ]
     },
     "execution_count": 65,
     "metadata": {},
     "output_type": "execute_result"
    }
   ],
   "source": [
    "X1"
   ]
  },
  {
   "cell_type": "code",
   "execution_count": 66,
   "id": "8f331b48",
   "metadata": {},
   "outputs": [
    {
     "data": {
      "text/plain": [
       "array([[ 459. ],\n",
       "       [2060. ],\n",
       "       [1762.5],\n",
       "       ...,\n",
       "       [ 799. ],\n",
       "       [ 770. ],\n",
       "       [1166. ]])"
      ]
     },
     "execution_count": 66,
     "metadata": {},
     "output_type": "execute_result"
    }
   ],
   "source": [
    "y1"
   ]
  },
  {
   "cell_type": "code",
   "execution_count": 67,
   "id": "df4437e5",
   "metadata": {},
   "outputs": [],
   "source": [
    "# Split data into a training set and a test set.\n",
    "\n",
    "X1_train, X1_test, y1_train, y1_test = train_test_split(X1, y1, test_size=0.3, random_state=0)"
   ]
  },
  {
   "cell_type": "markdown",
   "id": "8864e6f6",
   "metadata": {},
   "source": [
    "# 4.1 Regression Analysis=Age Vs TransactionAmount (INR)"
   ]
  },
  {
   "cell_type": "code",
   "execution_count": 68,
   "id": "40776e1c",
   "metadata": {},
   "outputs": [],
   "source": [
    "# Create a regression object.\n",
    "\n",
    "regression1 = LinearRegression()  # This is the regression object, which will be fit onto the training set."
   ]
  },
  {
   "cell_type": "code",
   "execution_count": 69,
   "id": "32b5bd61",
   "metadata": {},
   "outputs": [
    {
     "data": {
      "text/html": [
       "<style>#sk-container-id-4 {color: black;background-color: white;}#sk-container-id-4 pre{padding: 0;}#sk-container-id-4 div.sk-toggleable {background-color: white;}#sk-container-id-4 label.sk-toggleable__label {cursor: pointer;display: block;width: 100%;margin-bottom: 0;padding: 0.3em;box-sizing: border-box;text-align: center;}#sk-container-id-4 label.sk-toggleable__label-arrow:before {content: \"▸\";float: left;margin-right: 0.25em;color: #696969;}#sk-container-id-4 label.sk-toggleable__label-arrow:hover:before {color: black;}#sk-container-id-4 div.sk-estimator:hover label.sk-toggleable__label-arrow:before {color: black;}#sk-container-id-4 div.sk-toggleable__content {max-height: 0;max-width: 0;overflow: hidden;text-align: left;background-color: #f0f8ff;}#sk-container-id-4 div.sk-toggleable__content pre {margin: 0.2em;color: black;border-radius: 0.25em;background-color: #f0f8ff;}#sk-container-id-4 input.sk-toggleable__control:checked~div.sk-toggleable__content {max-height: 200px;max-width: 100%;overflow: auto;}#sk-container-id-4 input.sk-toggleable__control:checked~label.sk-toggleable__label-arrow:before {content: \"▾\";}#sk-container-id-4 div.sk-estimator input.sk-toggleable__control:checked~label.sk-toggleable__label {background-color: #d4ebff;}#sk-container-id-4 div.sk-label input.sk-toggleable__control:checked~label.sk-toggleable__label {background-color: #d4ebff;}#sk-container-id-4 input.sk-hidden--visually {border: 0;clip: rect(1px 1px 1px 1px);clip: rect(1px, 1px, 1px, 1px);height: 1px;margin: -1px;overflow: hidden;padding: 0;position: absolute;width: 1px;}#sk-container-id-4 div.sk-estimator {font-family: monospace;background-color: #f0f8ff;border: 1px dotted black;border-radius: 0.25em;box-sizing: border-box;margin-bottom: 0.5em;}#sk-container-id-4 div.sk-estimator:hover {background-color: #d4ebff;}#sk-container-id-4 div.sk-parallel-item::after {content: \"\";width: 100%;border-bottom: 1px solid gray;flex-grow: 1;}#sk-container-id-4 div.sk-label:hover label.sk-toggleable__label {background-color: #d4ebff;}#sk-container-id-4 div.sk-serial::before {content: \"\";position: absolute;border-left: 1px solid gray;box-sizing: border-box;top: 0;bottom: 0;left: 50%;z-index: 0;}#sk-container-id-4 div.sk-serial {display: flex;flex-direction: column;align-items: center;background-color: white;padding-right: 0.2em;padding-left: 0.2em;position: relative;}#sk-container-id-4 div.sk-item {position: relative;z-index: 1;}#sk-container-id-4 div.sk-parallel {display: flex;align-items: stretch;justify-content: center;background-color: white;position: relative;}#sk-container-id-4 div.sk-item::before, #sk-container-id-4 div.sk-parallel-item::before {content: \"\";position: absolute;border-left: 1px solid gray;box-sizing: border-box;top: 0;bottom: 0;left: 50%;z-index: -1;}#sk-container-id-4 div.sk-parallel-item {display: flex;flex-direction: column;z-index: 1;position: relative;background-color: white;}#sk-container-id-4 div.sk-parallel-item:first-child::after {align-self: flex-end;width: 50%;}#sk-container-id-4 div.sk-parallel-item:last-child::after {align-self: flex-start;width: 50%;}#sk-container-id-4 div.sk-parallel-item:only-child::after {width: 0;}#sk-container-id-4 div.sk-dashed-wrapped {border: 1px dashed gray;margin: 0 0.4em 0.5em 0.4em;box-sizing: border-box;padding-bottom: 0.4em;background-color: white;}#sk-container-id-4 div.sk-label label {font-family: monospace;font-weight: bold;display: inline-block;line-height: 1.2em;}#sk-container-id-4 div.sk-label-container {text-align: center;}#sk-container-id-4 div.sk-container {/* jupyter's `normalize.less` sets `[hidden] { display: none; }` but bootstrap.min.css set `[hidden] { display: none !important; }` so we also need the `!important` here to be able to override the default hidden behavior on the sphinx rendered scikit-learn.org. See: https://github.com/scikit-learn/scikit-learn/issues/21755 */display: inline-block !important;position: relative;}#sk-container-id-4 div.sk-text-repr-fallback {display: none;}</style><div id=\"sk-container-id-4\" class=\"sk-top-container\"><div class=\"sk-text-repr-fallback\"><pre>LinearRegression()</pre><b>In a Jupyter environment, please rerun this cell to show the HTML representation or trust the notebook. <br />On GitHub, the HTML representation is unable to render, please try loading this page with nbviewer.org.</b></div><div class=\"sk-container\" hidden><div class=\"sk-item\"><div class=\"sk-estimator sk-toggleable\"><input class=\"sk-toggleable__control sk-hidden--visually\" id=\"sk-estimator-id-4\" type=\"checkbox\" checked><label for=\"sk-estimator-id-4\" class=\"sk-toggleable__label sk-toggleable__label-arrow\">LinearRegression</label><div class=\"sk-toggleable__content\"><pre>LinearRegression()</pre></div></div></div></div></div>"
      ],
      "text/plain": [
       "LinearRegression()"
      ]
     },
     "execution_count": 69,
     "metadata": {},
     "output_type": "execute_result"
    }
   ],
   "source": [
    "# Fit the regression object onto the training set.\n",
    "\n",
    "regression1.fit(X1_train, y1_train)"
   ]
  },
  {
   "cell_type": "code",
   "execution_count": 70,
   "id": "822aee5c",
   "metadata": {},
   "outputs": [],
   "source": [
    "# Predict the values of y1 using X1.\n",
    "\n",
    "y1_predicted = regression.predict(X1_test)"
   ]
  },
  {
   "cell_type": "code",
   "execution_count": 71,
   "id": "57917d8b",
   "metadata": {},
   "outputs": [
    {
     "data": {
      "image/png": "[encoded data removed]",
      "text/plain": [
       "<Figure size 640x480 with 1 Axes>"
      ]
     },
     "metadata": {},
     "output_type": "display_data"
    }
   ],
   "source": [
    "# Create a plot that shows the regression line from the model on the test set.\n",
    "\n",
    "plot_test1 = plt\n",
    "plot_test1.scatter(X1_test, y1_test, color='gray', s = 15)\n",
    "plot_test1.plot(X1_test, y1_predicted, color='red', linewidth =3)\n",
    "plot_test1.title('Age Vs TransactionAmount (INR) (Test set)')\n",
    "plot_test1.xlabel('Age')\n",
    "plot_test1.ylabel('TransactionAmount (INR)')\n",
    "plot_test1.show()"
   ]
  },
  {
   "cell_type": "code",
   "execution_count": 72,
   "id": "e1a2fd1e",
   "metadata": {},
   "outputs": [],
   "source": [
    "# Create objects that contain the model summary statistics.\n",
    "\n",
    "rmse = mean_squared_error(y1_test, y1_predicted) # This is the mean squared error\n",
    "r2 = r2_score(y1_test, y1_predicted) # This is the R2 score."
   ]
  },
  {
   "cell_type": "code",
   "execution_count": 73,
   "id": "394765bc",
   "metadata": {},
   "outputs": [
    {
     "name": "stdout",
     "output_type": "stream",
     "text": [
      "Slope: [[7918.84366738]]\n",
      "Mean squared error:  8660342000.536896\n",
      "R2 score:  -255.27697573129564\n"
     ]
    }
   ],
   "source": [
    "# Print the model summary statistics. This is where you evaluate the performance of the model.\n",
    "\n",
    "print('Slope:' ,regression.coef_)\n",
    "print('Mean squared error: ', rmse)\n",
    "print('R2 score: ', r2)"
   ]
  },
  {
   "cell_type": "code",
   "execution_count": 74,
   "id": "28d95404",
   "metadata": {},
   "outputs": [
    {
     "data": {
      "text/plain": [
       "array([[187728.27589527],\n",
       "       [118848.26656543],\n",
       "       [ 99168.26389976],\n",
       "       ...,\n",
       "       [ 99168.26389976],\n",
       "       [ 10608.25190424],\n",
       "       [187728.27589527]])"
      ]
     },
     "execution_count": 74,
     "metadata": {},
     "output_type": "execute_result"
    }
   ],
   "source": [
    "y_predicted"
   ]
  },
  {
   "cell_type": "code",
   "execution_count": 76,
   "id": "7f3cb935",
   "metadata": {},
   "outputs": [
    {
     "data": {
      "text/html": [
       "<div>\n",
       "<style scoped>\n",
       "    .dataframe tbody tr th:only-of-type {\n",
       "        vertical-align: middle;\n",
       "    }\n",
       "\n",
       "    .dataframe tbody tr th {\n",
       "        vertical-align: top;\n",
       "    }\n",
       "\n",
       "    .dataframe thead th {\n",
       "        text-align: right;\n",
       "    }\n",
       "</style>\n",
       "<table border=\"1\" class=\"dataframe\">\n",
       "  <thead>\n",
       "    <tr style=\"text-align: right;\">\n",
       "      <th></th>\n",
       "      <th>Actual</th>\n",
       "      <th>Predicted</th>\n",
       "    </tr>\n",
       "  </thead>\n",
       "  <tbody>\n",
       "    <tr>\n",
       "      <th>0</th>\n",
       "      <td>1583.50</td>\n",
       "      <td>160058.664097</td>\n",
       "    </tr>\n",
       "    <tr>\n",
       "      <th>1</th>\n",
       "      <td>1100.00</td>\n",
       "      <td>104626.758425</td>\n",
       "    </tr>\n",
       "    <tr>\n",
       "      <th>2</th>\n",
       "      <td>1000.00</td>\n",
       "      <td>88789.071090</td>\n",
       "    </tr>\n",
       "    <tr>\n",
       "      <th>3</th>\n",
       "      <td>125.00</td>\n",
       "      <td>120464.445760</td>\n",
       "    </tr>\n",
       "    <tr>\n",
       "      <th>4</th>\n",
       "      <td>190.00</td>\n",
       "      <td>57113.696421</td>\n",
       "    </tr>\n",
       "    <tr>\n",
       "      <th>5</th>\n",
       "      <td>5943.00</td>\n",
       "      <td>191734.038766</td>\n",
       "    </tr>\n",
       "    <tr>\n",
       "      <th>6</th>\n",
       "      <td>559.00</td>\n",
       "      <td>80870.227423</td>\n",
       "    </tr>\n",
       "    <tr>\n",
       "      <th>7</th>\n",
       "      <td>175.00</td>\n",
       "      <td>49194.852753</td>\n",
       "    </tr>\n",
       "    <tr>\n",
       "      <th>8</th>\n",
       "      <td>270.00</td>\n",
       "      <td>120464.445760</td>\n",
       "    </tr>\n",
       "    <tr>\n",
       "      <th>9</th>\n",
       "      <td>499.00</td>\n",
       "      <td>96707.914758</td>\n",
       "    </tr>\n",
       "    <tr>\n",
       "      <th>10</th>\n",
       "      <td>804.00</td>\n",
       "      <td>49194.852753</td>\n",
       "    </tr>\n",
       "    <tr>\n",
       "      <th>11</th>\n",
       "      <td>342.00</td>\n",
       "      <td>112545.602093</td>\n",
       "    </tr>\n",
       "    <tr>\n",
       "      <th>12</th>\n",
       "      <td>1691.00</td>\n",
       "      <td>65032.540088</td>\n",
       "    </tr>\n",
       "    <tr>\n",
       "      <th>13</th>\n",
       "      <td>1625.50</td>\n",
       "      <td>80870.227423</td>\n",
       "    </tr>\n",
       "    <tr>\n",
       "      <th>14</th>\n",
       "      <td>1709.00</td>\n",
       "      <td>17519.478084</td>\n",
       "    </tr>\n",
       "    <tr>\n",
       "      <th>15</th>\n",
       "      <td>1221.68</td>\n",
       "      <td>80870.227423</td>\n",
       "    </tr>\n",
       "    <tr>\n",
       "      <th>16</th>\n",
       "      <td>432.00</td>\n",
       "      <td>65032.540088</td>\n",
       "    </tr>\n",
       "    <tr>\n",
       "      <th>17</th>\n",
       "      <td>100.00</td>\n",
       "      <td>88789.071090</td>\n",
       "    </tr>\n",
       "    <tr>\n",
       "      <th>18</th>\n",
       "      <td>520.30</td>\n",
       "      <td>80870.227423</td>\n",
       "    </tr>\n",
       "    <tr>\n",
       "      <th>19</th>\n",
       "      <td>519.96</td>\n",
       "      <td>112545.602093</td>\n",
       "    </tr>\n",
       "    <tr>\n",
       "      <th>20</th>\n",
       "      <td>201.00</td>\n",
       "      <td>25438.321751</td>\n",
       "    </tr>\n",
       "    <tr>\n",
       "      <th>21</th>\n",
       "      <td>850.00</td>\n",
       "      <td>175896.351432</td>\n",
       "    </tr>\n",
       "    <tr>\n",
       "      <th>22</th>\n",
       "      <td>54.00</td>\n",
       "      <td>57113.696421</td>\n",
       "    </tr>\n",
       "    <tr>\n",
       "      <th>23</th>\n",
       "      <td>300.00</td>\n",
       "      <td>112545.602093</td>\n",
       "    </tr>\n",
       "    <tr>\n",
       "      <th>24</th>\n",
       "      <td>949.20</td>\n",
       "      <td>65032.540088</td>\n",
       "    </tr>\n",
       "    <tr>\n",
       "      <th>25</th>\n",
       "      <td>100.00</td>\n",
       "      <td>65032.540088</td>\n",
       "    </tr>\n",
       "    <tr>\n",
       "      <th>26</th>\n",
       "      <td>50.00</td>\n",
       "      <td>104626.758425</td>\n",
       "    </tr>\n",
       "    <tr>\n",
       "      <th>27</th>\n",
       "      <td>1000.00</td>\n",
       "      <td>96707.914758</td>\n",
       "    </tr>\n",
       "    <tr>\n",
       "      <th>28</th>\n",
       "      <td>1700.00</td>\n",
       "      <td>96707.914758</td>\n",
       "    </tr>\n",
       "    <tr>\n",
       "      <th>29</th>\n",
       "      <td>120.00</td>\n",
       "      <td>17519.478084</td>\n",
       "    </tr>\n",
       "  </tbody>\n",
       "</table>\n",
       "</div>"
      ],
      "text/plain": [
       "     Actual      Predicted\n",
       "0   1583.50  160058.664097\n",
       "1   1100.00  104626.758425\n",
       "2   1000.00   88789.071090\n",
       "3    125.00  120464.445760\n",
       "4    190.00   57113.696421\n",
       "5   5943.00  191734.038766\n",
       "6    559.00   80870.227423\n",
       "7    175.00   49194.852753\n",
       "8    270.00  120464.445760\n",
       "9    499.00   96707.914758\n",
       "10   804.00   49194.852753\n",
       "11   342.00  112545.602093\n",
       "12  1691.00   65032.540088\n",
       "13  1625.50   80870.227423\n",
       "14  1709.00   17519.478084\n",
       "15  1221.68   80870.227423\n",
       "16   432.00   65032.540088\n",
       "17   100.00   88789.071090\n",
       "18   520.30   80870.227423\n",
       "19   519.96  112545.602093\n",
       "20   201.00   25438.321751\n",
       "21   850.00  175896.351432\n",
       "22    54.00   57113.696421\n",
       "23   300.00  112545.602093\n",
       "24   949.20   65032.540088\n",
       "25   100.00   65032.540088\n",
       "26    50.00  104626.758425\n",
       "27  1000.00   96707.914758\n",
       "28  1700.00   96707.914758\n",
       "29   120.00   17519.478084"
      ]
     },
     "execution_count": 76,
     "metadata": {},
     "output_type": "execute_result"
    }
   ],
   "source": [
    "# Create a dataframe comparing the actual and predicted values of y.\n",
    "\n",
    "data = pd.DataFrame({'Actual': y1_test.flatten(), 'Predicted': y1_predicted.flatten()})\n",
    "data.head(30)"
   ]
  },
  {
   "cell_type": "markdown",
   "id": "e3fbb5ce",
   "metadata": {},
   "source": [
    "#### Here the model is not a good fit.Most of the datapoints are far from the trend line, which indicates that there are not a linear relationship between both variables.\n",
    "#### The MSE is large(Regression may not be the best model) and the R2 score is -ve (not a good fit) .\n",
    "#### The slope is 7918 indicating  the positive relationship between Age and TransactionAmount (INR).ie when Age increases then the Transaction amount also increases\n",
    "#### There is difference between the actual and predicted y values"
   ]
  },
  {
   "cell_type": "markdown",
   "id": "a1763e39",
   "metadata": {},
   "source": [
    "### Compare how the regression fits the training set"
   ]
  },
  {
   "cell_type": "code",
   "execution_count": 79,
   "id": "23c44507",
   "metadata": {},
   "outputs": [],
   "source": [
    "# Predict.\n",
    "\n",
    "y1_predicted_train = regression.predict(X1_train) # This is predicting X_train!"
   ]
  },
  {
   "cell_type": "code",
   "execution_count": 80,
   "id": "3913d79d",
   "metadata": {},
   "outputs": [],
   "source": [
    "rmse = mean_squared_error(y1_train, y1_predicted_train)\n",
    "r2 = r2_score(y1_train, y1_predicted_train)"
   ]
  },
  {
   "cell_type": "code",
   "execution_count": 81,
   "id": "76366f32",
   "metadata": {},
   "outputs": [
    {
     "name": "stdout",
     "output_type": "stream",
     "text": [
      "Slope: [[7918.84366738]]\n",
      "Mean squared error:  8657042272.64877\n",
      "R2 score:  -259.474342962711\n"
     ]
    }
   ],
   "source": [
    "print('Slope:' ,regression.coef_)\n",
    "print('Mean squared error: ', rmse)\n",
    "print('R2 score: ', r2)"
   ]
  },
  {
   "cell_type": "code",
   "execution_count": 83,
   "id": "bb18a73f",
   "metadata": {},
   "outputs": [
    {
     "data": {
      "image/png": "[encoded data removed]",
      "text/plain": [
       "<Figure size 640x480 with 1 Axes>"
      ]
     },
     "metadata": {},
     "output_type": "display_data"
    }
   ],
   "source": [
    "# Visualizing the training set results.\n",
    "\n",
    "plot_test = plt\n",
    "plot_test.scatter(X1_train, y1_train, color='green', s = 15)\n",
    "plot_test.plot(X1_train, y1_predicted_train, color='red', linewidth =3)\n",
    "plot_test.title('Age Vs TransactionAmount (INR) (Train set)')\n",
    "plot_test.xlabel('Age')\n",
    "plot_test.ylabel('TransactionAmount (INR)')\n",
    "plot_test.show()"
   ]
  },
  {
   "cell_type": "markdown",
   "id": "a2c4cf23",
   "metadata": {},
   "source": [
    "## There is a positive correlation between age and TransactionAmount, as seen here as well, but due to the MSE & R2 score value, this model is not suitable for making predictions."
   ]
  },
  {
   "cell_type": "code",
   "execution_count": null,
   "id": "80be19de",
   "metadata": {},
   "outputs": [],
   "source": []
  }
 ],
 "metadata": {
  "kernelspec": {
   "display_name": "Python 3 (ipykernel)",
   "language": "python",
   "name": "python3"
  },
  "language_info": {
   "codemirror_mode": {
    "name": "ipython",
    "version": 3
   },
   "file_extension": ".py",
   "mimetype": "text/x-python",
   "name": "python",
   "nbconvert_exporter": "python",
   "pygments_lexer": "ipython3",
   "version": "3.10.9"
  }
 },
 "nbformat": 4,
 "nbformat_minor": 5
}
