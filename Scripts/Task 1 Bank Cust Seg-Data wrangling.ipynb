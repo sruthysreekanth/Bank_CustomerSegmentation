{
 "cells": [
  {
   "cell_type": "markdown",
   "id": "2f72e213",
   "metadata": {},
   "source": [
    "# Bank Customer Segmentation"
   ]
  },
  {
   "cell_type": "markdown",
   "id": "5d9fb759",
   "metadata": {},
   "source": [
    "# 01 Importing Libraries"
   ]
  },
  {
   "cell_type": "code",
   "execution_count": 2,
   "id": "89fbd1db",
   "metadata": {},
   "outputs": [],
   "source": [
    "import pandas as pd\n",
    "import numpy as np\n",
    "import os\n",
    "from datetime import datetime\n"
   ]
  },
  {
   "cell_type": "markdown",
   "id": "485d3b59",
   "metadata": {},
   "source": [
    "# 02 Importing Dataset"
   ]
  },
  {
   "cell_type": "code",
   "execution_count": 2,
   "id": "991529f9",
   "metadata": {},
   "outputs": [],
   "source": [
    "path=r'C:\\Users\\sruth\\OneDrive\\Desktop\\Career Foundry\\Data Immersion\\A6-Advanced Analytics & Dashboard design\\6.1 Sourcing open data'"
   ]
  },
  {
   "cell_type": "code",
   "execution_count": 3,
   "id": "9661c0bb",
   "metadata": {},
   "outputs": [],
   "source": [
    "df_bank=pd.read_csv(os.path.join(path,'Data','Original Data','bank_transactions.csv'))"
   ]
  },
  {
   "cell_type": "markdown",
   "id": "e422f46b",
   "metadata": {},
   "source": [
    "# 03 Exploratory Data Analysis"
   ]
  },
  {
   "cell_type": "code",
   "execution_count": 4,
   "id": "00dc0034",
   "metadata": {},
   "outputs": [
    {
     "data": {
      "text/plain": [
       "(1048567, 9)"
      ]
     },
     "execution_count": 4,
     "metadata": {},
     "output_type": "execute_result"
    }
   ],
   "source": [
    "df_bank.shape"
   ]
  },
  {
   "cell_type": "code",
   "execution_count": 5,
   "id": "19a67b54",
   "metadata": {},
   "outputs": [
    {
     "data": {
      "text/html": [
       "<div>\n",
       "<style scoped>\n",
       "    .dataframe tbody tr th:only-of-type {\n",
       "        vertical-align: middle;\n",
       "    }\n",
       "\n",
       "    .dataframe tbody tr th {\n",
       "        vertical-align: top;\n",
       "    }\n",
       "\n",
       "    .dataframe thead th {\n",
       "        text-align: right;\n",
       "    }\n",
       "</style>\n",
       "<table border=\"1\" class=\"dataframe\">\n",
       "  <thead>\n",
       "    <tr style=\"text-align: right;\">\n",
       "      <th></th>\n",
       "      <th>TransactionID</th>\n",
       "      <th>CustomerID</th>\n",
       "      <th>CustomerDOB</th>\n",
       "      <th>CustGender</th>\n",
       "      <th>CustLocation</th>\n",
       "      <th>CustAccountBalance</th>\n",
       "      <th>TransactionDate</th>\n",
       "      <th>TransactionTime</th>\n",
       "      <th>TransactionAmount (INR)</th>\n",
       "    </tr>\n",
       "  </thead>\n",
       "  <tbody>\n",
       "    <tr>\n",
       "      <th>0</th>\n",
       "      <td>T1</td>\n",
       "      <td>C5841053</td>\n",
       "      <td>10/1/94</td>\n",
       "      <td>F</td>\n",
       "      <td>JAMSHEDPUR</td>\n",
       "      <td>17819.05</td>\n",
       "      <td>2/8/16</td>\n",
       "      <td>143207</td>\n",
       "      <td>25.00</td>\n",
       "    </tr>\n",
       "    <tr>\n",
       "      <th>1</th>\n",
       "      <td>T2</td>\n",
       "      <td>C2142763</td>\n",
       "      <td>4/4/57</td>\n",
       "      <td>M</td>\n",
       "      <td>JHAJJAR</td>\n",
       "      <td>2270.69</td>\n",
       "      <td>2/8/16</td>\n",
       "      <td>141858</td>\n",
       "      <td>27999.00</td>\n",
       "    </tr>\n",
       "    <tr>\n",
       "      <th>2</th>\n",
       "      <td>T3</td>\n",
       "      <td>C4417068</td>\n",
       "      <td>26/11/96</td>\n",
       "      <td>F</td>\n",
       "      <td>MUMBAI</td>\n",
       "      <td>17874.44</td>\n",
       "      <td>2/8/16</td>\n",
       "      <td>142712</td>\n",
       "      <td>459.00</td>\n",
       "    </tr>\n",
       "    <tr>\n",
       "      <th>3</th>\n",
       "      <td>T4</td>\n",
       "      <td>C5342380</td>\n",
       "      <td>14/9/73</td>\n",
       "      <td>F</td>\n",
       "      <td>MUMBAI</td>\n",
       "      <td>866503.21</td>\n",
       "      <td>2/8/16</td>\n",
       "      <td>142714</td>\n",
       "      <td>2060.00</td>\n",
       "    </tr>\n",
       "    <tr>\n",
       "      <th>4</th>\n",
       "      <td>T5</td>\n",
       "      <td>C9031234</td>\n",
       "      <td>24/3/88</td>\n",
       "      <td>F</td>\n",
       "      <td>NAVI MUMBAI</td>\n",
       "      <td>6714.43</td>\n",
       "      <td>2/8/16</td>\n",
       "      <td>181156</td>\n",
       "      <td>1762.50</td>\n",
       "    </tr>\n",
       "    <tr>\n",
       "      <th>5</th>\n",
       "      <td>T6</td>\n",
       "      <td>C1536588</td>\n",
       "      <td>8/10/72</td>\n",
       "      <td>F</td>\n",
       "      <td>ITANAGAR</td>\n",
       "      <td>53609.20</td>\n",
       "      <td>2/8/16</td>\n",
       "      <td>173940</td>\n",
       "      <td>676.00</td>\n",
       "    </tr>\n",
       "    <tr>\n",
       "      <th>6</th>\n",
       "      <td>T7</td>\n",
       "      <td>C7126560</td>\n",
       "      <td>26/1/92</td>\n",
       "      <td>F</td>\n",
       "      <td>MUMBAI</td>\n",
       "      <td>973.46</td>\n",
       "      <td>2/8/16</td>\n",
       "      <td>173806</td>\n",
       "      <td>566.00</td>\n",
       "    </tr>\n",
       "    <tr>\n",
       "      <th>7</th>\n",
       "      <td>T8</td>\n",
       "      <td>C1220223</td>\n",
       "      <td>27/1/82</td>\n",
       "      <td>M</td>\n",
       "      <td>MUMBAI</td>\n",
       "      <td>95075.54</td>\n",
       "      <td>2/8/16</td>\n",
       "      <td>170537</td>\n",
       "      <td>148.00</td>\n",
       "    </tr>\n",
       "    <tr>\n",
       "      <th>8</th>\n",
       "      <td>T9</td>\n",
       "      <td>C8536061</td>\n",
       "      <td>19/4/88</td>\n",
       "      <td>F</td>\n",
       "      <td>GURGAON</td>\n",
       "      <td>14906.96</td>\n",
       "      <td>2/8/16</td>\n",
       "      <td>192825</td>\n",
       "      <td>833.00</td>\n",
       "    </tr>\n",
       "    <tr>\n",
       "      <th>9</th>\n",
       "      <td>T10</td>\n",
       "      <td>C6638934</td>\n",
       "      <td>22/6/84</td>\n",
       "      <td>M</td>\n",
       "      <td>MUMBAI</td>\n",
       "      <td>4279.22</td>\n",
       "      <td>2/8/16</td>\n",
       "      <td>192446</td>\n",
       "      <td>289.11</td>\n",
       "    </tr>\n",
       "  </tbody>\n",
       "</table>\n",
       "</div>"
      ],
      "text/plain": [
       "  TransactionID CustomerID CustomerDOB CustGender CustLocation  \\\n",
       "0            T1   C5841053     10/1/94          F   JAMSHEDPUR   \n",
       "1            T2   C2142763      4/4/57          M      JHAJJAR   \n",
       "2            T3   C4417068    26/11/96          F       MUMBAI   \n",
       "3            T4   C5342380     14/9/73          F       MUMBAI   \n",
       "4            T5   C9031234     24/3/88          F  NAVI MUMBAI   \n",
       "5            T6   C1536588     8/10/72          F     ITANAGAR   \n",
       "6            T7   C7126560     26/1/92          F       MUMBAI   \n",
       "7            T8   C1220223     27/1/82          M       MUMBAI   \n",
       "8            T9   C8536061     19/4/88          F      GURGAON   \n",
       "9           T10   C6638934     22/6/84          M       MUMBAI   \n",
       "\n",
       "   CustAccountBalance TransactionDate  TransactionTime  \\\n",
       "0            17819.05          2/8/16           143207   \n",
       "1             2270.69          2/8/16           141858   \n",
       "2            17874.44          2/8/16           142712   \n",
       "3           866503.21          2/8/16           142714   \n",
       "4             6714.43          2/8/16           181156   \n",
       "5            53609.20          2/8/16           173940   \n",
       "6              973.46          2/8/16           173806   \n",
       "7            95075.54          2/8/16           170537   \n",
       "8            14906.96          2/8/16           192825   \n",
       "9             4279.22          2/8/16           192446   \n",
       "\n",
       "   TransactionAmount (INR)  \n",
       "0                    25.00  \n",
       "1                 27999.00  \n",
       "2                   459.00  \n",
       "3                  2060.00  \n",
       "4                  1762.50  \n",
       "5                   676.00  \n",
       "6                   566.00  \n",
       "7                   148.00  \n",
       "8                   833.00  \n",
       "9                   289.11  "
      ]
     },
     "execution_count": 5,
     "metadata": {},
     "output_type": "execute_result"
    }
   ],
   "source": [
    "df_bank.head(10)"
   ]
  },
  {
   "cell_type": "code",
   "execution_count": 6,
   "id": "53f9306f",
   "metadata": {},
   "outputs": [
    {
     "name": "stdout",
     "output_type": "stream",
     "text": [
      "<class 'pandas.core.frame.DataFrame'>\n",
      "RangeIndex: 1048567 entries, 0 to 1048566\n",
      "Data columns (total 9 columns):\n",
      " #   Column                   Non-Null Count    Dtype  \n",
      "---  ------                   --------------    -----  \n",
      " 0   TransactionID            1048567 non-null  object \n",
      " 1   CustomerID               1048567 non-null  object \n",
      " 2   CustomerDOB              1045170 non-null  object \n",
      " 3   CustGender               1047467 non-null  object \n",
      " 4   CustLocation             1048416 non-null  object \n",
      " 5   CustAccountBalance       1046198 non-null  float64\n",
      " 6   TransactionDate          1048567 non-null  object \n",
      " 7   TransactionTime          1048567 non-null  int64  \n",
      " 8   TransactionAmount (INR)  1048567 non-null  float64\n",
      "dtypes: float64(2), int64(1), object(6)\n",
      "memory usage: 72.0+ MB\n"
     ]
    }
   ],
   "source": [
    "df_bank.info()"
   ]
  },
  {
   "cell_type": "code",
   "execution_count": 7,
   "id": "6f2c8b2a",
   "metadata": {},
   "outputs": [],
   "source": [
    "# As mentioned by author,TransactionTime is in Unix timestamp.So changing to readable time format\n",
    "# df_bank['TransactionTime'] =pd.to_datetime(df_bank[‘TransactionTime’], unit='s')\n",
    "# not in Unix timestamp"
   ]
  },
  {
   "cell_type": "code",
   "execution_count": 8,
   "id": "8523b0a1",
   "metadata": {},
   "outputs": [],
   "source": [
    "# TransactionTime is in HHMMSS format.So changing to readable time format\n",
    "df_bank['TransactionTime'] = df_bank['TransactionTime'].apply(lambda x : datetime.utcfromtimestamp(int(x)).strftime('%H:%M:%S'))"
   ]
  },
  {
   "cell_type": "code",
   "execution_count": 9,
   "id": "a9e37de7",
   "metadata": {},
   "outputs": [
    {
     "data": {
      "text/html": [
       "<div>\n",
       "<style scoped>\n",
       "    .dataframe tbody tr th:only-of-type {\n",
       "        vertical-align: middle;\n",
       "    }\n",
       "\n",
       "    .dataframe tbody tr th {\n",
       "        vertical-align: top;\n",
       "    }\n",
       "\n",
       "    .dataframe thead th {\n",
       "        text-align: right;\n",
       "    }\n",
       "</style>\n",
       "<table border=\"1\" class=\"dataframe\">\n",
       "  <thead>\n",
       "    <tr style=\"text-align: right;\">\n",
       "      <th></th>\n",
       "      <th>TransactionID</th>\n",
       "      <th>CustomerID</th>\n",
       "      <th>CustomerDOB</th>\n",
       "      <th>CustGender</th>\n",
       "      <th>CustLocation</th>\n",
       "      <th>CustAccountBalance</th>\n",
       "      <th>TransactionDate</th>\n",
       "      <th>TransactionTime</th>\n",
       "      <th>TransactionAmount (INR)</th>\n",
       "    </tr>\n",
       "  </thead>\n",
       "  <tbody>\n",
       "    <tr>\n",
       "      <th>0</th>\n",
       "      <td>T1</td>\n",
       "      <td>C5841053</td>\n",
       "      <td>10/1/94</td>\n",
       "      <td>F</td>\n",
       "      <td>JAMSHEDPUR</td>\n",
       "      <td>17819.05</td>\n",
       "      <td>2/8/16</td>\n",
       "      <td>15:46:47</td>\n",
       "      <td>25.00</td>\n",
       "    </tr>\n",
       "    <tr>\n",
       "      <th>1</th>\n",
       "      <td>T2</td>\n",
       "      <td>C2142763</td>\n",
       "      <td>4/4/57</td>\n",
       "      <td>M</td>\n",
       "      <td>JHAJJAR</td>\n",
       "      <td>2270.69</td>\n",
       "      <td>2/8/16</td>\n",
       "      <td>15:24:18</td>\n",
       "      <td>27999.00</td>\n",
       "    </tr>\n",
       "    <tr>\n",
       "      <th>2</th>\n",
       "      <td>T3</td>\n",
       "      <td>C4417068</td>\n",
       "      <td>26/11/96</td>\n",
       "      <td>F</td>\n",
       "      <td>MUMBAI</td>\n",
       "      <td>17874.44</td>\n",
       "      <td>2/8/16</td>\n",
       "      <td>15:38:32</td>\n",
       "      <td>459.00</td>\n",
       "    </tr>\n",
       "    <tr>\n",
       "      <th>3</th>\n",
       "      <td>T4</td>\n",
       "      <td>C5342380</td>\n",
       "      <td>14/9/73</td>\n",
       "      <td>F</td>\n",
       "      <td>MUMBAI</td>\n",
       "      <td>866503.21</td>\n",
       "      <td>2/8/16</td>\n",
       "      <td>15:38:34</td>\n",
       "      <td>2060.00</td>\n",
       "    </tr>\n",
       "    <tr>\n",
       "      <th>4</th>\n",
       "      <td>T5</td>\n",
       "      <td>C9031234</td>\n",
       "      <td>24/3/88</td>\n",
       "      <td>F</td>\n",
       "      <td>NAVI MUMBAI</td>\n",
       "      <td>6714.43</td>\n",
       "      <td>2/8/16</td>\n",
       "      <td>02:19:16</td>\n",
       "      <td>1762.50</td>\n",
       "    </tr>\n",
       "    <tr>\n",
       "      <th>5</th>\n",
       "      <td>T6</td>\n",
       "      <td>C1536588</td>\n",
       "      <td>8/10/72</td>\n",
       "      <td>F</td>\n",
       "      <td>ITANAGAR</td>\n",
       "      <td>53609.20</td>\n",
       "      <td>2/8/16</td>\n",
       "      <td>00:19:00</td>\n",
       "      <td>676.00</td>\n",
       "    </tr>\n",
       "    <tr>\n",
       "      <th>6</th>\n",
       "      <td>T7</td>\n",
       "      <td>C7126560</td>\n",
       "      <td>26/1/92</td>\n",
       "      <td>F</td>\n",
       "      <td>MUMBAI</td>\n",
       "      <td>973.46</td>\n",
       "      <td>2/8/16</td>\n",
       "      <td>00:16:46</td>\n",
       "      <td>566.00</td>\n",
       "    </tr>\n",
       "    <tr>\n",
       "      <th>7</th>\n",
       "      <td>T8</td>\n",
       "      <td>C1220223</td>\n",
       "      <td>27/1/82</td>\n",
       "      <td>M</td>\n",
       "      <td>MUMBAI</td>\n",
       "      <td>95075.54</td>\n",
       "      <td>2/8/16</td>\n",
       "      <td>23:22:17</td>\n",
       "      <td>148.00</td>\n",
       "    </tr>\n",
       "    <tr>\n",
       "      <th>8</th>\n",
       "      <td>T9</td>\n",
       "      <td>C8536061</td>\n",
       "      <td>19/4/88</td>\n",
       "      <td>F</td>\n",
       "      <td>GURGAON</td>\n",
       "      <td>14906.96</td>\n",
       "      <td>2/8/16</td>\n",
       "      <td>05:33:45</td>\n",
       "      <td>833.00</td>\n",
       "    </tr>\n",
       "    <tr>\n",
       "      <th>9</th>\n",
       "      <td>T10</td>\n",
       "      <td>C6638934</td>\n",
       "      <td>22/6/84</td>\n",
       "      <td>M</td>\n",
       "      <td>MUMBAI</td>\n",
       "      <td>4279.22</td>\n",
       "      <td>2/8/16</td>\n",
       "      <td>05:27:26</td>\n",
       "      <td>289.11</td>\n",
       "    </tr>\n",
       "  </tbody>\n",
       "</table>\n",
       "</div>"
      ],
      "text/plain": [
       "  TransactionID CustomerID CustomerDOB CustGender CustLocation  \\\n",
       "0            T1   C5841053     10/1/94          F   JAMSHEDPUR   \n",
       "1            T2   C2142763      4/4/57          M      JHAJJAR   \n",
       "2            T3   C4417068    26/11/96          F       MUMBAI   \n",
       "3            T4   C5342380     14/9/73          F       MUMBAI   \n",
       "4            T5   C9031234     24/3/88          F  NAVI MUMBAI   \n",
       "5            T6   C1536588     8/10/72          F     ITANAGAR   \n",
       "6            T7   C7126560     26/1/92          F       MUMBAI   \n",
       "7            T8   C1220223     27/1/82          M       MUMBAI   \n",
       "8            T9   C8536061     19/4/88          F      GURGAON   \n",
       "9           T10   C6638934     22/6/84          M       MUMBAI   \n",
       "\n",
       "   CustAccountBalance TransactionDate TransactionTime  TransactionAmount (INR)  \n",
       "0            17819.05          2/8/16        15:46:47                    25.00  \n",
       "1             2270.69          2/8/16        15:24:18                 27999.00  \n",
       "2            17874.44          2/8/16        15:38:32                   459.00  \n",
       "3           866503.21          2/8/16        15:38:34                  2060.00  \n",
       "4             6714.43          2/8/16        02:19:16                  1762.50  \n",
       "5            53609.20          2/8/16        00:19:00                   676.00  \n",
       "6              973.46          2/8/16        00:16:46                   566.00  \n",
       "7            95075.54          2/8/16        23:22:17                   148.00  \n",
       "8            14906.96          2/8/16        05:33:45                   833.00  \n",
       "9             4279.22          2/8/16        05:27:26                   289.11  "
      ]
     },
     "execution_count": 9,
     "metadata": {},
     "output_type": "execute_result"
    }
   ],
   "source": [
    "df_bank.head(10)"
   ]
  },
  {
   "cell_type": "code",
   "execution_count": 10,
   "id": "b2e00243",
   "metadata": {},
   "outputs": [],
   "source": [
    "# to find unique custlocation\n",
    "locations= df_bank['CustLocation'].unique()"
   ]
  },
  {
   "cell_type": "code",
   "execution_count": 11,
   "id": "7680fdeb",
   "metadata": {},
   "outputs": [
    {
     "data": {
      "text/plain": [
       "9356"
      ]
     },
     "execution_count": 11,
     "metadata": {},
     "output_type": "execute_result"
    }
   ],
   "source": [
    "len(locations)"
   ]
  },
  {
   "cell_type": "code",
   "execution_count": 12,
   "id": "9ee1e844",
   "metadata": {},
   "outputs": [],
   "source": [
    "#To find count(custlocation) groupby custlocation\n",
    "location_count= df_bank.groupby('CustLocation')['CustLocation'].count()\n"
   ]
  },
  {
   "cell_type": "code",
   "execution_count": 13,
   "id": "1626498e",
   "metadata": {},
   "outputs": [
    {
     "data": {
      "text/plain": [
       "CustLocation\n",
       "(154) BHASKOLA FARIDABAD          11\n",
       "(BEFORE YMCA BLDG) CHENNAI         1\n",
       "(BENAKA MDTS) BANGALORE           21\n",
       "(BRINDA BAN ) KOLKATA              5\n",
       "(DT) HOSUR                        11\n",
       "                                  ..\n",
       "ZOPADPATTI TEHSIL KURLA MUMBAI     1\n",
       "ZUARINAGAR                         6\n",
       "ZULFA DAIRY MUMBAI                 4\n",
       "ZUMARI TILAIYA                     9\n",
       "ZUNHEBOTO                          1\n",
       "Name: CustLocation, Length: 9355, dtype: int64"
      ]
     },
     "execution_count": 13,
     "metadata": {},
     "output_type": "execute_result"
    }
   ],
   "source": [
    "location_count"
   ]
  },
  {
   "cell_type": "code",
   "execution_count": 14,
   "id": "6f11005a",
   "metadata": {},
   "outputs": [],
   "source": [
    "#To find count(custlocation) groupby customerlocation having locations with no of transactions >5000\n",
    "loc_count_5000=location_count[location_count>5000]"
   ]
  },
  {
   "cell_type": "code",
   "execution_count": 15,
   "id": "77400fa7",
   "metadata": {},
   "outputs": [
    {
     "data": {
      "text/plain": [
       "CustLocation\n",
       "AHMEDABAD       12264\n",
       "BANGALORE       81555\n",
       "CHANDIGARH       9526\n",
       "CHENNAI         30009\n",
       "DELHI           71019\n",
       "FARIDABAD       11318\n",
       "GHAZIABAD       15834\n",
       "GURGAON         73818\n",
       "HYDERABAD       23049\n",
       "JAIPUR           9921\n",
       "KOLKATA         19974\n",
       "LUCKNOW          7763\n",
       "MOHALI           6741\n",
       "MUMBAI         103595\n",
       "NAVI MUMBAI     13080\n",
       "NEW DELHI       84928\n",
       "NOIDA           32784\n",
       "PUNE            25851\n",
       "SURAT            5770\n",
       "THANE           21505\n",
       "Name: CustLocation, dtype: int64"
      ]
     },
     "execution_count": 15,
     "metadata": {},
     "output_type": "execute_result"
    }
   ],
   "source": [
    "loc_count_5000"
   ]
  },
  {
   "cell_type": "markdown",
   "id": "c351e2b6",
   "metadata": {},
   "source": [
    "# Create a subset of dataset with Custlocation having no of transaction >5000"
   ]
  },
  {
   "cell_type": "code",
   "execution_count": 16,
   "id": "7f879464",
   "metadata": {},
   "outputs": [],
   "source": [
    "# Create a subset of dataset with Custlocation having no of transaction >5000\n",
    "df_bank_5000= df_bank.groupby(\"CustLocation\").filter(lambda x: len(x) > 5000)"
   ]
  },
  {
   "cell_type": "code",
   "execution_count": 17,
   "id": "7ec8ebda",
   "metadata": {},
   "outputs": [
    {
     "data": {
      "text/html": [
       "<div>\n",
       "<style scoped>\n",
       "    .dataframe tbody tr th:only-of-type {\n",
       "        vertical-align: middle;\n",
       "    }\n",
       "\n",
       "    .dataframe tbody tr th {\n",
       "        vertical-align: top;\n",
       "    }\n",
       "\n",
       "    .dataframe thead th {\n",
       "        text-align: right;\n",
       "    }\n",
       "</style>\n",
       "<table border=\"1\" class=\"dataframe\">\n",
       "  <thead>\n",
       "    <tr style=\"text-align: right;\">\n",
       "      <th></th>\n",
       "      <th>TransactionID</th>\n",
       "      <th>CustomerID</th>\n",
       "      <th>CustomerDOB</th>\n",
       "      <th>CustGender</th>\n",
       "      <th>CustLocation</th>\n",
       "      <th>CustAccountBalance</th>\n",
       "      <th>TransactionDate</th>\n",
       "      <th>TransactionTime</th>\n",
       "      <th>TransactionAmount (INR)</th>\n",
       "    </tr>\n",
       "  </thead>\n",
       "  <tbody>\n",
       "    <tr>\n",
       "      <th>2</th>\n",
       "      <td>T3</td>\n",
       "      <td>C4417068</td>\n",
       "      <td>26/11/96</td>\n",
       "      <td>F</td>\n",
       "      <td>MUMBAI</td>\n",
       "      <td>17874.44</td>\n",
       "      <td>2/8/16</td>\n",
       "      <td>15:38:32</td>\n",
       "      <td>459.0</td>\n",
       "    </tr>\n",
       "    <tr>\n",
       "      <th>3</th>\n",
       "      <td>T4</td>\n",
       "      <td>C5342380</td>\n",
       "      <td>14/9/73</td>\n",
       "      <td>F</td>\n",
       "      <td>MUMBAI</td>\n",
       "      <td>866503.21</td>\n",
       "      <td>2/8/16</td>\n",
       "      <td>15:38:34</td>\n",
       "      <td>2060.0</td>\n",
       "    </tr>\n",
       "    <tr>\n",
       "      <th>4</th>\n",
       "      <td>T5</td>\n",
       "      <td>C9031234</td>\n",
       "      <td>24/3/88</td>\n",
       "      <td>F</td>\n",
       "      <td>NAVI MUMBAI</td>\n",
       "      <td>6714.43</td>\n",
       "      <td>2/8/16</td>\n",
       "      <td>02:19:16</td>\n",
       "      <td>1762.5</td>\n",
       "    </tr>\n",
       "    <tr>\n",
       "      <th>6</th>\n",
       "      <td>T7</td>\n",
       "      <td>C7126560</td>\n",
       "      <td>26/1/92</td>\n",
       "      <td>F</td>\n",
       "      <td>MUMBAI</td>\n",
       "      <td>973.46</td>\n",
       "      <td>2/8/16</td>\n",
       "      <td>00:16:46</td>\n",
       "      <td>566.0</td>\n",
       "    </tr>\n",
       "    <tr>\n",
       "      <th>7</th>\n",
       "      <td>T8</td>\n",
       "      <td>C1220223</td>\n",
       "      <td>27/1/82</td>\n",
       "      <td>M</td>\n",
       "      <td>MUMBAI</td>\n",
       "      <td>95075.54</td>\n",
       "      <td>2/8/16</td>\n",
       "      <td>23:22:17</td>\n",
       "      <td>148.0</td>\n",
       "    </tr>\n",
       "    <tr>\n",
       "      <th>...</th>\n",
       "      <td>...</td>\n",
       "      <td>...</td>\n",
       "      <td>...</td>\n",
       "      <td>...</td>\n",
       "      <td>...</td>\n",
       "      <td>...</td>\n",
       "      <td>...</td>\n",
       "      <td>...</td>\n",
       "      <td>...</td>\n",
       "    </tr>\n",
       "    <tr>\n",
       "      <th>1048560</th>\n",
       "      <td>T1048561</td>\n",
       "      <td>C5028150</td>\n",
       "      <td>24/5/80</td>\n",
       "      <td>M</td>\n",
       "      <td>PUNE</td>\n",
       "      <td>464.87</td>\n",
       "      <td>18/9/16</td>\n",
       "      <td>03:17:12</td>\n",
       "      <td>3000.0</td>\n",
       "    </tr>\n",
       "    <tr>\n",
       "      <th>1048561</th>\n",
       "      <td>T1048562</td>\n",
       "      <td>C1034220</td>\n",
       "      <td>19/11/92</td>\n",
       "      <td>M</td>\n",
       "      <td>BANGALORE</td>\n",
       "      <td>1212.70</td>\n",
       "      <td>18/9/16</td>\n",
       "      <td>03:18:54</td>\n",
       "      <td>1500.0</td>\n",
       "    </tr>\n",
       "    <tr>\n",
       "      <th>1048562</th>\n",
       "      <td>T1048563</td>\n",
       "      <td>C8020229</td>\n",
       "      <td>8/4/90</td>\n",
       "      <td>M</td>\n",
       "      <td>NEW DELHI</td>\n",
       "      <td>7635.19</td>\n",
       "      <td>18/9/16</td>\n",
       "      <td>03:20:24</td>\n",
       "      <td>799.0</td>\n",
       "    </tr>\n",
       "    <tr>\n",
       "      <th>1048564</th>\n",
       "      <td>T1048565</td>\n",
       "      <td>C6412354</td>\n",
       "      <td>18/5/89</td>\n",
       "      <td>M</td>\n",
       "      <td>HYDERABAD</td>\n",
       "      <td>221757.06</td>\n",
       "      <td>18/9/16</td>\n",
       "      <td>02:55:13</td>\n",
       "      <td>770.0</td>\n",
       "    </tr>\n",
       "    <tr>\n",
       "      <th>1048566</th>\n",
       "      <td>T1048567</td>\n",
       "      <td>C8337524</td>\n",
       "      <td>5/3/84</td>\n",
       "      <td>M</td>\n",
       "      <td>PUNE</td>\n",
       "      <td>75734.42</td>\n",
       "      <td>18/9/16</td>\n",
       "      <td>02:20:22</td>\n",
       "      <td>1166.0</td>\n",
       "    </tr>\n",
       "  </tbody>\n",
       "</table>\n",
       "<p>660304 rows × 9 columns</p>\n",
       "</div>"
      ],
      "text/plain": [
       "        TransactionID CustomerID CustomerDOB CustGender CustLocation  \\\n",
       "2                  T3   C4417068    26/11/96          F       MUMBAI   \n",
       "3                  T4   C5342380     14/9/73          F       MUMBAI   \n",
       "4                  T5   C9031234     24/3/88          F  NAVI MUMBAI   \n",
       "6                  T7   C7126560     26/1/92          F       MUMBAI   \n",
       "7                  T8   C1220223     27/1/82          M       MUMBAI   \n",
       "...               ...        ...         ...        ...          ...   \n",
       "1048560      T1048561   C5028150     24/5/80          M         PUNE   \n",
       "1048561      T1048562   C1034220    19/11/92          M    BANGALORE   \n",
       "1048562      T1048563   C8020229      8/4/90          M    NEW DELHI   \n",
       "1048564      T1048565   C6412354     18/5/89          M    HYDERABAD   \n",
       "1048566      T1048567   C8337524      5/3/84          M         PUNE   \n",
       "\n",
       "         CustAccountBalance TransactionDate TransactionTime  \\\n",
       "2                  17874.44          2/8/16        15:38:32   \n",
       "3                 866503.21          2/8/16        15:38:34   \n",
       "4                   6714.43          2/8/16        02:19:16   \n",
       "6                    973.46          2/8/16        00:16:46   \n",
       "7                  95075.54          2/8/16        23:22:17   \n",
       "...                     ...             ...             ...   \n",
       "1048560              464.87         18/9/16        03:17:12   \n",
       "1048561             1212.70         18/9/16        03:18:54   \n",
       "1048562             7635.19         18/9/16        03:20:24   \n",
       "1048564           221757.06         18/9/16        02:55:13   \n",
       "1048566            75734.42         18/9/16        02:20:22   \n",
       "\n",
       "         TransactionAmount (INR)  \n",
       "2                          459.0  \n",
       "3                         2060.0  \n",
       "4                         1762.5  \n",
       "6                          566.0  \n",
       "7                          148.0  \n",
       "...                          ...  \n",
       "1048560                   3000.0  \n",
       "1048561                   1500.0  \n",
       "1048562                    799.0  \n",
       "1048564                    770.0  \n",
       "1048566                   1166.0  \n",
       "\n",
       "[660304 rows x 9 columns]"
      ]
     },
     "execution_count": 17,
     "metadata": {},
     "output_type": "execute_result"
    }
   ],
   "source": [
    "df_bank_5000"
   ]
  },
  {
   "cell_type": "code",
   "execution_count": 18,
   "id": "a24d4e95",
   "metadata": {},
   "outputs": [
    {
     "data": {
      "text/plain": [
       "660304"
      ]
     },
     "execution_count": 18,
     "metadata": {},
     "output_type": "execute_result"
    }
   ],
   "source": [
    "# To check the accuracy of subset\n",
    "loc_count_5000.sum()"
   ]
  },
  {
   "cell_type": "code",
   "execution_count": 19,
   "id": "19123773",
   "metadata": {},
   "outputs": [],
   "source": [
    "# Locations in column ‘CustLocation’ were modified to follow uniform naming practices\n",
    "df_bank_5000['CustLocation'] = df_bank_5000['CustLocation'].replace(['DELHI','NAVI MUMBAI'], ['NEW DELHI','MUMBAI'])"
   ]
  },
  {
   "cell_type": "code",
   "execution_count": 20,
   "id": "be5489ce",
   "metadata": {},
   "outputs": [
    {
     "data": {
      "text/html": [
       "<div>\n",
       "<style scoped>\n",
       "    .dataframe tbody tr th:only-of-type {\n",
       "        vertical-align: middle;\n",
       "    }\n",
       "\n",
       "    .dataframe tbody tr th {\n",
       "        vertical-align: top;\n",
       "    }\n",
       "\n",
       "    .dataframe thead th {\n",
       "        text-align: right;\n",
       "    }\n",
       "</style>\n",
       "<table border=\"1\" class=\"dataframe\">\n",
       "  <thead>\n",
       "    <tr style=\"text-align: right;\">\n",
       "      <th></th>\n",
       "      <th>TransactionID</th>\n",
       "      <th>CustomerID</th>\n",
       "      <th>CustomerDOB</th>\n",
       "      <th>CustGender</th>\n",
       "      <th>CustLocation</th>\n",
       "      <th>CustAccountBalance</th>\n",
       "      <th>TransactionDate</th>\n",
       "      <th>TransactionTime</th>\n",
       "      <th>TransactionAmount (INR)</th>\n",
       "    </tr>\n",
       "  </thead>\n",
       "  <tbody>\n",
       "    <tr>\n",
       "      <th>2</th>\n",
       "      <td>T3</td>\n",
       "      <td>C4417068</td>\n",
       "      <td>26/11/96</td>\n",
       "      <td>F</td>\n",
       "      <td>MUMBAI</td>\n",
       "      <td>17874.44</td>\n",
       "      <td>2/8/16</td>\n",
       "      <td>15:38:32</td>\n",
       "      <td>459.0</td>\n",
       "    </tr>\n",
       "    <tr>\n",
       "      <th>3</th>\n",
       "      <td>T4</td>\n",
       "      <td>C5342380</td>\n",
       "      <td>14/9/73</td>\n",
       "      <td>F</td>\n",
       "      <td>MUMBAI</td>\n",
       "      <td>866503.21</td>\n",
       "      <td>2/8/16</td>\n",
       "      <td>15:38:34</td>\n",
       "      <td>2060.0</td>\n",
       "    </tr>\n",
       "    <tr>\n",
       "      <th>4</th>\n",
       "      <td>T5</td>\n",
       "      <td>C9031234</td>\n",
       "      <td>24/3/88</td>\n",
       "      <td>F</td>\n",
       "      <td>MUMBAI</td>\n",
       "      <td>6714.43</td>\n",
       "      <td>2/8/16</td>\n",
       "      <td>02:19:16</td>\n",
       "      <td>1762.5</td>\n",
       "    </tr>\n",
       "    <tr>\n",
       "      <th>6</th>\n",
       "      <td>T7</td>\n",
       "      <td>C7126560</td>\n",
       "      <td>26/1/92</td>\n",
       "      <td>F</td>\n",
       "      <td>MUMBAI</td>\n",
       "      <td>973.46</td>\n",
       "      <td>2/8/16</td>\n",
       "      <td>00:16:46</td>\n",
       "      <td>566.0</td>\n",
       "    </tr>\n",
       "    <tr>\n",
       "      <th>7</th>\n",
       "      <td>T8</td>\n",
       "      <td>C1220223</td>\n",
       "      <td>27/1/82</td>\n",
       "      <td>M</td>\n",
       "      <td>MUMBAI</td>\n",
       "      <td>95075.54</td>\n",
       "      <td>2/8/16</td>\n",
       "      <td>23:22:17</td>\n",
       "      <td>148.0</td>\n",
       "    </tr>\n",
       "    <tr>\n",
       "      <th>...</th>\n",
       "      <td>...</td>\n",
       "      <td>...</td>\n",
       "      <td>...</td>\n",
       "      <td>...</td>\n",
       "      <td>...</td>\n",
       "      <td>...</td>\n",
       "      <td>...</td>\n",
       "      <td>...</td>\n",
       "      <td>...</td>\n",
       "    </tr>\n",
       "    <tr>\n",
       "      <th>1048560</th>\n",
       "      <td>T1048561</td>\n",
       "      <td>C5028150</td>\n",
       "      <td>24/5/80</td>\n",
       "      <td>M</td>\n",
       "      <td>PUNE</td>\n",
       "      <td>464.87</td>\n",
       "      <td>18/9/16</td>\n",
       "      <td>03:17:12</td>\n",
       "      <td>3000.0</td>\n",
       "    </tr>\n",
       "    <tr>\n",
       "      <th>1048561</th>\n",
       "      <td>T1048562</td>\n",
       "      <td>C1034220</td>\n",
       "      <td>19/11/92</td>\n",
       "      <td>M</td>\n",
       "      <td>BANGALORE</td>\n",
       "      <td>1212.70</td>\n",
       "      <td>18/9/16</td>\n",
       "      <td>03:18:54</td>\n",
       "      <td>1500.0</td>\n",
       "    </tr>\n",
       "    <tr>\n",
       "      <th>1048562</th>\n",
       "      <td>T1048563</td>\n",
       "      <td>C8020229</td>\n",
       "      <td>8/4/90</td>\n",
       "      <td>M</td>\n",
       "      <td>NEW DELHI</td>\n",
       "      <td>7635.19</td>\n",
       "      <td>18/9/16</td>\n",
       "      <td>03:20:24</td>\n",
       "      <td>799.0</td>\n",
       "    </tr>\n",
       "    <tr>\n",
       "      <th>1048564</th>\n",
       "      <td>T1048565</td>\n",
       "      <td>C6412354</td>\n",
       "      <td>18/5/89</td>\n",
       "      <td>M</td>\n",
       "      <td>HYDERABAD</td>\n",
       "      <td>221757.06</td>\n",
       "      <td>18/9/16</td>\n",
       "      <td>02:55:13</td>\n",
       "      <td>770.0</td>\n",
       "    </tr>\n",
       "    <tr>\n",
       "      <th>1048566</th>\n",
       "      <td>T1048567</td>\n",
       "      <td>C8337524</td>\n",
       "      <td>5/3/84</td>\n",
       "      <td>M</td>\n",
       "      <td>PUNE</td>\n",
       "      <td>75734.42</td>\n",
       "      <td>18/9/16</td>\n",
       "      <td>02:20:22</td>\n",
       "      <td>1166.0</td>\n",
       "    </tr>\n",
       "  </tbody>\n",
       "</table>\n",
       "<p>660304 rows × 9 columns</p>\n",
       "</div>"
      ],
      "text/plain": [
       "        TransactionID CustomerID CustomerDOB CustGender CustLocation  \\\n",
       "2                  T3   C4417068    26/11/96          F       MUMBAI   \n",
       "3                  T4   C5342380     14/9/73          F       MUMBAI   \n",
       "4                  T5   C9031234     24/3/88          F       MUMBAI   \n",
       "6                  T7   C7126560     26/1/92          F       MUMBAI   \n",
       "7                  T8   C1220223     27/1/82          M       MUMBAI   \n",
       "...               ...        ...         ...        ...          ...   \n",
       "1048560      T1048561   C5028150     24/5/80          M         PUNE   \n",
       "1048561      T1048562   C1034220    19/11/92          M    BANGALORE   \n",
       "1048562      T1048563   C8020229      8/4/90          M    NEW DELHI   \n",
       "1048564      T1048565   C6412354     18/5/89          M    HYDERABAD   \n",
       "1048566      T1048567   C8337524      5/3/84          M         PUNE   \n",
       "\n",
       "         CustAccountBalance TransactionDate TransactionTime  \\\n",
       "2                  17874.44          2/8/16        15:38:32   \n",
       "3                 866503.21          2/8/16        15:38:34   \n",
       "4                   6714.43          2/8/16        02:19:16   \n",
       "6                    973.46          2/8/16        00:16:46   \n",
       "7                  95075.54          2/8/16        23:22:17   \n",
       "...                     ...             ...             ...   \n",
       "1048560              464.87         18/9/16        03:17:12   \n",
       "1048561             1212.70         18/9/16        03:18:54   \n",
       "1048562             7635.19         18/9/16        03:20:24   \n",
       "1048564           221757.06         18/9/16        02:55:13   \n",
       "1048566            75734.42         18/9/16        02:20:22   \n",
       "\n",
       "         TransactionAmount (INR)  \n",
       "2                          459.0  \n",
       "3                         2060.0  \n",
       "4                         1762.5  \n",
       "6                          566.0  \n",
       "7                          148.0  \n",
       "...                          ...  \n",
       "1048560                   3000.0  \n",
       "1048561                   1500.0  \n",
       "1048562                    799.0  \n",
       "1048564                    770.0  \n",
       "1048566                   1166.0  \n",
       "\n",
       "[660304 rows x 9 columns]"
      ]
     },
     "execution_count": 20,
     "metadata": {},
     "output_type": "execute_result"
    }
   ],
   "source": [
    "df_bank_5000"
   ]
  },
  {
   "cell_type": "code",
   "execution_count": 21,
   "id": "56629ad3",
   "metadata": {
    "scrolled": true
   },
   "outputs": [
    {
     "data": {
      "text/plain": [
       "NEW DELHI     155947\n",
       "MUMBAI        116675\n",
       "BANGALORE      81555\n",
       "GURGAON        73818\n",
       "NOIDA          32784\n",
       "CHENNAI        30009\n",
       "PUNE           25851\n",
       "HYDERABAD      23049\n",
       "THANE          21505\n",
       "KOLKATA        19974\n",
       "GHAZIABAD      15834\n",
       "AHMEDABAD      12264\n",
       "FARIDABAD      11318\n",
       "JAIPUR          9921\n",
       "CHANDIGARH      9526\n",
       "LUCKNOW         7763\n",
       "MOHALI          6741\n",
       "SURAT           5770\n",
       "Name: CustLocation, dtype: int64"
      ]
     },
     "execution_count": 21,
     "metadata": {},
     "output_type": "execute_result"
    }
   ],
   "source": [
    "df_bank_5000['CustLocation'].value_counts(dropna=False)"
   ]
  },
  {
   "cell_type": "code",
   "execution_count": 22,
   "id": "2bfea1d3",
   "metadata": {},
   "outputs": [
    {
     "data": {
      "text/html": [
       "<div>\n",
       "<style scoped>\n",
       "    .dataframe tbody tr th:only-of-type {\n",
       "        vertical-align: middle;\n",
       "    }\n",
       "\n",
       "    .dataframe tbody tr th {\n",
       "        vertical-align: top;\n",
       "    }\n",
       "\n",
       "    .dataframe thead th {\n",
       "        text-align: right;\n",
       "    }\n",
       "</style>\n",
       "<table border=\"1\" class=\"dataframe\">\n",
       "  <thead>\n",
       "    <tr style=\"text-align: right;\">\n",
       "      <th></th>\n",
       "      <th>CustAccountBalance</th>\n",
       "      <th>TransactionAmount (INR)</th>\n",
       "    </tr>\n",
       "  </thead>\n",
       "  <tbody>\n",
       "    <tr>\n",
       "      <th>count</th>\n",
       "      <td>6.588410e+05</td>\n",
       "      <td>6.603040e+05</td>\n",
       "    </tr>\n",
       "    <tr>\n",
       "      <th>mean</th>\n",
       "      <td>1.327436e+05</td>\n",
       "      <td>1.623003e+03</td>\n",
       "    </tr>\n",
       "    <tr>\n",
       "      <th>std</th>\n",
       "      <td>8.898709e+05</td>\n",
       "      <td>6.966071e+03</td>\n",
       "    </tr>\n",
       "    <tr>\n",
       "      <th>min</th>\n",
       "      <td>0.000000e+00</td>\n",
       "      <td>0.000000e+00</td>\n",
       "    </tr>\n",
       "    <tr>\n",
       "      <th>25%</th>\n",
       "      <td>5.703030e+03</td>\n",
       "      <td>2.000000e+02</td>\n",
       "    </tr>\n",
       "    <tr>\n",
       "      <th>50%</th>\n",
       "      <td>2.000938e+04</td>\n",
       "      <td>5.000000e+02</td>\n",
       "    </tr>\n",
       "    <tr>\n",
       "      <th>75%</th>\n",
       "      <td>6.847865e+04</td>\n",
       "      <td>1.280000e+03</td>\n",
       "    </tr>\n",
       "    <tr>\n",
       "      <th>max</th>\n",
       "      <td>8.224463e+07</td>\n",
       "      <td>1.560035e+06</td>\n",
       "    </tr>\n",
       "  </tbody>\n",
       "</table>\n",
       "</div>"
      ],
      "text/plain": [
       "       CustAccountBalance  TransactionAmount (INR)\n",
       "count        6.588410e+05             6.603040e+05\n",
       "mean         1.327436e+05             1.623003e+03\n",
       "std          8.898709e+05             6.966071e+03\n",
       "min          0.000000e+00             0.000000e+00\n",
       "25%          5.703030e+03             2.000000e+02\n",
       "50%          2.000938e+04             5.000000e+02\n",
       "75%          6.847865e+04             1.280000e+03\n",
       "max          8.224463e+07             1.560035e+06"
      ]
     },
     "execution_count": 22,
     "metadata": {},
     "output_type": "execute_result"
    }
   ],
   "source": [
    "df_bank_5000.describe()"
   ]
  },
  {
   "cell_type": "code",
   "execution_count": 23,
   "id": "bc8d9c95",
   "metadata": {},
   "outputs": [
    {
     "data": {
      "text/plain": [
       "TransactionID                 0\n",
       "CustomerID                    0\n",
       "CustomerDOB                2405\n",
       "CustGender                 1007\n",
       "CustLocation                  0\n",
       "CustAccountBalance         1463\n",
       "TransactionDate               0\n",
       "TransactionTime               0\n",
       "TransactionAmount (INR)       0\n",
       "dtype: int64"
      ]
     },
     "execution_count": 23,
     "metadata": {},
     "output_type": "execute_result"
    }
   ],
   "source": [
    "# To check any missing values\n",
    "df_bank_5000.isnull().sum()"
   ]
  },
  {
   "cell_type": "code",
   "execution_count": 24,
   "id": "8aa192b8",
   "metadata": {},
   "outputs": [
    {
     "data": {
      "text/plain": [
       "1/1/1800    36367\n",
       "NaN          2405\n",
       "1/1/89        501\n",
       "1/7/90        458\n",
       "1/1/90        390\n",
       "            ...  \n",
       "30/5/63         1\n",
       "20/3/52         1\n",
       "8/2/51          1\n",
       "4/8/44          1\n",
       "18/7/65         1\n",
       "Name: CustomerDOB, Length: 15137, dtype: int64"
      ]
     },
     "execution_count": 24,
     "metadata": {},
     "output_type": "execute_result"
    }
   ],
   "source": [
    "df_bank_5000['CustomerDOB'].value_counts(dropna=False)"
   ]
  },
  {
   "cell_type": "markdown",
   "id": "41cd8ea9",
   "metadata": {},
   "source": [
    "# There are 2405 missing values  and 36367 wrong customer DOB(1/1/1800) in column 'CustomerDOB'"
   ]
  },
  {
   "cell_type": "code",
   "execution_count": 25,
   "id": "70a4bbb8",
   "metadata": {},
   "outputs": [
    {
     "data": {
      "text/plain": [
       "M      466663\n",
       "F      192633\n",
       "NaN      1007\n",
       "T           1\n",
       "Name: CustGender, dtype: int64"
      ]
     },
     "execution_count": 25,
     "metadata": {},
     "output_type": "execute_result"
    }
   ],
   "source": [
    "df_bank_5000['CustGender'].value_counts(dropna=False)"
   ]
  },
  {
   "cell_type": "markdown",
   "id": "94aa3d87",
   "metadata": {},
   "source": [
    "# There are 1007 missing values in column 'CustGender'"
   ]
  },
  {
   "cell_type": "code",
   "execution_count": 26,
   "id": "a9cf0229",
   "metadata": {},
   "outputs": [
    {
     "data": {
      "text/plain": [
       "0.00        1682\n",
       "NaN         1463\n",
       "27021.05     514\n",
       "25256.28     295\n",
       "25525.44     212\n",
       "            ... \n",
       "28406.66       1\n",
       "11422.97       1\n",
       "8400.38        1\n",
       "79546.56       1\n",
       "15037.89       1\n",
       "Name: CustAccountBalance, Length: 97285, dtype: int64"
      ]
     },
     "execution_count": 26,
     "metadata": {},
     "output_type": "execute_result"
    }
   ],
   "source": [
    "df_bank_5000['CustAccountBalance'].value_counts(dropna=False)"
   ]
  },
  {
   "cell_type": "markdown",
   "id": "d65a43bf",
   "metadata": {},
   "source": [
    "# There are 1463 Missing values in column 'CustAccountBalance'"
   ]
  },
  {
   "cell_type": "code",
   "execution_count": 27,
   "id": "3b9c334c",
   "metadata": {},
   "outputs": [],
   "source": [
    "# The missing values in the columns (CustomerDOB, CustGender) may be the result of customer not providing the information, \n",
    "# while the column (CustAccountBalance) may be due to zero balance.\n",
    "# So I am imputing missing values in DOB and Gender with ‘NA’ and in CustAccountBalance with ‘0’."
   ]
  },
  {
   "cell_type": "code",
   "execution_count": 28,
   "id": "589cb90f",
   "metadata": {},
   "outputs": [],
   "source": [
    "df_bank_5000['CustomerDOB'].fillna('NA',inplace=True)"
   ]
  },
  {
   "cell_type": "code",
   "execution_count": 29,
   "id": "a6d4108a",
   "metadata": {},
   "outputs": [],
   "source": [
    "df_bank_5000['CustomerDOB'] = df_bank_5000['CustomerDOB'].replace(['1/1/1800'], ['NA'])"
   ]
  },
  {
   "cell_type": "code",
   "execution_count": 30,
   "id": "ed6602ca",
   "metadata": {},
   "outputs": [
    {
     "data": {
      "text/plain": [
       "NA         38772\n",
       "1/1/89       501\n",
       "1/7/90       458\n",
       "1/1/90       390\n",
       "12/7/78      378\n",
       "           ...  \n",
       "30/5/63        1\n",
       "20/3/52        1\n",
       "8/2/51         1\n",
       "4/8/44         1\n",
       "18/7/65        1\n",
       "Name: CustomerDOB, Length: 15136, dtype: int64"
      ]
     },
     "execution_count": 30,
     "metadata": {},
     "output_type": "execute_result"
    }
   ],
   "source": [
    "df_bank_5000['CustomerDOB'].value_counts(dropna=False)"
   ]
  },
  {
   "cell_type": "code",
   "execution_count": 31,
   "id": "10ff47e2",
   "metadata": {},
   "outputs": [],
   "source": [
    "df_bank_5000['CustGender'].fillna('NA',inplace=True)"
   ]
  },
  {
   "cell_type": "code",
   "execution_count": 32,
   "id": "9d0696e5",
   "metadata": {},
   "outputs": [
    {
     "data": {
      "text/plain": [
       "M     466663\n",
       "F     192633\n",
       "NA      1007\n",
       "T          1\n",
       "Name: CustGender, dtype: int64"
      ]
     },
     "execution_count": 32,
     "metadata": {},
     "output_type": "execute_result"
    }
   ],
   "source": [
    "df_bank_5000['CustGender'].value_counts(dropna=False)"
   ]
  },
  {
   "cell_type": "code",
   "execution_count": 33,
   "id": "4388bcf8",
   "metadata": {},
   "outputs": [],
   "source": [
    "df_bank_5000['CustAccountBalance'].fillna(0,inplace=True)"
   ]
  },
  {
   "cell_type": "code",
   "execution_count": 34,
   "id": "d8ca00a6",
   "metadata": {},
   "outputs": [
    {
     "data": {
      "text/plain": [
       "0.00        3145\n",
       "27021.05     514\n",
       "25256.28     295\n",
       "25525.44     212\n",
       "84098.47     198\n",
       "            ... \n",
       "22576.45       1\n",
       "24543.35       1\n",
       "70112.21       1\n",
       "2582.29        1\n",
       "15037.89       1\n",
       "Name: CustAccountBalance, Length: 97284, dtype: int64"
      ]
     },
     "execution_count": 34,
     "metadata": {},
     "output_type": "execute_result"
    }
   ],
   "source": [
    "df_bank_5000['CustAccountBalance'].value_counts(dropna=False)"
   ]
  },
  {
   "cell_type": "code",
   "execution_count": 35,
   "id": "3bd77c3c",
   "metadata": {},
   "outputs": [
    {
     "data": {
      "text/html": [
       "<div>\n",
       "<style scoped>\n",
       "    .dataframe tbody tr th:only-of-type {\n",
       "        vertical-align: middle;\n",
       "    }\n",
       "\n",
       "    .dataframe tbody tr th {\n",
       "        vertical-align: top;\n",
       "    }\n",
       "\n",
       "    .dataframe thead th {\n",
       "        text-align: right;\n",
       "    }\n",
       "</style>\n",
       "<table border=\"1\" class=\"dataframe\">\n",
       "  <thead>\n",
       "    <tr style=\"text-align: right;\">\n",
       "      <th></th>\n",
       "      <th>TransactionID</th>\n",
       "      <th>CustomerID</th>\n",
       "      <th>CustomerDOB</th>\n",
       "      <th>CustGender</th>\n",
       "      <th>CustLocation</th>\n",
       "      <th>CustAccountBalance</th>\n",
       "      <th>TransactionDate</th>\n",
       "      <th>TransactionTime</th>\n",
       "      <th>TransactionAmount (INR)</th>\n",
       "    </tr>\n",
       "  </thead>\n",
       "  <tbody>\n",
       "  </tbody>\n",
       "</table>\n",
       "</div>"
      ],
      "text/plain": [
       "Empty DataFrame\n",
       "Columns: [TransactionID, CustomerID, CustomerDOB, CustGender, CustLocation, CustAccountBalance, TransactionDate, TransactionTime, TransactionAmount (INR)]\n",
       "Index: []"
      ]
     },
     "execution_count": 35,
     "metadata": {},
     "output_type": "execute_result"
    }
   ],
   "source": [
    "# To check is there any duplicate data\n",
    "df_bank_5000[df_bank_5000.duplicated()]"
   ]
  },
  {
   "cell_type": "markdown",
   "id": "6e726191",
   "metadata": {},
   "source": [
    "# There are no duplicates record in dataset"
   ]
  },
  {
   "cell_type": "code",
   "execution_count": 36,
   "id": "3c9230a3",
   "metadata": {
    "code_folding": []
   },
   "outputs": [],
   "source": [
    "# To check is there any mixed datatype\n",
    "for col in df_bank_5000.columns.tolist():\n",
    "    weird = (df_bank_5000[[col]].applymap(type) != df_bank_5000[[col]].iloc[0].apply(type)).any(axis = 1)\n",
    "    if len (df_bank_5000[weird]) > 0:\n",
    "        print (col)"
   ]
  },
  {
   "cell_type": "markdown",
   "id": "bf51548d",
   "metadata": {},
   "source": [
    "# There are no mixed datatype columns"
   ]
  },
  {
   "cell_type": "markdown",
   "id": "dbdf578d",
   "metadata": {},
   "source": [
    "# 04 Exporting Dataset"
   ]
  },
  {
   "cell_type": "code",
   "execution_count": 37,
   "id": "8fbbcb6e",
   "metadata": {},
   "outputs": [],
   "source": [
    "df_bank_5000.to_pickle(os.path.join(path,'Data','Prepared Data','Bank Transactions.pkl'))"
   ]
  },
  {
   "cell_type": "code",
   "execution_count": 42,
   "id": "46b77a76",
   "metadata": {},
   "outputs": [],
   "source": [
    "df_bank_5000.to_csv(os.path.join(path,'Data','Prepared Data','Bank Transactions.csv'),index=False)"
   ]
  },
  {
   "cell_type": "code",
   "execution_count": null,
   "id": "b24f1a13",
   "metadata": {},
   "outputs": [],
   "source": []
  }
 ],
 "metadata": {
  "kernelspec": {
   "display_name": "Python 3 (ipykernel)",
   "language": "python",
   "name": "python3"
  },
  "language_info": {
   "codemirror_mode": {
    "name": "ipython",
    "version": 3
   },
   "file_extension": ".py",
   "mimetype": "text/x-python",
   "name": "python",
   "nbconvert_exporter": "python",
   "pygments_lexer": "ipython3",
   "version": "3.10.9"
  }
 },
 "nbformat": 4,
 "nbformat_minor": 5
}
