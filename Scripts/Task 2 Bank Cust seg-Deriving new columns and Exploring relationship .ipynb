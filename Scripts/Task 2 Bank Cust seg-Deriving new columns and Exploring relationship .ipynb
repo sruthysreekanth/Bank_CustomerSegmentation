{
 "cells": [
  {
   "cell_type": "markdown",
   "id": "6bf8f441",
   "metadata": {},
   "source": [
    "# 1. Importing Visualization Libraries and Data"
   ]
  },
  {
   "cell_type": "code",
   "execution_count": 1,
   "id": "76b02210",
   "metadata": {},
   "outputs": [],
   "source": [
    "import pandas as pd\n",
    "import numpy as np\n",
    "import seaborn as sns\n",
    "import matplotlib.pyplot as plt\n",
    "import matplotlib\n",
    "import os\n",
    "import datetime as dt\n",
    "from datetime import datetime\n",
    "import calendar"
   ]
  },
  {
   "cell_type": "code",
   "execution_count": 2,
   "id": "46d3f8b4",
   "metadata": {},
   "outputs": [],
   "source": [
    "# To ensure the created charts are displayed in the notebook without the need to \"call\" them specifically.\n",
    "%matplotlib inline"
   ]
  },
  {
   "cell_type": "code",
   "execution_count": 3,
   "id": "9fe82222",
   "metadata": {},
   "outputs": [],
   "source": [
    "path=r'C:\\Users\\sruth\\OneDrive\\Desktop\\Career Foundry\\Data Immersion\\A6-Advanced Analytics & Dashboard design\\6.2 Exploring Relationships'"
   ]
  },
  {
   "cell_type": "code",
   "execution_count": 4,
   "id": "be346e69",
   "metadata": {},
   "outputs": [],
   "source": [
    "df_bank=pd.read_csv(os.path.join(path,'Data','Prepared Data','Bank Transactions.csv'))"
   ]
  },
  {
   "cell_type": "markdown",
   "id": "2ebe7796",
   "metadata": {},
   "source": [
    "# 2.Explore Data"
   ]
  },
  {
   "cell_type": "code",
   "execution_count": 5,
   "id": "ff5f6389",
   "metadata": {},
   "outputs": [
    {
     "data": {
      "text/html": [
       "<div>\n",
       "<style scoped>\n",
       "    .dataframe tbody tr th:only-of-type {\n",
       "        vertical-align: middle;\n",
       "    }\n",
       "\n",
       "    .dataframe tbody tr th {\n",
       "        vertical-align: top;\n",
       "    }\n",
       "\n",
       "    .dataframe thead th {\n",
       "        text-align: right;\n",
       "    }\n",
       "</style>\n",
       "<table border=\"1\" class=\"dataframe\">\n",
       "  <thead>\n",
       "    <tr style=\"text-align: right;\">\n",
       "      <th></th>\n",
       "      <th>TransactionID</th>\n",
       "      <th>CustomerID</th>\n",
       "      <th>CustomerDOB</th>\n",
       "      <th>CustGender</th>\n",
       "      <th>CustLocation</th>\n",
       "      <th>CustAccountBalance</th>\n",
       "      <th>TransactionDate</th>\n",
       "      <th>TransactionTime</th>\n",
       "      <th>TransactionAmount (INR)</th>\n",
       "    </tr>\n",
       "  </thead>\n",
       "  <tbody>\n",
       "    <tr>\n",
       "      <th>0</th>\n",
       "      <td>T3</td>\n",
       "      <td>C4417068</td>\n",
       "      <td>26/11/96</td>\n",
       "      <td>F</td>\n",
       "      <td>MUMBAI</td>\n",
       "      <td>17874.44</td>\n",
       "      <td>2/8/16</td>\n",
       "      <td>15:38:32</td>\n",
       "      <td>459.00</td>\n",
       "    </tr>\n",
       "    <tr>\n",
       "      <th>1</th>\n",
       "      <td>T4</td>\n",
       "      <td>C5342380</td>\n",
       "      <td>14/9/73</td>\n",
       "      <td>F</td>\n",
       "      <td>MUMBAI</td>\n",
       "      <td>866503.21</td>\n",
       "      <td>2/8/16</td>\n",
       "      <td>15:38:34</td>\n",
       "      <td>2060.00</td>\n",
       "    </tr>\n",
       "    <tr>\n",
       "      <th>2</th>\n",
       "      <td>T5</td>\n",
       "      <td>C9031234</td>\n",
       "      <td>24/3/88</td>\n",
       "      <td>F</td>\n",
       "      <td>MUMBAI</td>\n",
       "      <td>6714.43</td>\n",
       "      <td>2/8/16</td>\n",
       "      <td>02:19:16</td>\n",
       "      <td>1762.50</td>\n",
       "    </tr>\n",
       "    <tr>\n",
       "      <th>3</th>\n",
       "      <td>T7</td>\n",
       "      <td>C7126560</td>\n",
       "      <td>26/1/92</td>\n",
       "      <td>F</td>\n",
       "      <td>MUMBAI</td>\n",
       "      <td>973.46</td>\n",
       "      <td>2/8/16</td>\n",
       "      <td>00:16:46</td>\n",
       "      <td>566.00</td>\n",
       "    </tr>\n",
       "    <tr>\n",
       "      <th>4</th>\n",
       "      <td>T8</td>\n",
       "      <td>C1220223</td>\n",
       "      <td>27/1/82</td>\n",
       "      <td>M</td>\n",
       "      <td>MUMBAI</td>\n",
       "      <td>95075.54</td>\n",
       "      <td>2/8/16</td>\n",
       "      <td>23:22:17</td>\n",
       "      <td>148.00</td>\n",
       "    </tr>\n",
       "    <tr>\n",
       "      <th>5</th>\n",
       "      <td>T9</td>\n",
       "      <td>C8536061</td>\n",
       "      <td>19/4/88</td>\n",
       "      <td>F</td>\n",
       "      <td>GURGAON</td>\n",
       "      <td>14906.96</td>\n",
       "      <td>2/8/16</td>\n",
       "      <td>05:33:45</td>\n",
       "      <td>833.00</td>\n",
       "    </tr>\n",
       "    <tr>\n",
       "      <th>6</th>\n",
       "      <td>T10</td>\n",
       "      <td>C6638934</td>\n",
       "      <td>22/6/84</td>\n",
       "      <td>M</td>\n",
       "      <td>MUMBAI</td>\n",
       "      <td>4279.22</td>\n",
       "      <td>2/8/16</td>\n",
       "      <td>05:27:26</td>\n",
       "      <td>289.11</td>\n",
       "    </tr>\n",
       "    <tr>\n",
       "      <th>7</th>\n",
       "      <td>T11</td>\n",
       "      <td>C5430833</td>\n",
       "      <td>22/7/82</td>\n",
       "      <td>M</td>\n",
       "      <td>MOHALI</td>\n",
       "      <td>48429.49</td>\n",
       "      <td>2/8/16</td>\n",
       "      <td>08:42:13</td>\n",
       "      <td>259.00</td>\n",
       "    </tr>\n",
       "    <tr>\n",
       "      <th>8</th>\n",
       "      <td>T13</td>\n",
       "      <td>C6339347</td>\n",
       "      <td>13/6/78</td>\n",
       "      <td>M</td>\n",
       "      <td>AHMEDABAD</td>\n",
       "      <td>32274.78</td>\n",
       "      <td>2/8/16</td>\n",
       "      <td>08:37:14</td>\n",
       "      <td>12300.00</td>\n",
       "    </tr>\n",
       "    <tr>\n",
       "      <th>9</th>\n",
       "      <td>T14</td>\n",
       "      <td>C8327851</td>\n",
       "      <td>5/1/92</td>\n",
       "      <td>F</td>\n",
       "      <td>THANE</td>\n",
       "      <td>59950.44</td>\n",
       "      <td>1/8/16</td>\n",
       "      <td>23:31:46</td>\n",
       "      <td>50.00</td>\n",
       "    </tr>\n",
       "    <tr>\n",
       "      <th>10</th>\n",
       "      <td>T15</td>\n",
       "      <td>C7917151</td>\n",
       "      <td>24/3/78</td>\n",
       "      <td>M</td>\n",
       "      <td>PUNE</td>\n",
       "      <td>10100.84</td>\n",
       "      <td>1/8/16</td>\n",
       "      <td>22:50:53</td>\n",
       "      <td>338.00</td>\n",
       "    </tr>\n",
       "    <tr>\n",
       "      <th>11</th>\n",
       "      <td>T16</td>\n",
       "      <td>C8334633</td>\n",
       "      <td>10/7/68</td>\n",
       "      <td>F</td>\n",
       "      <td>NEW DELHI</td>\n",
       "      <td>1283.12</td>\n",
       "      <td>1/8/16</td>\n",
       "      <td>10:55:25</td>\n",
       "      <td>250.00</td>\n",
       "    </tr>\n",
       "    <tr>\n",
       "      <th>12</th>\n",
       "      <td>T17</td>\n",
       "      <td>C1376215</td>\n",
       "      <td>NaN</td>\n",
       "      <td>M</td>\n",
       "      <td>MUMBAI</td>\n",
       "      <td>77495.15</td>\n",
       "      <td>1/8/16</td>\n",
       "      <td>10:38:47</td>\n",
       "      <td>1423.11</td>\n",
       "    </tr>\n",
       "    <tr>\n",
       "      <th>13</th>\n",
       "      <td>T18</td>\n",
       "      <td>C8967349</td>\n",
       "      <td>16/7/89</td>\n",
       "      <td>M</td>\n",
       "      <td>MUMBAI</td>\n",
       "      <td>2177.85</td>\n",
       "      <td>1/8/16</td>\n",
       "      <td>10:38:54</td>\n",
       "      <td>54.00</td>\n",
       "    </tr>\n",
       "    <tr>\n",
       "      <th>14</th>\n",
       "      <td>T19</td>\n",
       "      <td>C3732016</td>\n",
       "      <td>11/1/91</td>\n",
       "      <td>M</td>\n",
       "      <td>MUMBAI</td>\n",
       "      <td>32816.17</td>\n",
       "      <td>1/8/16</td>\n",
       "      <td>09:55:35</td>\n",
       "      <td>315.00</td>\n",
       "    </tr>\n",
       "    <tr>\n",
       "      <th>15</th>\n",
       "      <td>T20</td>\n",
       "      <td>C8999019</td>\n",
       "      <td>24/6/85</td>\n",
       "      <td>M</td>\n",
       "      <td>PUNE</td>\n",
       "      <td>10643.50</td>\n",
       "      <td>1/8/16</td>\n",
       "      <td>18:27:01</td>\n",
       "      <td>945.00</td>\n",
       "    </tr>\n",
       "  </tbody>\n",
       "</table>\n",
       "</div>"
      ],
      "text/plain": [
       "   TransactionID CustomerID CustomerDOB CustGender CustLocation  \\\n",
       "0             T3   C4417068    26/11/96          F       MUMBAI   \n",
       "1             T4   C5342380     14/9/73          F       MUMBAI   \n",
       "2             T5   C9031234     24/3/88          F       MUMBAI   \n",
       "3             T7   C7126560     26/1/92          F       MUMBAI   \n",
       "4             T8   C1220223     27/1/82          M       MUMBAI   \n",
       "5             T9   C8536061     19/4/88          F      GURGAON   \n",
       "6            T10   C6638934     22/6/84          M       MUMBAI   \n",
       "7            T11   C5430833     22/7/82          M       MOHALI   \n",
       "8            T13   C6339347     13/6/78          M    AHMEDABAD   \n",
       "9            T14   C8327851      5/1/92          F        THANE   \n",
       "10           T15   C7917151     24/3/78          M         PUNE   \n",
       "11           T16   C8334633     10/7/68          F    NEW DELHI   \n",
       "12           T17   C1376215         NaN          M       MUMBAI   \n",
       "13           T18   C8967349     16/7/89          M       MUMBAI   \n",
       "14           T19   C3732016     11/1/91          M       MUMBAI   \n",
       "15           T20   C8999019     24/6/85          M         PUNE   \n",
       "\n",
       "    CustAccountBalance TransactionDate TransactionTime  \\\n",
       "0             17874.44          2/8/16        15:38:32   \n",
       "1            866503.21          2/8/16        15:38:34   \n",
       "2              6714.43          2/8/16        02:19:16   \n",
       "3               973.46          2/8/16        00:16:46   \n",
       "4             95075.54          2/8/16        23:22:17   \n",
       "5             14906.96          2/8/16        05:33:45   \n",
       "6              4279.22          2/8/16        05:27:26   \n",
       "7             48429.49          2/8/16        08:42:13   \n",
       "8             32274.78          2/8/16        08:37:14   \n",
       "9             59950.44          1/8/16        23:31:46   \n",
       "10            10100.84          1/8/16        22:50:53   \n",
       "11             1283.12          1/8/16        10:55:25   \n",
       "12            77495.15          1/8/16        10:38:47   \n",
       "13             2177.85          1/8/16        10:38:54   \n",
       "14            32816.17          1/8/16        09:55:35   \n",
       "15            10643.50          1/8/16        18:27:01   \n",
       "\n",
       "    TransactionAmount (INR)  \n",
       "0                    459.00  \n",
       "1                   2060.00  \n",
       "2                   1762.50  \n",
       "3                    566.00  \n",
       "4                    148.00  \n",
       "5                    833.00  \n",
       "6                    289.11  \n",
       "7                    259.00  \n",
       "8                  12300.00  \n",
       "9                     50.00  \n",
       "10                   338.00  \n",
       "11                   250.00  \n",
       "12                  1423.11  \n",
       "13                    54.00  \n",
       "14                   315.00  \n",
       "15                   945.00  "
      ]
     },
     "execution_count": 5,
     "metadata": {},
     "output_type": "execute_result"
    }
   ],
   "source": [
    "df_bank.head(16)"
   ]
  },
  {
   "cell_type": "code",
   "execution_count": 6,
   "id": "3b9aef55",
   "metadata": {},
   "outputs": [
    {
     "data": {
      "text/plain": [
       "(660304, 9)"
      ]
     },
     "execution_count": 6,
     "metadata": {},
     "output_type": "execute_result"
    }
   ],
   "source": [
    "df_bank.shape"
   ]
  },
  {
   "cell_type": "code",
   "execution_count": 7,
   "id": "a7afd301",
   "metadata": {},
   "outputs": [
    {
     "data": {
      "text/plain": [
       "Index(['TransactionID', 'CustomerID', 'CustomerDOB', 'CustGender',\n",
       "       'CustLocation', 'CustAccountBalance', 'TransactionDate',\n",
       "       'TransactionTime', 'TransactionAmount (INR)'],\n",
       "      dtype='object')"
      ]
     },
     "execution_count": 7,
     "metadata": {},
     "output_type": "execute_result"
    }
   ],
   "source": [
    "df_bank.columns"
   ]
  },
  {
   "cell_type": "code",
   "execution_count": 8,
   "id": "e3a0d9a1",
   "metadata": {},
   "outputs": [
    {
     "data": {
      "text/plain": [
       "TransactionID               object\n",
       "CustomerID                  object\n",
       "CustomerDOB                 object\n",
       "CustGender                  object\n",
       "CustLocation                object\n",
       "CustAccountBalance         float64\n",
       "TransactionDate             object\n",
       "TransactionTime             object\n",
       "TransactionAmount (INR)    float64\n",
       "dtype: object"
      ]
     },
     "execution_count": 8,
     "metadata": {},
     "output_type": "execute_result"
    }
   ],
   "source": [
    "df_bank.dtypes"
   ]
  },
  {
   "cell_type": "code",
   "execution_count": 7,
   "id": "ae29e22b",
   "metadata": {},
   "outputs": [],
   "source": [
    "# convert CustomerDOB from string to date format\n",
    "df_bank['CustomerDOB'] = pd.to_datetime(df_bank['CustomerDOB'])"
   ]
  },
  {
   "cell_type": "code",
   "execution_count": 10,
   "id": "43a32a98",
   "metadata": {},
   "outputs": [
    {
     "data": {
      "text/plain": [
       "0        1996-11-26\n",
       "1        1973-09-14\n",
       "2        1988-03-24\n",
       "3        1992-01-26\n",
       "4        1982-01-27\n",
       "            ...    \n",
       "660299   1980-05-24\n",
       "660300   1992-11-19\n",
       "660301   1990-08-04\n",
       "660302   1989-05-18\n",
       "660303   1984-05-03\n",
       "Name: CustomerDOB, Length: 660304, dtype: datetime64[ns]"
      ]
     },
     "execution_count": 10,
     "metadata": {},
     "output_type": "execute_result"
    }
   ],
   "source": [
    "df_bank['CustomerDOB']"
   ]
  },
  {
   "cell_type": "code",
   "execution_count": 13,
   "id": "ca6356d0",
   "metadata": {
    "scrolled": true
   },
   "outputs": [
    {
     "data": {
      "text/plain": [
       "TransactionID                      object\n",
       "CustomerID                         object\n",
       "CustomerDOB                datetime64[ns]\n",
       "CustGender                         object\n",
       "CustLocation                       object\n",
       "CustAccountBalance                float64\n",
       "TransactionDate                    object\n",
       "TransactionTime                    object\n",
       "TransactionAmount (INR)           float64\n",
       "dtype: object"
      ]
     },
     "execution_count": 13,
     "metadata": {},
     "output_type": "execute_result"
    }
   ],
   "source": [
    "df_bank.dtypes"
   ]
  },
  {
   "cell_type": "code",
   "execution_count": 60,
   "id": "7e401b48",
   "metadata": {},
   "outputs": [
    {
     "data": {
      "text/plain": [
       "datetime.datetime(2023, 5, 15, 14, 10, 26, 868620)"
      ]
     },
     "execution_count": 60,
     "metadata": {},
     "output_type": "execute_result"
    }
   ],
   "source": [
    "dt.datetime.today()"
   ]
  },
  {
   "cell_type": "code",
   "execution_count": 8,
   "id": "031aa4cc",
   "metadata": {},
   "outputs": [],
   "source": [
    "# create a new column Age from the existing column CustomerDOB\n",
    "df_bank['Age'] = (dt.datetime.today() - df_bank['CustomerDOB']).dt.days/365"
   ]
  },
  {
   "cell_type": "code",
   "execution_count": 12,
   "id": "ddcca157",
   "metadata": {},
   "outputs": [
    {
     "data": {
      "text/html": [
       "<div>\n",
       "<style scoped>\n",
       "    .dataframe tbody tr th:only-of-type {\n",
       "        vertical-align: middle;\n",
       "    }\n",
       "\n",
       "    .dataframe tbody tr th {\n",
       "        vertical-align: top;\n",
       "    }\n",
       "\n",
       "    .dataframe thead th {\n",
       "        text-align: right;\n",
       "    }\n",
       "</style>\n",
       "<table border=\"1\" class=\"dataframe\">\n",
       "  <thead>\n",
       "    <tr style=\"text-align: right;\">\n",
       "      <th></th>\n",
       "      <th>TransactionID</th>\n",
       "      <th>CustomerID</th>\n",
       "      <th>CustomerDOB</th>\n",
       "      <th>CustGender</th>\n",
       "      <th>CustLocation</th>\n",
       "      <th>CustAccountBalance</th>\n",
       "      <th>TransactionDate</th>\n",
       "      <th>TransactionTime</th>\n",
       "      <th>TransactionAmount (INR)</th>\n",
       "      <th>Age</th>\n",
       "    </tr>\n",
       "  </thead>\n",
       "  <tbody>\n",
       "    <tr>\n",
       "      <th>0</th>\n",
       "      <td>T3</td>\n",
       "      <td>C4417068</td>\n",
       "      <td>1996-11-26</td>\n",
       "      <td>F</td>\n",
       "      <td>MUMBAI</td>\n",
       "      <td>17874.44</td>\n",
       "      <td>2/8/16</td>\n",
       "      <td>15:38:32</td>\n",
       "      <td>459.00</td>\n",
       "      <td>26.482192</td>\n",
       "    </tr>\n",
       "    <tr>\n",
       "      <th>1</th>\n",
       "      <td>T4</td>\n",
       "      <td>C5342380</td>\n",
       "      <td>1973-09-14</td>\n",
       "      <td>F</td>\n",
       "      <td>MUMBAI</td>\n",
       "      <td>866503.21</td>\n",
       "      <td>2/8/16</td>\n",
       "      <td>15:38:34</td>\n",
       "      <td>2060.00</td>\n",
       "      <td>49.698630</td>\n",
       "    </tr>\n",
       "    <tr>\n",
       "      <th>2</th>\n",
       "      <td>T5</td>\n",
       "      <td>C9031234</td>\n",
       "      <td>1988-03-24</td>\n",
       "      <td>F</td>\n",
       "      <td>MUMBAI</td>\n",
       "      <td>6714.43</td>\n",
       "      <td>2/8/16</td>\n",
       "      <td>02:19:16</td>\n",
       "      <td>1762.50</td>\n",
       "      <td>35.164384</td>\n",
       "    </tr>\n",
       "    <tr>\n",
       "      <th>3</th>\n",
       "      <td>T7</td>\n",
       "      <td>C7126560</td>\n",
       "      <td>1992-01-26</td>\n",
       "      <td>F</td>\n",
       "      <td>MUMBAI</td>\n",
       "      <td>973.46</td>\n",
       "      <td>2/8/16</td>\n",
       "      <td>00:16:46</td>\n",
       "      <td>566.00</td>\n",
       "      <td>31.320548</td>\n",
       "    </tr>\n",
       "    <tr>\n",
       "      <th>4</th>\n",
       "      <td>T8</td>\n",
       "      <td>C1220223</td>\n",
       "      <td>1982-01-27</td>\n",
       "      <td>M</td>\n",
       "      <td>MUMBAI</td>\n",
       "      <td>95075.54</td>\n",
       "      <td>2/8/16</td>\n",
       "      <td>23:22:17</td>\n",
       "      <td>148.00</td>\n",
       "      <td>41.323288</td>\n",
       "    </tr>\n",
       "    <tr>\n",
       "      <th>5</th>\n",
       "      <td>T9</td>\n",
       "      <td>C8536061</td>\n",
       "      <td>1988-04-19</td>\n",
       "      <td>F</td>\n",
       "      <td>GURGAON</td>\n",
       "      <td>14906.96</td>\n",
       "      <td>2/8/16</td>\n",
       "      <td>05:33:45</td>\n",
       "      <td>833.00</td>\n",
       "      <td>35.093151</td>\n",
       "    </tr>\n",
       "    <tr>\n",
       "      <th>6</th>\n",
       "      <td>T10</td>\n",
       "      <td>C6638934</td>\n",
       "      <td>1984-06-22</td>\n",
       "      <td>M</td>\n",
       "      <td>MUMBAI</td>\n",
       "      <td>4279.22</td>\n",
       "      <td>2/8/16</td>\n",
       "      <td>05:27:26</td>\n",
       "      <td>289.11</td>\n",
       "      <td>38.920548</td>\n",
       "    </tr>\n",
       "    <tr>\n",
       "      <th>7</th>\n",
       "      <td>T11</td>\n",
       "      <td>C5430833</td>\n",
       "      <td>1982-07-22</td>\n",
       "      <td>M</td>\n",
       "      <td>MOHALI</td>\n",
       "      <td>48429.49</td>\n",
       "      <td>2/8/16</td>\n",
       "      <td>08:42:13</td>\n",
       "      <td>259.00</td>\n",
       "      <td>40.841096</td>\n",
       "    </tr>\n",
       "    <tr>\n",
       "      <th>8</th>\n",
       "      <td>T13</td>\n",
       "      <td>C6339347</td>\n",
       "      <td>1978-06-13</td>\n",
       "      <td>M</td>\n",
       "      <td>AHMEDABAD</td>\n",
       "      <td>32274.78</td>\n",
       "      <td>2/8/16</td>\n",
       "      <td>08:37:14</td>\n",
       "      <td>12300.00</td>\n",
       "      <td>44.950685</td>\n",
       "    </tr>\n",
       "    <tr>\n",
       "      <th>9</th>\n",
       "      <td>T14</td>\n",
       "      <td>C8327851</td>\n",
       "      <td>1992-05-01</td>\n",
       "      <td>F</td>\n",
       "      <td>THANE</td>\n",
       "      <td>59950.44</td>\n",
       "      <td>1/8/16</td>\n",
       "      <td>23:31:46</td>\n",
       "      <td>50.00</td>\n",
       "      <td>31.057534</td>\n",
       "    </tr>\n",
       "    <tr>\n",
       "      <th>10</th>\n",
       "      <td>T15</td>\n",
       "      <td>C7917151</td>\n",
       "      <td>1978-03-24</td>\n",
       "      <td>M</td>\n",
       "      <td>PUNE</td>\n",
       "      <td>10100.84</td>\n",
       "      <td>1/8/16</td>\n",
       "      <td>22:50:53</td>\n",
       "      <td>338.00</td>\n",
       "      <td>45.172603</td>\n",
       "    </tr>\n",
       "    <tr>\n",
       "      <th>11</th>\n",
       "      <td>T16</td>\n",
       "      <td>C8334633</td>\n",
       "      <td>2068-10-07</td>\n",
       "      <td>F</td>\n",
       "      <td>NEW DELHI</td>\n",
       "      <td>1283.12</td>\n",
       "      <td>1/8/16</td>\n",
       "      <td>10:55:25</td>\n",
       "      <td>250.00</td>\n",
       "      <td>-45.430137</td>\n",
       "    </tr>\n",
       "    <tr>\n",
       "      <th>12</th>\n",
       "      <td>T17</td>\n",
       "      <td>C1376215</td>\n",
       "      <td>NaT</td>\n",
       "      <td>M</td>\n",
       "      <td>MUMBAI</td>\n",
       "      <td>77495.15</td>\n",
       "      <td>1/8/16</td>\n",
       "      <td>10:38:47</td>\n",
       "      <td>1423.11</td>\n",
       "      <td>NaN</td>\n",
       "    </tr>\n",
       "    <tr>\n",
       "      <th>13</th>\n",
       "      <td>T18</td>\n",
       "      <td>C8967349</td>\n",
       "      <td>1989-07-16</td>\n",
       "      <td>M</td>\n",
       "      <td>MUMBAI</td>\n",
       "      <td>2177.85</td>\n",
       "      <td>1/8/16</td>\n",
       "      <td>10:38:54</td>\n",
       "      <td>54.00</td>\n",
       "      <td>33.852055</td>\n",
       "    </tr>\n",
       "    <tr>\n",
       "      <th>14</th>\n",
       "      <td>T19</td>\n",
       "      <td>C3732016</td>\n",
       "      <td>1991-11-01</td>\n",
       "      <td>M</td>\n",
       "      <td>MUMBAI</td>\n",
       "      <td>32816.17</td>\n",
       "      <td>1/8/16</td>\n",
       "      <td>09:55:35</td>\n",
       "      <td>315.00</td>\n",
       "      <td>31.556164</td>\n",
       "    </tr>\n",
       "    <tr>\n",
       "      <th>15</th>\n",
       "      <td>T20</td>\n",
       "      <td>C8999019</td>\n",
       "      <td>1985-06-24</td>\n",
       "      <td>M</td>\n",
       "      <td>PUNE</td>\n",
       "      <td>10643.50</td>\n",
       "      <td>1/8/16</td>\n",
       "      <td>18:27:01</td>\n",
       "      <td>945.00</td>\n",
       "      <td>37.915068</td>\n",
       "    </tr>\n",
       "  </tbody>\n",
       "</table>\n",
       "</div>"
      ],
      "text/plain": [
       "   TransactionID CustomerID CustomerDOB CustGender CustLocation  \\\n",
       "0             T3   C4417068  1996-11-26          F       MUMBAI   \n",
       "1             T4   C5342380  1973-09-14          F       MUMBAI   \n",
       "2             T5   C9031234  1988-03-24          F       MUMBAI   \n",
       "3             T7   C7126560  1992-01-26          F       MUMBAI   \n",
       "4             T8   C1220223  1982-01-27          M       MUMBAI   \n",
       "5             T9   C8536061  1988-04-19          F      GURGAON   \n",
       "6            T10   C6638934  1984-06-22          M       MUMBAI   \n",
       "7            T11   C5430833  1982-07-22          M       MOHALI   \n",
       "8            T13   C6339347  1978-06-13          M    AHMEDABAD   \n",
       "9            T14   C8327851  1992-05-01          F        THANE   \n",
       "10           T15   C7917151  1978-03-24          M         PUNE   \n",
       "11           T16   C8334633  2068-10-07          F    NEW DELHI   \n",
       "12           T17   C1376215         NaT          M       MUMBAI   \n",
       "13           T18   C8967349  1989-07-16          M       MUMBAI   \n",
       "14           T19   C3732016  1991-11-01          M       MUMBAI   \n",
       "15           T20   C8999019  1985-06-24          M         PUNE   \n",
       "\n",
       "    CustAccountBalance TransactionDate TransactionTime  \\\n",
       "0             17874.44          2/8/16        15:38:32   \n",
       "1            866503.21          2/8/16        15:38:34   \n",
       "2              6714.43          2/8/16        02:19:16   \n",
       "3               973.46          2/8/16        00:16:46   \n",
       "4             95075.54          2/8/16        23:22:17   \n",
       "5             14906.96          2/8/16        05:33:45   \n",
       "6              4279.22          2/8/16        05:27:26   \n",
       "7             48429.49          2/8/16        08:42:13   \n",
       "8             32274.78          2/8/16        08:37:14   \n",
       "9             59950.44          1/8/16        23:31:46   \n",
       "10            10100.84          1/8/16        22:50:53   \n",
       "11             1283.12          1/8/16        10:55:25   \n",
       "12            77495.15          1/8/16        10:38:47   \n",
       "13             2177.85          1/8/16        10:38:54   \n",
       "14            32816.17          1/8/16        09:55:35   \n",
       "15            10643.50          1/8/16        18:27:01   \n",
       "\n",
       "    TransactionAmount (INR)        Age  \n",
       "0                    459.00  26.482192  \n",
       "1                   2060.00  49.698630  \n",
       "2                   1762.50  35.164384  \n",
       "3                    566.00  31.320548  \n",
       "4                    148.00  41.323288  \n",
       "5                    833.00  35.093151  \n",
       "6                    289.11  38.920548  \n",
       "7                    259.00  40.841096  \n",
       "8                  12300.00  44.950685  \n",
       "9                     50.00  31.057534  \n",
       "10                   338.00  45.172603  \n",
       "11                   250.00 -45.430137  \n",
       "12                  1423.11        NaN  \n",
       "13                    54.00  33.852055  \n",
       "14                   315.00  31.556164  \n",
       "15                   945.00  37.915068  "
      ]
     },
     "execution_count": 12,
     "metadata": {},
     "output_type": "execute_result"
    }
   ],
   "source": [
    "df_bank.head(16)"
   ]
  },
  {
   "cell_type": "code",
   "execution_count": 74,
   "id": "60a54201",
   "metadata": {},
   "outputs": [
    {
     "data": {
      "text/plain": [
       "TransactionID                      object\n",
       "CustomerID                         object\n",
       "CustomerDOB                datetime64[ns]\n",
       "CustGender                         object\n",
       "CustLocation                       object\n",
       "CustAccountBalance                float64\n",
       "TransactionDate                    object\n",
       "TransactionTime                    object\n",
       "TransactionAmount (INR)           float64\n",
       "Age                               float64\n",
       "dtype: object"
      ]
     },
     "execution_count": 74,
     "metadata": {},
     "output_type": "execute_result"
    }
   ],
   "source": [
    "df_bank.dtypes"
   ]
  },
  {
   "cell_type": "code",
   "execution_count": 9,
   "id": "b824e663",
   "metadata": {},
   "outputs": [
    {
     "data": {
      "text/plain": [
       " NaN          38772\n",
       " 34.410959      501\n",
       " 33.394521      458\n",
       " 33.410959      390\n",
       " 44.487671      378\n",
       "              ...  \n",
       "-40.046575        1\n",
       "-28.846575        1\n",
       "-28.213699        1\n",
       "-20.893151        1\n",
       "-42.183562        1\n",
       "Name: Age, Length: 15136, dtype: int64"
      ]
     },
     "execution_count": 9,
     "metadata": {},
     "output_type": "execute_result"
    }
   ],
   "source": [
    "df_bank['Age'].value_counts(dropna=False)"
   ]
  },
  {
   "cell_type": "code",
   "execution_count": null,
   "id": "25ceaf47",
   "metadata": {},
   "outputs": [],
   "source": [
    "# Due to NA values in CustomerDOB, some of the entries in 'Age' are blank.\n",
    "# Additionally, some DOBs were misquoted as greater than the current date.\n",
    "# So Imputing those values as 0 for further analysis."
   ]
  },
  {
   "cell_type": "code",
   "execution_count": 10,
   "id": "79d48306",
   "metadata": {},
   "outputs": [],
   "source": [
    "#Imputing blank values in Age as 0 \n",
    "df_bank['Age'].fillna(0,inplace=True)"
   ]
  },
  {
   "cell_type": "code",
   "execution_count": 11,
   "id": "12f160bc",
   "metadata": {},
   "outputs": [
    {
     "data": {
      "text/plain": [
       " 0.000000     38772\n",
       " 34.410959      501\n",
       " 33.394521      458\n",
       " 33.410959      390\n",
       " 44.487671      378\n",
       "              ...  \n",
       "-40.046575        1\n",
       "-28.846575        1\n",
       "-28.213699        1\n",
       "-20.893151        1\n",
       "-42.183562        1\n",
       "Name: Age, Length: 15136, dtype: int64"
      ]
     },
     "execution_count": 11,
     "metadata": {},
     "output_type": "execute_result"
    }
   ],
   "source": [
    "df_bank['Age'].value_counts(dropna=False)"
   ]
  },
  {
   "cell_type": "code",
   "execution_count": 12,
   "id": "4f1b3ab9",
   "metadata": {},
   "outputs": [],
   "source": [
    "# some DOBs were misquoted as greater than the current date.So the age is in -ve values.So inputing those values to 0\n",
    "df_bank.loc[df_bank['Age']<0,'Age']=0"
   ]
  },
  {
   "cell_type": "code",
   "execution_count": 13,
   "id": "0e780546",
   "metadata": {},
   "outputs": [
    {
     "data": {
      "text/plain": [
       "0.000000     94222\n",
       "34.410959      501\n",
       "33.394521      458\n",
       "33.410959      390\n",
       "44.487671      378\n",
       "             ...  \n",
       "18.468493        1\n",
       "27.879452        1\n",
       "21.947945        1\n",
       "26.854795        1\n",
       "7.515068         1\n",
       "Name: Age, Length: 9301, dtype: int64"
      ]
     },
     "execution_count": 13,
     "metadata": {},
     "output_type": "execute_result"
    }
   ],
   "source": [
    "df_bank['Age'].value_counts(dropna=False)"
   ]
  },
  {
   "cell_type": "code",
   "execution_count": 20,
   "id": "86742f6b",
   "metadata": {},
   "outputs": [
    {
     "data": {
      "text/html": [
       "<div>\n",
       "<style scoped>\n",
       "    .dataframe tbody tr th:only-of-type {\n",
       "        vertical-align: middle;\n",
       "    }\n",
       "\n",
       "    .dataframe tbody tr th {\n",
       "        vertical-align: top;\n",
       "    }\n",
       "\n",
       "    .dataframe thead th {\n",
       "        text-align: right;\n",
       "    }\n",
       "</style>\n",
       "<table border=\"1\" class=\"dataframe\">\n",
       "  <thead>\n",
       "    <tr style=\"text-align: right;\">\n",
       "      <th></th>\n",
       "      <th>TransactionID</th>\n",
       "      <th>CustomerID</th>\n",
       "      <th>CustomerDOB</th>\n",
       "      <th>CustGender</th>\n",
       "      <th>CustLocation</th>\n",
       "      <th>CustAccountBalance</th>\n",
       "      <th>TransactionDate</th>\n",
       "      <th>TransactionTime</th>\n",
       "      <th>TransactionAmount (INR)</th>\n",
       "      <th>Age</th>\n",
       "    </tr>\n",
       "  </thead>\n",
       "  <tbody>\n",
       "    <tr>\n",
       "      <th>0</th>\n",
       "      <td>T3</td>\n",
       "      <td>C4417068</td>\n",
       "      <td>1996-11-26</td>\n",
       "      <td>F</td>\n",
       "      <td>MUMBAI</td>\n",
       "      <td>17874.44</td>\n",
       "      <td>2/8/16</td>\n",
       "      <td>15:38:32</td>\n",
       "      <td>459.00</td>\n",
       "      <td>26.482192</td>\n",
       "    </tr>\n",
       "    <tr>\n",
       "      <th>1</th>\n",
       "      <td>T4</td>\n",
       "      <td>C5342380</td>\n",
       "      <td>1973-09-14</td>\n",
       "      <td>F</td>\n",
       "      <td>MUMBAI</td>\n",
       "      <td>866503.21</td>\n",
       "      <td>2/8/16</td>\n",
       "      <td>15:38:34</td>\n",
       "      <td>2060.00</td>\n",
       "      <td>49.698630</td>\n",
       "    </tr>\n",
       "    <tr>\n",
       "      <th>2</th>\n",
       "      <td>T5</td>\n",
       "      <td>C9031234</td>\n",
       "      <td>1988-03-24</td>\n",
       "      <td>F</td>\n",
       "      <td>MUMBAI</td>\n",
       "      <td>6714.43</td>\n",
       "      <td>2/8/16</td>\n",
       "      <td>02:19:16</td>\n",
       "      <td>1762.50</td>\n",
       "      <td>35.164384</td>\n",
       "    </tr>\n",
       "    <tr>\n",
       "      <th>3</th>\n",
       "      <td>T7</td>\n",
       "      <td>C7126560</td>\n",
       "      <td>1992-01-26</td>\n",
       "      <td>F</td>\n",
       "      <td>MUMBAI</td>\n",
       "      <td>973.46</td>\n",
       "      <td>2/8/16</td>\n",
       "      <td>00:16:46</td>\n",
       "      <td>566.00</td>\n",
       "      <td>31.320548</td>\n",
       "    </tr>\n",
       "    <tr>\n",
       "      <th>4</th>\n",
       "      <td>T8</td>\n",
       "      <td>C1220223</td>\n",
       "      <td>1982-01-27</td>\n",
       "      <td>M</td>\n",
       "      <td>MUMBAI</td>\n",
       "      <td>95075.54</td>\n",
       "      <td>2/8/16</td>\n",
       "      <td>23:22:17</td>\n",
       "      <td>148.00</td>\n",
       "      <td>41.323288</td>\n",
       "    </tr>\n",
       "    <tr>\n",
       "      <th>5</th>\n",
       "      <td>T9</td>\n",
       "      <td>C8536061</td>\n",
       "      <td>1988-04-19</td>\n",
       "      <td>F</td>\n",
       "      <td>GURGAON</td>\n",
       "      <td>14906.96</td>\n",
       "      <td>2/8/16</td>\n",
       "      <td>05:33:45</td>\n",
       "      <td>833.00</td>\n",
       "      <td>35.093151</td>\n",
       "    </tr>\n",
       "    <tr>\n",
       "      <th>6</th>\n",
       "      <td>T10</td>\n",
       "      <td>C6638934</td>\n",
       "      <td>1984-06-22</td>\n",
       "      <td>M</td>\n",
       "      <td>MUMBAI</td>\n",
       "      <td>4279.22</td>\n",
       "      <td>2/8/16</td>\n",
       "      <td>05:27:26</td>\n",
       "      <td>289.11</td>\n",
       "      <td>38.920548</td>\n",
       "    </tr>\n",
       "    <tr>\n",
       "      <th>7</th>\n",
       "      <td>T11</td>\n",
       "      <td>C5430833</td>\n",
       "      <td>1982-07-22</td>\n",
       "      <td>M</td>\n",
       "      <td>MOHALI</td>\n",
       "      <td>48429.49</td>\n",
       "      <td>2/8/16</td>\n",
       "      <td>08:42:13</td>\n",
       "      <td>259.00</td>\n",
       "      <td>40.841096</td>\n",
       "    </tr>\n",
       "    <tr>\n",
       "      <th>8</th>\n",
       "      <td>T13</td>\n",
       "      <td>C6339347</td>\n",
       "      <td>1978-06-13</td>\n",
       "      <td>M</td>\n",
       "      <td>AHMEDABAD</td>\n",
       "      <td>32274.78</td>\n",
       "      <td>2/8/16</td>\n",
       "      <td>08:37:14</td>\n",
       "      <td>12300.00</td>\n",
       "      <td>44.950685</td>\n",
       "    </tr>\n",
       "    <tr>\n",
       "      <th>9</th>\n",
       "      <td>T14</td>\n",
       "      <td>C8327851</td>\n",
       "      <td>1992-05-01</td>\n",
       "      <td>F</td>\n",
       "      <td>THANE</td>\n",
       "      <td>59950.44</td>\n",
       "      <td>1/8/16</td>\n",
       "      <td>23:31:46</td>\n",
       "      <td>50.00</td>\n",
       "      <td>31.057534</td>\n",
       "    </tr>\n",
       "    <tr>\n",
       "      <th>10</th>\n",
       "      <td>T15</td>\n",
       "      <td>C7917151</td>\n",
       "      <td>1978-03-24</td>\n",
       "      <td>M</td>\n",
       "      <td>PUNE</td>\n",
       "      <td>10100.84</td>\n",
       "      <td>1/8/16</td>\n",
       "      <td>22:50:53</td>\n",
       "      <td>338.00</td>\n",
       "      <td>45.172603</td>\n",
       "    </tr>\n",
       "    <tr>\n",
       "      <th>11</th>\n",
       "      <td>T16</td>\n",
       "      <td>C8334633</td>\n",
       "      <td>2068-10-07</td>\n",
       "      <td>F</td>\n",
       "      <td>NEW DELHI</td>\n",
       "      <td>1283.12</td>\n",
       "      <td>1/8/16</td>\n",
       "      <td>10:55:25</td>\n",
       "      <td>250.00</td>\n",
       "      <td>0.000000</td>\n",
       "    </tr>\n",
       "    <tr>\n",
       "      <th>12</th>\n",
       "      <td>T17</td>\n",
       "      <td>C1376215</td>\n",
       "      <td>NaT</td>\n",
       "      <td>M</td>\n",
       "      <td>MUMBAI</td>\n",
       "      <td>77495.15</td>\n",
       "      <td>1/8/16</td>\n",
       "      <td>10:38:47</td>\n",
       "      <td>1423.11</td>\n",
       "      <td>0.000000</td>\n",
       "    </tr>\n",
       "    <tr>\n",
       "      <th>13</th>\n",
       "      <td>T18</td>\n",
       "      <td>C8967349</td>\n",
       "      <td>1989-07-16</td>\n",
       "      <td>M</td>\n",
       "      <td>MUMBAI</td>\n",
       "      <td>2177.85</td>\n",
       "      <td>1/8/16</td>\n",
       "      <td>10:38:54</td>\n",
       "      <td>54.00</td>\n",
       "      <td>33.852055</td>\n",
       "    </tr>\n",
       "    <tr>\n",
       "      <th>14</th>\n",
       "      <td>T19</td>\n",
       "      <td>C3732016</td>\n",
       "      <td>1991-11-01</td>\n",
       "      <td>M</td>\n",
       "      <td>MUMBAI</td>\n",
       "      <td>32816.17</td>\n",
       "      <td>1/8/16</td>\n",
       "      <td>09:55:35</td>\n",
       "      <td>315.00</td>\n",
       "      <td>31.556164</td>\n",
       "    </tr>\n",
       "    <tr>\n",
       "      <th>15</th>\n",
       "      <td>T20</td>\n",
       "      <td>C8999019</td>\n",
       "      <td>1985-06-24</td>\n",
       "      <td>M</td>\n",
       "      <td>PUNE</td>\n",
       "      <td>10643.50</td>\n",
       "      <td>1/8/16</td>\n",
       "      <td>18:27:01</td>\n",
       "      <td>945.00</td>\n",
       "      <td>37.915068</td>\n",
       "    </tr>\n",
       "  </tbody>\n",
       "</table>\n",
       "</div>"
      ],
      "text/plain": [
       "   TransactionID CustomerID CustomerDOB CustGender CustLocation  \\\n",
       "0             T3   C4417068  1996-11-26          F       MUMBAI   \n",
       "1             T4   C5342380  1973-09-14          F       MUMBAI   \n",
       "2             T5   C9031234  1988-03-24          F       MUMBAI   \n",
       "3             T7   C7126560  1992-01-26          F       MUMBAI   \n",
       "4             T8   C1220223  1982-01-27          M       MUMBAI   \n",
       "5             T9   C8536061  1988-04-19          F      GURGAON   \n",
       "6            T10   C6638934  1984-06-22          M       MUMBAI   \n",
       "7            T11   C5430833  1982-07-22          M       MOHALI   \n",
       "8            T13   C6339347  1978-06-13          M    AHMEDABAD   \n",
       "9            T14   C8327851  1992-05-01          F        THANE   \n",
       "10           T15   C7917151  1978-03-24          M         PUNE   \n",
       "11           T16   C8334633  2068-10-07          F    NEW DELHI   \n",
       "12           T17   C1376215         NaT          M       MUMBAI   \n",
       "13           T18   C8967349  1989-07-16          M       MUMBAI   \n",
       "14           T19   C3732016  1991-11-01          M       MUMBAI   \n",
       "15           T20   C8999019  1985-06-24          M         PUNE   \n",
       "\n",
       "    CustAccountBalance TransactionDate TransactionTime  \\\n",
       "0             17874.44          2/8/16        15:38:32   \n",
       "1            866503.21          2/8/16        15:38:34   \n",
       "2              6714.43          2/8/16        02:19:16   \n",
       "3               973.46          2/8/16        00:16:46   \n",
       "4             95075.54          2/8/16        23:22:17   \n",
       "5             14906.96          2/8/16        05:33:45   \n",
       "6              4279.22          2/8/16        05:27:26   \n",
       "7             48429.49          2/8/16        08:42:13   \n",
       "8             32274.78          2/8/16        08:37:14   \n",
       "9             59950.44          1/8/16        23:31:46   \n",
       "10            10100.84          1/8/16        22:50:53   \n",
       "11             1283.12          1/8/16        10:55:25   \n",
       "12            77495.15          1/8/16        10:38:47   \n",
       "13             2177.85          1/8/16        10:38:54   \n",
       "14            32816.17          1/8/16        09:55:35   \n",
       "15            10643.50          1/8/16        18:27:01   \n",
       "\n",
       "    TransactionAmount (INR)        Age  \n",
       "0                    459.00  26.482192  \n",
       "1                   2060.00  49.698630  \n",
       "2                   1762.50  35.164384  \n",
       "3                    566.00  31.320548  \n",
       "4                    148.00  41.323288  \n",
       "5                    833.00  35.093151  \n",
       "6                    289.11  38.920548  \n",
       "7                    259.00  40.841096  \n",
       "8                  12300.00  44.950685  \n",
       "9                     50.00  31.057534  \n",
       "10                   338.00  45.172603  \n",
       "11                   250.00   0.000000  \n",
       "12                  1423.11   0.000000  \n",
       "13                    54.00  33.852055  \n",
       "14                   315.00  31.556164  \n",
       "15                   945.00  37.915068  "
      ]
     },
     "execution_count": 20,
     "metadata": {},
     "output_type": "execute_result"
    }
   ],
   "source": [
    "df_bank.head(16)"
   ]
  },
  {
   "cell_type": "code",
   "execution_count": 14,
   "id": "4c6f8457",
   "metadata": {
    "scrolled": true
   },
   "outputs": [],
   "source": [
    "# Converting Age from Float64 to int 64(rounded)\n",
    "df_bank['Age']=df_bank['Age'].round().astype('int64')\n"
   ]
  },
  {
   "cell_type": "code",
   "execution_count": 22,
   "id": "b84bc527",
   "metadata": {},
   "outputs": [
    {
     "data": {
      "text/html": [
       "<div>\n",
       "<style scoped>\n",
       "    .dataframe tbody tr th:only-of-type {\n",
       "        vertical-align: middle;\n",
       "    }\n",
       "\n",
       "    .dataframe tbody tr th {\n",
       "        vertical-align: top;\n",
       "    }\n",
       "\n",
       "    .dataframe thead th {\n",
       "        text-align: right;\n",
       "    }\n",
       "</style>\n",
       "<table border=\"1\" class=\"dataframe\">\n",
       "  <thead>\n",
       "    <tr style=\"text-align: right;\">\n",
       "      <th></th>\n",
       "      <th>TransactionID</th>\n",
       "      <th>CustomerID</th>\n",
       "      <th>CustomerDOB</th>\n",
       "      <th>CustGender</th>\n",
       "      <th>CustLocation</th>\n",
       "      <th>CustAccountBalance</th>\n",
       "      <th>TransactionDate</th>\n",
       "      <th>TransactionTime</th>\n",
       "      <th>TransactionAmount (INR)</th>\n",
       "      <th>Age</th>\n",
       "    </tr>\n",
       "  </thead>\n",
       "  <tbody>\n",
       "    <tr>\n",
       "      <th>0</th>\n",
       "      <td>T3</td>\n",
       "      <td>C4417068</td>\n",
       "      <td>1996-11-26</td>\n",
       "      <td>F</td>\n",
       "      <td>MUMBAI</td>\n",
       "      <td>17874.44</td>\n",
       "      <td>2/8/16</td>\n",
       "      <td>15:38:32</td>\n",
       "      <td>459.00</td>\n",
       "      <td>26</td>\n",
       "    </tr>\n",
       "    <tr>\n",
       "      <th>1</th>\n",
       "      <td>T4</td>\n",
       "      <td>C5342380</td>\n",
       "      <td>1973-09-14</td>\n",
       "      <td>F</td>\n",
       "      <td>MUMBAI</td>\n",
       "      <td>866503.21</td>\n",
       "      <td>2/8/16</td>\n",
       "      <td>15:38:34</td>\n",
       "      <td>2060.00</td>\n",
       "      <td>50</td>\n",
       "    </tr>\n",
       "    <tr>\n",
       "      <th>2</th>\n",
       "      <td>T5</td>\n",
       "      <td>C9031234</td>\n",
       "      <td>1988-03-24</td>\n",
       "      <td>F</td>\n",
       "      <td>MUMBAI</td>\n",
       "      <td>6714.43</td>\n",
       "      <td>2/8/16</td>\n",
       "      <td>02:19:16</td>\n",
       "      <td>1762.50</td>\n",
       "      <td>35</td>\n",
       "    </tr>\n",
       "    <tr>\n",
       "      <th>3</th>\n",
       "      <td>T7</td>\n",
       "      <td>C7126560</td>\n",
       "      <td>1992-01-26</td>\n",
       "      <td>F</td>\n",
       "      <td>MUMBAI</td>\n",
       "      <td>973.46</td>\n",
       "      <td>2/8/16</td>\n",
       "      <td>00:16:46</td>\n",
       "      <td>566.00</td>\n",
       "      <td>31</td>\n",
       "    </tr>\n",
       "    <tr>\n",
       "      <th>4</th>\n",
       "      <td>T8</td>\n",
       "      <td>C1220223</td>\n",
       "      <td>1982-01-27</td>\n",
       "      <td>M</td>\n",
       "      <td>MUMBAI</td>\n",
       "      <td>95075.54</td>\n",
       "      <td>2/8/16</td>\n",
       "      <td>23:22:17</td>\n",
       "      <td>148.00</td>\n",
       "      <td>41</td>\n",
       "    </tr>\n",
       "    <tr>\n",
       "      <th>5</th>\n",
       "      <td>T9</td>\n",
       "      <td>C8536061</td>\n",
       "      <td>1988-04-19</td>\n",
       "      <td>F</td>\n",
       "      <td>GURGAON</td>\n",
       "      <td>14906.96</td>\n",
       "      <td>2/8/16</td>\n",
       "      <td>05:33:45</td>\n",
       "      <td>833.00</td>\n",
       "      <td>35</td>\n",
       "    </tr>\n",
       "    <tr>\n",
       "      <th>6</th>\n",
       "      <td>T10</td>\n",
       "      <td>C6638934</td>\n",
       "      <td>1984-06-22</td>\n",
       "      <td>M</td>\n",
       "      <td>MUMBAI</td>\n",
       "      <td>4279.22</td>\n",
       "      <td>2/8/16</td>\n",
       "      <td>05:27:26</td>\n",
       "      <td>289.11</td>\n",
       "      <td>39</td>\n",
       "    </tr>\n",
       "    <tr>\n",
       "      <th>7</th>\n",
       "      <td>T11</td>\n",
       "      <td>C5430833</td>\n",
       "      <td>1982-07-22</td>\n",
       "      <td>M</td>\n",
       "      <td>MOHALI</td>\n",
       "      <td>48429.49</td>\n",
       "      <td>2/8/16</td>\n",
       "      <td>08:42:13</td>\n",
       "      <td>259.00</td>\n",
       "      <td>41</td>\n",
       "    </tr>\n",
       "    <tr>\n",
       "      <th>8</th>\n",
       "      <td>T13</td>\n",
       "      <td>C6339347</td>\n",
       "      <td>1978-06-13</td>\n",
       "      <td>M</td>\n",
       "      <td>AHMEDABAD</td>\n",
       "      <td>32274.78</td>\n",
       "      <td>2/8/16</td>\n",
       "      <td>08:37:14</td>\n",
       "      <td>12300.00</td>\n",
       "      <td>45</td>\n",
       "    </tr>\n",
       "    <tr>\n",
       "      <th>9</th>\n",
       "      <td>T14</td>\n",
       "      <td>C8327851</td>\n",
       "      <td>1992-05-01</td>\n",
       "      <td>F</td>\n",
       "      <td>THANE</td>\n",
       "      <td>59950.44</td>\n",
       "      <td>1/8/16</td>\n",
       "      <td>23:31:46</td>\n",
       "      <td>50.00</td>\n",
       "      <td>31</td>\n",
       "    </tr>\n",
       "  </tbody>\n",
       "</table>\n",
       "</div>"
      ],
      "text/plain": [
       "  TransactionID CustomerID CustomerDOB CustGender CustLocation  \\\n",
       "0            T3   C4417068  1996-11-26          F       MUMBAI   \n",
       "1            T4   C5342380  1973-09-14          F       MUMBAI   \n",
       "2            T5   C9031234  1988-03-24          F       MUMBAI   \n",
       "3            T7   C7126560  1992-01-26          F       MUMBAI   \n",
       "4            T8   C1220223  1982-01-27          M       MUMBAI   \n",
       "5            T9   C8536061  1988-04-19          F      GURGAON   \n",
       "6           T10   C6638934  1984-06-22          M       MUMBAI   \n",
       "7           T11   C5430833  1982-07-22          M       MOHALI   \n",
       "8           T13   C6339347  1978-06-13          M    AHMEDABAD   \n",
       "9           T14   C8327851  1992-05-01          F        THANE   \n",
       "\n",
       "   CustAccountBalance TransactionDate TransactionTime  \\\n",
       "0            17874.44          2/8/16        15:38:32   \n",
       "1           866503.21          2/8/16        15:38:34   \n",
       "2             6714.43          2/8/16        02:19:16   \n",
       "3              973.46          2/8/16        00:16:46   \n",
       "4            95075.54          2/8/16        23:22:17   \n",
       "5            14906.96          2/8/16        05:33:45   \n",
       "6             4279.22          2/8/16        05:27:26   \n",
       "7            48429.49          2/8/16        08:42:13   \n",
       "8            32274.78          2/8/16        08:37:14   \n",
       "9            59950.44          1/8/16        23:31:46   \n",
       "\n",
       "   TransactionAmount (INR)  Age  \n",
       "0                   459.00   26  \n",
       "1                  2060.00   50  \n",
       "2                  1762.50   35  \n",
       "3                   566.00   31  \n",
       "4                   148.00   41  \n",
       "5                   833.00   35  \n",
       "6                   289.11   39  \n",
       "7                   259.00   41  \n",
       "8                 12300.00   45  \n",
       "9                    50.00   31  "
      ]
     },
     "execution_count": 22,
     "metadata": {},
     "output_type": "execute_result"
    }
   ],
   "source": [
    "df_bank.head(10)"
   ]
  },
  {
   "cell_type": "code",
   "execution_count": 23,
   "id": "05115bd9",
   "metadata": {},
   "outputs": [
    {
     "data": {
      "text/plain": [
       "TransactionID                      object\n",
       "CustomerID                         object\n",
       "CustomerDOB                datetime64[ns]\n",
       "CustGender                         object\n",
       "CustLocation                       object\n",
       "CustAccountBalance                float64\n",
       "TransactionDate                    object\n",
       "TransactionTime                    object\n",
       "TransactionAmount (INR)           float64\n",
       "Age                                 int64\n",
       "dtype: object"
      ]
     },
     "execution_count": 23,
     "metadata": {},
     "output_type": "execute_result"
    }
   ],
   "source": [
    "df_bank.dtypes"
   ]
  },
  {
   "cell_type": "code",
   "execution_count": 24,
   "id": "29164560",
   "metadata": {},
   "outputs": [
    {
     "data": {
      "text/plain": [
       "7/8/16      17397\n",
       "13/8/16     17391\n",
       "3/9/16      17033\n",
       "6/8/16      17017\n",
       "4/9/16      16917\n",
       "14/8/16     16460\n",
       "10/9/16     16378\n",
       "11/9/16     16167\n",
       "15/8/16     15183\n",
       "21/8/16     14633\n",
       "2/9/16      14292\n",
       "12/8/16     14085\n",
       "1/9/16      14051\n",
       "27/8/16     13875\n",
       "20/8/16     13613\n",
       "10/8/16     13560\n",
       "9/8/16      13520\n",
       "11/8/16     13506\n",
       "8/9/16      13499\n",
       "28/8/16     13476\n",
       "17/8/16     13431\n",
       "9/9/16      13407\n",
       "5/8/16      13250\n",
       "2/8/16      13248\n",
       "7/9/16      13239\n",
       "5/9/16      13215\n",
       "8/8/16      13045\n",
       "4/8/16      13024\n",
       "1/8/16      13015\n",
       "3/8/16      12969\n",
       "13/9/16     12805\n",
       "12/9/16     12756\n",
       "16/8/16     12649\n",
       "14/9/16     12566\n",
       "31/8/16     12372\n",
       "6/9/16      12287\n",
       "15/9/16     12274\n",
       "18/8/16     12172\n",
       "25/8/16     11750\n",
       "19/8/16     11607\n",
       "22/8/16     11516\n",
       "24/8/16     11402\n",
       "26/8/16     11166\n",
       "23/8/16     10834\n",
       "30/8/16     10736\n",
       "29/8/16     10414\n",
       "18/9/16      9270\n",
       "26/9/16      7828\n",
       "25/9/16      5221\n",
       "27/9/16      4651\n",
       "22/9/16      4357\n",
       "21/10/16     2300\n",
       "23/9/16      2239\n",
       "30/9/16      1235\n",
       "16/10/16        1\n",
       "Name: TransactionDate, dtype: int64"
      ]
     },
     "execution_count": 24,
     "metadata": {},
     "output_type": "execute_result"
    }
   ],
   "source": [
    "df_bank['TransactionDate'].value_counts(dropna=False)"
   ]
  },
  {
   "cell_type": "code",
   "execution_count": 15,
   "id": "dae8d502",
   "metadata": {},
   "outputs": [],
   "source": [
    "# Replaced wrong transaction date 0 to 1/1/2016,as all transactions are in 2016\n",
    "df_bank['TransactionDate'] = df_bank['TransactionDate'].replace([0], ['1/1/2016'])"
   ]
  },
  {
   "cell_type": "code",
   "execution_count": 26,
   "id": "93e5b888",
   "metadata": {},
   "outputs": [
    {
     "data": {
      "text/plain": [
       "7/8/16      17397\n",
       "13/8/16     17391\n",
       "3/9/16      17033\n",
       "6/8/16      17017\n",
       "4/9/16      16917\n",
       "14/8/16     16460\n",
       "10/9/16     16378\n",
       "11/9/16     16167\n",
       "15/8/16     15183\n",
       "21/8/16     14633\n",
       "2/9/16      14292\n",
       "12/8/16     14085\n",
       "1/9/16      14051\n",
       "27/8/16     13875\n",
       "20/8/16     13613\n",
       "10/8/16     13560\n",
       "9/8/16      13520\n",
       "11/8/16     13506\n",
       "8/9/16      13499\n",
       "28/8/16     13476\n",
       "17/8/16     13431\n",
       "9/9/16      13407\n",
       "5/8/16      13250\n",
       "2/8/16      13248\n",
       "7/9/16      13239\n",
       "5/9/16      13215\n",
       "8/8/16      13045\n",
       "4/8/16      13024\n",
       "1/8/16      13015\n",
       "3/8/16      12969\n",
       "13/9/16     12805\n",
       "12/9/16     12756\n",
       "16/8/16     12649\n",
       "14/9/16     12566\n",
       "31/8/16     12372\n",
       "6/9/16      12287\n",
       "15/9/16     12274\n",
       "18/8/16     12172\n",
       "25/8/16     11750\n",
       "19/8/16     11607\n",
       "22/8/16     11516\n",
       "24/8/16     11402\n",
       "26/8/16     11166\n",
       "23/8/16     10834\n",
       "30/8/16     10736\n",
       "29/8/16     10414\n",
       "18/9/16      9270\n",
       "26/9/16      7828\n",
       "25/9/16      5221\n",
       "27/9/16      4651\n",
       "22/9/16      4357\n",
       "21/10/16     2300\n",
       "23/9/16      2239\n",
       "30/9/16      1235\n",
       "16/10/16        1\n",
       "Name: TransactionDate, dtype: int64"
      ]
     },
     "execution_count": 26,
     "metadata": {},
     "output_type": "execute_result"
    }
   ],
   "source": [
    "df_bank['TransactionDate'].value_counts(dropna=False)"
   ]
  },
  {
   "cell_type": "code",
   "execution_count": 16,
   "id": "bc0615b9",
   "metadata": {},
   "outputs": [],
   "source": [
    "# convert TransactionDate from string to date format\n",
    "df_bank['TransactionDate'] = pd.to_datetime(df_bank['TransactionDate'])"
   ]
  },
  {
   "cell_type": "code",
   "execution_count": 28,
   "id": "9645bb61",
   "metadata": {},
   "outputs": [
    {
     "data": {
      "text/plain": [
       "2016-07-08    17397\n",
       "2016-08-13    17391\n",
       "2016-03-09    17033\n",
       "2016-06-08    17017\n",
       "2016-04-09    16917\n",
       "2016-08-14    16460\n",
       "2016-10-09    16378\n",
       "2016-11-09    16167\n",
       "2016-08-15    15183\n",
       "2016-08-21    14633\n",
       "2016-02-09    14292\n",
       "2016-12-08    14085\n",
       "2016-01-09    14051\n",
       "2016-08-27    13875\n",
       "2016-08-20    13613\n",
       "2016-10-08    13560\n",
       "2016-09-08    13520\n",
       "2016-11-08    13506\n",
       "2016-08-09    13499\n",
       "2016-08-28    13476\n",
       "2016-08-17    13431\n",
       "2016-09-09    13407\n",
       "2016-05-08    13250\n",
       "2016-02-08    13248\n",
       "2016-07-09    13239\n",
       "2016-05-09    13215\n",
       "2016-08-08    13045\n",
       "2016-04-08    13024\n",
       "2016-01-08    13015\n",
       "2016-03-08    12969\n",
       "2016-09-13    12805\n",
       "2016-12-09    12756\n",
       "2016-08-16    12649\n",
       "2016-09-14    12566\n",
       "2016-08-31    12372\n",
       "2016-06-09    12287\n",
       "2016-09-15    12274\n",
       "2016-08-18    12172\n",
       "2016-08-25    11750\n",
       "2016-08-19    11607\n",
       "2016-08-22    11516\n",
       "2016-08-24    11402\n",
       "2016-08-26    11166\n",
       "2016-08-23    10834\n",
       "2016-08-30    10736\n",
       "2016-08-29    10414\n",
       "2016-09-18     9270\n",
       "2016-09-26     7828\n",
       "2016-09-25     5221\n",
       "2016-09-27     4651\n",
       "2016-09-22     4357\n",
       "2016-10-21     2300\n",
       "2016-09-23     2239\n",
       "2016-09-30     1235\n",
       "2016-10-16        1\n",
       "Name: TransactionDate, dtype: int64"
      ]
     },
     "execution_count": 28,
     "metadata": {},
     "output_type": "execute_result"
    }
   ],
   "source": [
    "df_bank['TransactionDate'].value_counts(dropna=False)"
   ]
  },
  {
   "cell_type": "code",
   "execution_count": 17,
   "id": "ff9f37e6",
   "metadata": {},
   "outputs": [],
   "source": [
    "# Extract month from TransactionDate\n",
    "df_bank['month of transaction'] = pd.DatetimeIndex(df_bank['TransactionDate']).month"
   ]
  },
  {
   "cell_type": "code",
   "execution_count": 30,
   "id": "6e6627cf",
   "metadata": {},
   "outputs": [
    {
     "data": {
      "text/html": [
       "<div>\n",
       "<style scoped>\n",
       "    .dataframe tbody tr th:only-of-type {\n",
       "        vertical-align: middle;\n",
       "    }\n",
       "\n",
       "    .dataframe tbody tr th {\n",
       "        vertical-align: top;\n",
       "    }\n",
       "\n",
       "    .dataframe thead th {\n",
       "        text-align: right;\n",
       "    }\n",
       "</style>\n",
       "<table border=\"1\" class=\"dataframe\">\n",
       "  <thead>\n",
       "    <tr style=\"text-align: right;\">\n",
       "      <th></th>\n",
       "      <th>TransactionID</th>\n",
       "      <th>CustomerID</th>\n",
       "      <th>CustomerDOB</th>\n",
       "      <th>CustGender</th>\n",
       "      <th>CustLocation</th>\n",
       "      <th>CustAccountBalance</th>\n",
       "      <th>TransactionDate</th>\n",
       "      <th>TransactionTime</th>\n",
       "      <th>TransactionAmount (INR)</th>\n",
       "      <th>Age</th>\n",
       "      <th>month of transaction</th>\n",
       "    </tr>\n",
       "  </thead>\n",
       "  <tbody>\n",
       "    <tr>\n",
       "      <th>0</th>\n",
       "      <td>T3</td>\n",
       "      <td>C4417068</td>\n",
       "      <td>1996-11-26</td>\n",
       "      <td>F</td>\n",
       "      <td>MUMBAI</td>\n",
       "      <td>17874.44</td>\n",
       "      <td>2016-02-08</td>\n",
       "      <td>15:38:32</td>\n",
       "      <td>459.00</td>\n",
       "      <td>26</td>\n",
       "      <td>2</td>\n",
       "    </tr>\n",
       "    <tr>\n",
       "      <th>1</th>\n",
       "      <td>T4</td>\n",
       "      <td>C5342380</td>\n",
       "      <td>1973-09-14</td>\n",
       "      <td>F</td>\n",
       "      <td>MUMBAI</td>\n",
       "      <td>866503.21</td>\n",
       "      <td>2016-02-08</td>\n",
       "      <td>15:38:34</td>\n",
       "      <td>2060.00</td>\n",
       "      <td>50</td>\n",
       "      <td>2</td>\n",
       "    </tr>\n",
       "    <tr>\n",
       "      <th>2</th>\n",
       "      <td>T5</td>\n",
       "      <td>C9031234</td>\n",
       "      <td>1988-03-24</td>\n",
       "      <td>F</td>\n",
       "      <td>MUMBAI</td>\n",
       "      <td>6714.43</td>\n",
       "      <td>2016-02-08</td>\n",
       "      <td>02:19:16</td>\n",
       "      <td>1762.50</td>\n",
       "      <td>35</td>\n",
       "      <td>2</td>\n",
       "    </tr>\n",
       "    <tr>\n",
       "      <th>3</th>\n",
       "      <td>T7</td>\n",
       "      <td>C7126560</td>\n",
       "      <td>1992-01-26</td>\n",
       "      <td>F</td>\n",
       "      <td>MUMBAI</td>\n",
       "      <td>973.46</td>\n",
       "      <td>2016-02-08</td>\n",
       "      <td>00:16:46</td>\n",
       "      <td>566.00</td>\n",
       "      <td>31</td>\n",
       "      <td>2</td>\n",
       "    </tr>\n",
       "    <tr>\n",
       "      <th>4</th>\n",
       "      <td>T8</td>\n",
       "      <td>C1220223</td>\n",
       "      <td>1982-01-27</td>\n",
       "      <td>M</td>\n",
       "      <td>MUMBAI</td>\n",
       "      <td>95075.54</td>\n",
       "      <td>2016-02-08</td>\n",
       "      <td>23:22:17</td>\n",
       "      <td>148.00</td>\n",
       "      <td>41</td>\n",
       "      <td>2</td>\n",
       "    </tr>\n",
       "    <tr>\n",
       "      <th>5</th>\n",
       "      <td>T9</td>\n",
       "      <td>C8536061</td>\n",
       "      <td>1988-04-19</td>\n",
       "      <td>F</td>\n",
       "      <td>GURGAON</td>\n",
       "      <td>14906.96</td>\n",
       "      <td>2016-02-08</td>\n",
       "      <td>05:33:45</td>\n",
       "      <td>833.00</td>\n",
       "      <td>35</td>\n",
       "      <td>2</td>\n",
       "    </tr>\n",
       "    <tr>\n",
       "      <th>6</th>\n",
       "      <td>T10</td>\n",
       "      <td>C6638934</td>\n",
       "      <td>1984-06-22</td>\n",
       "      <td>M</td>\n",
       "      <td>MUMBAI</td>\n",
       "      <td>4279.22</td>\n",
       "      <td>2016-02-08</td>\n",
       "      <td>05:27:26</td>\n",
       "      <td>289.11</td>\n",
       "      <td>39</td>\n",
       "      <td>2</td>\n",
       "    </tr>\n",
       "    <tr>\n",
       "      <th>7</th>\n",
       "      <td>T11</td>\n",
       "      <td>C5430833</td>\n",
       "      <td>1982-07-22</td>\n",
       "      <td>M</td>\n",
       "      <td>MOHALI</td>\n",
       "      <td>48429.49</td>\n",
       "      <td>2016-02-08</td>\n",
       "      <td>08:42:13</td>\n",
       "      <td>259.00</td>\n",
       "      <td>41</td>\n",
       "      <td>2</td>\n",
       "    </tr>\n",
       "    <tr>\n",
       "      <th>8</th>\n",
       "      <td>T13</td>\n",
       "      <td>C6339347</td>\n",
       "      <td>1978-06-13</td>\n",
       "      <td>M</td>\n",
       "      <td>AHMEDABAD</td>\n",
       "      <td>32274.78</td>\n",
       "      <td>2016-02-08</td>\n",
       "      <td>08:37:14</td>\n",
       "      <td>12300.00</td>\n",
       "      <td>45</td>\n",
       "      <td>2</td>\n",
       "    </tr>\n",
       "    <tr>\n",
       "      <th>9</th>\n",
       "      <td>T14</td>\n",
       "      <td>C8327851</td>\n",
       "      <td>1992-05-01</td>\n",
       "      <td>F</td>\n",
       "      <td>THANE</td>\n",
       "      <td>59950.44</td>\n",
       "      <td>2016-01-08</td>\n",
       "      <td>23:31:46</td>\n",
       "      <td>50.00</td>\n",
       "      <td>31</td>\n",
       "      <td>1</td>\n",
       "    </tr>\n",
       "  </tbody>\n",
       "</table>\n",
       "</div>"
      ],
      "text/plain": [
       "  TransactionID CustomerID CustomerDOB CustGender CustLocation  \\\n",
       "0            T3   C4417068  1996-11-26          F       MUMBAI   \n",
       "1            T4   C5342380  1973-09-14          F       MUMBAI   \n",
       "2            T5   C9031234  1988-03-24          F       MUMBAI   \n",
       "3            T7   C7126560  1992-01-26          F       MUMBAI   \n",
       "4            T8   C1220223  1982-01-27          M       MUMBAI   \n",
       "5            T9   C8536061  1988-04-19          F      GURGAON   \n",
       "6           T10   C6638934  1984-06-22          M       MUMBAI   \n",
       "7           T11   C5430833  1982-07-22          M       MOHALI   \n",
       "8           T13   C6339347  1978-06-13          M    AHMEDABAD   \n",
       "9           T14   C8327851  1992-05-01          F        THANE   \n",
       "\n",
       "   CustAccountBalance TransactionDate TransactionTime  \\\n",
       "0            17874.44      2016-02-08        15:38:32   \n",
       "1           866503.21      2016-02-08        15:38:34   \n",
       "2             6714.43      2016-02-08        02:19:16   \n",
       "3              973.46      2016-02-08        00:16:46   \n",
       "4            95075.54      2016-02-08        23:22:17   \n",
       "5            14906.96      2016-02-08        05:33:45   \n",
       "6             4279.22      2016-02-08        05:27:26   \n",
       "7            48429.49      2016-02-08        08:42:13   \n",
       "8            32274.78      2016-02-08        08:37:14   \n",
       "9            59950.44      2016-01-08        23:31:46   \n",
       "\n",
       "   TransactionAmount (INR)  Age  month of transaction  \n",
       "0                   459.00   26                     2  \n",
       "1                  2060.00   50                     2  \n",
       "2                  1762.50   35                     2  \n",
       "3                   566.00   31                     2  \n",
       "4                   148.00   41                     2  \n",
       "5                   833.00   35                     2  \n",
       "6                   289.11   39                     2  \n",
       "7                   259.00   41                     2  \n",
       "8                 12300.00   45                     2  \n",
       "9                    50.00   31                     1  "
      ]
     },
     "execution_count": 30,
     "metadata": {},
     "output_type": "execute_result"
    }
   ],
   "source": [
    "df_bank.head(10)"
   ]
  },
  {
   "cell_type": "code",
   "execution_count": 31,
   "id": "a93ca243",
   "metadata": {},
   "outputs": [
    {
     "data": {
      "text/plain": [
       "8     271224\n",
       "9      99373\n",
       "10     32239\n",
       "7      30636\n",
       "3      30002\n",
       "4      29941\n",
       "11     29673\n",
       "6      29304\n",
       "2      27540\n",
       "1      27066\n",
       "12     26841\n",
       "5      26465\n",
       "Name: month of transaction, dtype: int64"
      ]
     },
     "execution_count": 31,
     "metadata": {},
     "output_type": "execute_result"
    }
   ],
   "source": [
    "df_bank['month of transaction'].value_counts(dropna=False)"
   ]
  },
  {
   "cell_type": "code",
   "execution_count": 18,
   "id": "647e545a",
   "metadata": {},
   "outputs": [],
   "source": [
    "# convert month number to month name\n",
    "df_bank['Trans_monthname'] = df_bank['month of transaction'].apply(lambda x: calendar.month_abbr[x])"
   ]
  },
  {
   "cell_type": "code",
   "execution_count": 19,
   "id": "3201adf9",
   "metadata": {},
   "outputs": [
    {
     "data": {
      "text/plain": [
       "8     271224\n",
       "9      99373\n",
       "10     32239\n",
       "7      30636\n",
       "3      30002\n",
       "4      29941\n",
       "11     29673\n",
       "6      29304\n",
       "2      27540\n",
       "1      27066\n",
       "12     26841\n",
       "5      26465\n",
       "Name: month of transaction, dtype: int64"
      ]
     },
     "execution_count": 19,
     "metadata": {},
     "output_type": "execute_result"
    }
   ],
   "source": [
    "df_bank['month of transaction'].value_counts(dropna=False)"
   ]
  },
  {
   "cell_type": "code",
   "execution_count": 34,
   "id": "01bf0c83",
   "metadata": {},
   "outputs": [
    {
     "data": {
      "text/plain": [
       "Index(['TransactionID', 'CustomerID', 'CustomerDOB', 'CustGender',\n",
       "       'CustLocation', 'CustAccountBalance', 'TransactionDate',\n",
       "       'TransactionTime', 'TransactionAmount (INR)', 'Age',\n",
       "       'month of transaction', 'Trans_monthname'],\n",
       "      dtype='object')"
      ]
     },
     "execution_count": 34,
     "metadata": {},
     "output_type": "execute_result"
    }
   ],
   "source": [
    "df_bank.columns"
   ]
  },
  {
   "cell_type": "code",
   "execution_count": 20,
   "id": "6b698fbb",
   "metadata": {},
   "outputs": [],
   "source": [
    "#Create a subset \n",
    "df_bank_sub=df_bank[[ 'Age','month of transaction','CustAccountBalance', 'TransactionAmount (INR)']]"
   ]
  },
  {
   "cell_type": "code",
   "execution_count": 21,
   "id": "aaae9e10",
   "metadata": {},
   "outputs": [],
   "source": [
    "# create a new df with exclude age 0\n",
    "df_bank_sub= df_bank_sub[df_bank_sub['Age'] != 0]"
   ]
  },
  {
   "cell_type": "code",
   "execution_count": 22,
   "id": "0891f486",
   "metadata": {},
   "outputs": [
    {
     "data": {
      "text/html": [
       "<div>\n",
       "<style scoped>\n",
       "    .dataframe tbody tr th:only-of-type {\n",
       "        vertical-align: middle;\n",
       "    }\n",
       "\n",
       "    .dataframe tbody tr th {\n",
       "        vertical-align: top;\n",
       "    }\n",
       "\n",
       "    .dataframe thead th {\n",
       "        text-align: right;\n",
       "    }\n",
       "</style>\n",
       "<table border=\"1\" class=\"dataframe\">\n",
       "  <thead>\n",
       "    <tr style=\"text-align: right;\">\n",
       "      <th></th>\n",
       "      <th>Age</th>\n",
       "      <th>month of transaction</th>\n",
       "      <th>CustAccountBalance</th>\n",
       "      <th>TransactionAmount (INR)</th>\n",
       "    </tr>\n",
       "  </thead>\n",
       "  <tbody>\n",
       "    <tr>\n",
       "      <th>0</th>\n",
       "      <td>27</td>\n",
       "      <td>2</td>\n",
       "      <td>17874.44</td>\n",
       "      <td>459.00</td>\n",
       "    </tr>\n",
       "    <tr>\n",
       "      <th>1</th>\n",
       "      <td>50</td>\n",
       "      <td>2</td>\n",
       "      <td>866503.21</td>\n",
       "      <td>2060.00</td>\n",
       "    </tr>\n",
       "    <tr>\n",
       "      <th>2</th>\n",
       "      <td>35</td>\n",
       "      <td>2</td>\n",
       "      <td>6714.43</td>\n",
       "      <td>1762.50</td>\n",
       "    </tr>\n",
       "    <tr>\n",
       "      <th>3</th>\n",
       "      <td>31</td>\n",
       "      <td>2</td>\n",
       "      <td>973.46</td>\n",
       "      <td>566.00</td>\n",
       "    </tr>\n",
       "    <tr>\n",
       "      <th>4</th>\n",
       "      <td>41</td>\n",
       "      <td>2</td>\n",
       "      <td>95075.54</td>\n",
       "      <td>148.00</td>\n",
       "    </tr>\n",
       "    <tr>\n",
       "      <th>5</th>\n",
       "      <td>35</td>\n",
       "      <td>2</td>\n",
       "      <td>14906.96</td>\n",
       "      <td>833.00</td>\n",
       "    </tr>\n",
       "    <tr>\n",
       "      <th>6</th>\n",
       "      <td>39</td>\n",
       "      <td>2</td>\n",
       "      <td>4279.22</td>\n",
       "      <td>289.11</td>\n",
       "    </tr>\n",
       "    <tr>\n",
       "      <th>7</th>\n",
       "      <td>41</td>\n",
       "      <td>2</td>\n",
       "      <td>48429.49</td>\n",
       "      <td>259.00</td>\n",
       "    </tr>\n",
       "    <tr>\n",
       "      <th>8</th>\n",
       "      <td>45</td>\n",
       "      <td>2</td>\n",
       "      <td>32274.78</td>\n",
       "      <td>12300.00</td>\n",
       "    </tr>\n",
       "    <tr>\n",
       "      <th>9</th>\n",
       "      <td>31</td>\n",
       "      <td>1</td>\n",
       "      <td>59950.44</td>\n",
       "      <td>50.00</td>\n",
       "    </tr>\n",
       "  </tbody>\n",
       "</table>\n",
       "</div>"
      ],
      "text/plain": [
       "   Age  month of transaction  CustAccountBalance  TransactionAmount (INR)\n",
       "0   27                     2            17874.44                   459.00\n",
       "1   50                     2           866503.21                  2060.00\n",
       "2   35                     2             6714.43                  1762.50\n",
       "3   31                     2              973.46                   566.00\n",
       "4   41                     2            95075.54                   148.00\n",
       "5   35                     2            14906.96                   833.00\n",
       "6   39                     2             4279.22                   289.11\n",
       "7   41                     2            48429.49                   259.00\n",
       "8   45                     2            32274.78                 12300.00\n",
       "9   31                     1            59950.44                    50.00"
      ]
     },
     "execution_count": 22,
     "metadata": {},
     "output_type": "execute_result"
    }
   ],
   "source": [
    "df_bank_sub.head(10)"
   ]
  },
  {
   "cell_type": "markdown",
   "id": "97f2e97a",
   "metadata": {},
   "source": [
    "# 3. Exploring Relationships"
   ]
  },
  {
   "cell_type": "markdown",
   "id": "77ecf418",
   "metadata": {},
   "source": [
    "# Correlation"
   ]
  },
  {
   "cell_type": "code",
   "execution_count": 23,
   "id": "e207cc8e",
   "metadata": {},
   "outputs": [
    {
     "data": {
      "text/html": [
       "<div>\n",
       "<style scoped>\n",
       "    .dataframe tbody tr th:only-of-type {\n",
       "        vertical-align: middle;\n",
       "    }\n",
       "\n",
       "    .dataframe tbody tr th {\n",
       "        vertical-align: top;\n",
       "    }\n",
       "\n",
       "    .dataframe thead th {\n",
       "        text-align: right;\n",
       "    }\n",
       "</style>\n",
       "<table border=\"1\" class=\"dataframe\">\n",
       "  <thead>\n",
       "    <tr style=\"text-align: right;\">\n",
       "      <th></th>\n",
       "      <th>Age</th>\n",
       "      <th>month of transaction</th>\n",
       "      <th>CustAccountBalance</th>\n",
       "      <th>TransactionAmount (INR)</th>\n",
       "    </tr>\n",
       "  </thead>\n",
       "  <tbody>\n",
       "    <tr>\n",
       "      <th>Age</th>\n",
       "      <td>1.000000</td>\n",
       "      <td>-0.002350</td>\n",
       "      <td>0.134478</td>\n",
       "      <td>0.065254</td>\n",
       "    </tr>\n",
       "    <tr>\n",
       "      <th>month of transaction</th>\n",
       "      <td>-0.002350</td>\n",
       "      <td>1.000000</td>\n",
       "      <td>0.005250</td>\n",
       "      <td>-0.003757</td>\n",
       "    </tr>\n",
       "    <tr>\n",
       "      <th>CustAccountBalance</th>\n",
       "      <td>0.134478</td>\n",
       "      <td>0.005250</td>\n",
       "      <td>1.000000</td>\n",
       "      <td>0.057454</td>\n",
       "    </tr>\n",
       "    <tr>\n",
       "      <th>TransactionAmount (INR)</th>\n",
       "      <td>0.065254</td>\n",
       "      <td>-0.003757</td>\n",
       "      <td>0.057454</td>\n",
       "      <td>1.000000</td>\n",
       "    </tr>\n",
       "  </tbody>\n",
       "</table>\n",
       "</div>"
      ],
      "text/plain": [
       "                              Age  month of transaction  CustAccountBalance  \\\n",
       "Age                      1.000000             -0.002350            0.134478   \n",
       "month of transaction    -0.002350              1.000000            0.005250   \n",
       "CustAccountBalance       0.134478              0.005250            1.000000   \n",
       "TransactionAmount (INR)  0.065254             -0.003757            0.057454   \n",
       "\n",
       "                         TransactionAmount (INR)  \n",
       "Age                                     0.065254  \n",
       "month of transaction                   -0.003757  \n",
       "CustAccountBalance                      0.057454  \n",
       "TransactionAmount (INR)                 1.000000  "
      ]
     },
     "execution_count": 23,
     "metadata": {},
     "output_type": "execute_result"
    }
   ],
   "source": [
    "# create a correlation matrix\n",
    "df_bank_sub.corr()"
   ]
  },
  {
   "cell_type": "markdown",
   "id": "8c2f2665",
   "metadata": {},
   "source": [
    "# Create a correlation heatmap using matplotlib"
   ]
  },
  {
   "cell_type": "code",
   "execution_count": 24,
   "id": "17ef326f",
   "metadata": {},
   "outputs": [
    {
     "data": {
      "image/png": "[encoded data removed]",
      "text/plain": [
       "<Figure size 480x480 with 1 Axes>"
      ]
     },
     "metadata": {},
     "output_type": "display_data"
    }
   ],
   "source": [
    "# Create a correlation heatmap using matplotlib\n",
    "\n",
    "plt.matshow(df_bank_sub.corr())\n",
    "plt.show()"
   ]
  },
  {
   "cell_type": "code",
   "execution_count": 25,
   "id": "485d9745",
   "metadata": {},
   "outputs": [
    {
     "data": {
      "text/plain": [
       "Text(0.5, 1.0, 'Correlation Matrix')"
      ]
     },
     "execution_count": 25,
     "metadata": {},
     "output_type": "execute_result"
    },
    {
     "data": {
      "image/png": "[encoded data removed]",
      "text/plain": [
       "<Figure size 800x800 with 2 Axes>"
      ]
     },
     "metadata": {},
     "output_type": "display_data"
    }
   ],
   "source": [
    "# Add labels, a legend, and change the size of the heatmap\n",
    "\n",
    "f = plt.figure(figsize=(8, 8)) # figure size \n",
    "plt.matshow(df_bank_sub.corr(), fignum=f.number) # type of plot\n",
    "plt.xticks(range(df_bank_sub.shape[1]), df_bank_sub.columns, fontsize=14, rotation=90) # x axis labels\n",
    "plt.yticks(range(df_bank_sub.shape[1]), df_bank_sub.columns, fontsize=14) # y axis labels\n",
    "cb = plt.colorbar() # add a colour legend (called colorbar)\n",
    "cb.ax.tick_params(labelsize=14) # add font size\n",
    "plt.title('Correlation Matrix', fontsize=14) # add title"
   ]
  },
  {
   "cell_type": "markdown",
   "id": "ac4b5a2a",
   "metadata": {},
   "source": [
    "# Create a correlation heatmap using seaborn:"
   ]
  },
  {
   "cell_type": "code",
   "execution_count": 26,
   "id": "031ccae1",
   "metadata": {
    "code_folding": []
   },
   "outputs": [
    {
     "data": {
      "image/png": "[encoded data removed]",
      "text/plain": [
       "<Figure size 1000x1000 with 2 Axes>"
      ]
     },
     "metadata": {},
     "output_type": "display_data"
    }
   ],
   "source": [
    "# Create a subplot with matplotlib\n",
    "f,ax = plt.subplots(figsize=(10,10))\n",
    "\n",
    "# Create the correlation heatmap in seaborn by applying a heatmap onto the correlation matrix and the subplots defined above.\n",
    "corr = sns.heatmap(df_bank_sub.corr(), annot = True, ax = ax) # The `annot` argument allows the plot to place the correlation coefficients onto the heatmap."
   ]
  },
  {
   "cell_type": "code",
   "execution_count": null,
   "id": "e578a30d",
   "metadata": {},
   "outputs": [],
   "source": [
    "# 0.066 coefficient indicates no/weak relationship between transaction amount & the customer account balance\n",
    "#0.0097 coefficient indicates no/weak relationship between Age & transaction amount\n",
    "#0.014  coefficient indicates no/weak relationship between Age & cust Account balance\n",
    "#0.39  coefficient indicates moderate relationship between Age & month of transaction.But it doesnt make any sense.\n",
    "#0.037 oefficient indicates no/weak relationship between month of transaction & transaction amount"
   ]
  },
  {
   "cell_type": "markdown",
   "id": "a7ef8eaf",
   "metadata": {},
   "source": [
    "# ScatterPlots"
   ]
  },
  {
   "cell_type": "code",
   "execution_count": 27,
   "id": "ee01bda8",
   "metadata": {},
   "outputs": [
    {
     "data": {
      "text/plain": [
       "<seaborn.axisgrid.FacetGrid at 0x26b023a29e0>"
      ]
     },
     "execution_count": 27,
     "metadata": {},
     "output_type": "execute_result"
    },
    {
     "data": {
      "image/png": "[encoded data removed]",
      "text/plain": [
       "<Figure size 500x500 with 1 Axes>"
      ]
     },
     "metadata": {},
     "output_type": "display_data"
    }
   ],
   "source": [
    "# Create a scatterplot for the \"Age\" and \"CustAccountBalance\" columns in seaborn\n",
    "sns.lmplot(x = 'Age', y = 'CustAccountBalance', data = df_bank)"
   ]
  },
  {
   "cell_type": "code",
   "execution_count": null,
   "id": "ee841445",
   "metadata": {},
   "outputs": [],
   "source": [
    "# Create a scatterplot for the \"Age\" and \"TransactionAmount (INR)\" columns in seaborn\n",
    "sns.lmplot(x = 'Age', y = 'TransactionAmount (INR)', data = df_bank)"
   ]
  },
  {
   "cell_type": "markdown",
   "id": "0ced4146",
   "metadata": {},
   "source": [
    "# Customers over 30 made more number of transactions ,expensive purchases and had higher account balances at the time of the transaction.\n",
    "# Customers with an age non disclosure  are represented as 0."
   ]
  },
  {
   "cell_type": "code",
   "execution_count": null,
   "id": "4839c36e",
   "metadata": {},
   "outputs": [],
   "source": [
    "# Create a scatterplot for the \"month of transaction\" and \"TransactionAmount (INR)\" columns in seaborn\n",
    "\n",
    "sns.lmplot(x = 'month of transaction', y = 'TransactionAmount (INR)', data = df_bank)\n"
   ]
  },
  {
   "cell_type": "markdown",
   "id": "d33aab58",
   "metadata": {},
   "source": [
    "# The frequency of transactions and the total spent are more in the month of August"
   ]
  },
  {
   "cell_type": "markdown",
   "id": "942a2549",
   "metadata": {},
   "source": [
    "# Pair Plots"
   ]
  },
  {
   "cell_type": "markdown",
   "id": "13f4da42",
   "metadata": {},
   "source": [
    "# Categorical plots"
   ]
  },
  {
   "cell_type": "code",
   "execution_count": null,
   "id": "c911499f",
   "metadata": {},
   "outputs": [],
   "source": [
    "# Create a pair plot \n",
    "g = sns.pairplot(df_bank_sub)"
   ]
  },
  {
   "cell_type": "code",
   "execution_count": null,
   "id": "cb267e59",
   "metadata": {},
   "outputs": [],
   "source": [
    "#  histogram to visualize the distribution of the variables.\n",
    "sns.histplot(df_bank['month of transaction'], bins = 20, kde = True)\n",
    "#argument \"kde\" add a line that encompasses the distribution"
   ]
  },
  {
   "cell_type": "markdown",
   "id": "1c37cf0e",
   "metadata": {},
   "source": [
    "# More transactions were made in August  followed by September."
   ]
  },
  {
   "cell_type": "code",
   "execution_count": null,
   "id": "32470520",
   "metadata": {
    "scrolled": false
   },
   "outputs": [],
   "source": [
    "#  histogram to visualize the distribution of the variables.\n",
    "sns.histplot(df_bank['Age'], bins = 20, kde = True)\n",
    "#argument \"kde\" add a line that encompasses the distribution"
   ]
  },
  {
   "cell_type": "code",
   "execution_count": 37,
   "id": "b917b0fe",
   "metadata": {},
   "outputs": [],
   "source": [
    "#  determine sensible categories for the months\n",
    "df_bank.loc[df_bank['month of transaction']== 8 , 'Month_spend'] = 'High spending Month'\n",
    "df_bank.loc[df_bank['month of transaction'].isin([1,9]), 'Month_spend'] = 'Medium spending Month'\n",
    "df_bank.loc[df_bank['month of transaction'].isin ([2,3,4,5,6,7,10,11,12]), 'Month_spend']= 'Low spending Month'\n"
   ]
  },
  {
   "cell_type": "code",
   "execution_count": 38,
   "id": "b4b8ad02",
   "metadata": {},
   "outputs": [
    {
     "data": {
      "text/plain": [
       "8     271224\n",
       "9      99373\n",
       "10     32239\n",
       "7      30636\n",
       "3      30002\n",
       "4      29941\n",
       "11     29673\n",
       "6      29304\n",
       "2      27540\n",
       "1      27066\n",
       "12     26841\n",
       "5      26465\n",
       "Name: month of transaction, dtype: int64"
      ]
     },
     "execution_count": 38,
     "metadata": {},
     "output_type": "execute_result"
    }
   ],
   "source": [
    "df_bank['month of transaction'].value_counts(dropna=False)"
   ]
  },
  {
   "cell_type": "code",
   "execution_count": 41,
   "id": "68bd700c",
   "metadata": {},
   "outputs": [
    {
     "data": {
      "text/plain": [
       "High spending Month      247342\n",
       "Low spending Month       241439\n",
       "Medium spending Month    171523\n",
       "Name: Month_spend, dtype: int64"
      ]
     },
     "execution_count": 41,
     "metadata": {},
     "output_type": "execute_result"
    }
   ],
   "source": [
    "df_bank['Month_spend'].value_counts(dropna=False)"
   ]
  },
  {
   "cell_type": "code",
   "execution_count": 42,
   "id": "54896d89",
   "metadata": {},
   "outputs": [
    {
     "data": {
      "text/plain": [
       "0     94222\n",
       "33    44583\n",
       "32    43182\n",
       "34    42720\n",
       "31    39465\n",
       "35    39433\n",
       "36    37080\n",
       "37    33302\n",
       "30    31028\n",
       "38    30404\n",
       "39    27375\n",
       "40    23265\n",
       "41    21920\n",
       "29    21020\n",
       "42    18792\n",
       "43    16232\n",
       "44    15577\n",
       "45    13234\n",
       "46    11617\n",
       "28    11560\n",
       "47    10065\n",
       "48     8498\n",
       "49     7059\n",
       "27     6448\n",
       "50     6416\n",
       "26     3631\n",
       "25     1208\n",
       "24      416\n",
       "23      146\n",
       "21       79\n",
       "22       74\n",
       "18       46\n",
       "19       31\n",
       "16       23\n",
       "2        22\n",
       "20       20\n",
       "17       17\n",
       "11       16\n",
       "13       16\n",
       "9        15\n",
       "14       14\n",
       "3         9\n",
       "15        9\n",
       "10        8\n",
       "7         4\n",
       "12        1\n",
       "8         1\n",
       "5         1\n",
       "Name: Age, dtype: int64"
      ]
     },
     "execution_count": 42,
     "metadata": {},
     "output_type": "execute_result"
    }
   ],
   "source": [
    "df_bank['Age'].value_counts(dropna=False)"
   ]
  },
  {
   "cell_type": "code",
   "execution_count": null,
   "id": "38cf9459",
   "metadata": {},
   "outputs": [],
   "source": [
    "df_bank.dtypes"
   ]
  },
  {
   "cell_type": "code",
   "execution_count": 39,
   "id": "3fc6e065",
   "metadata": {},
   "outputs": [],
   "source": [
    "#  create agegroup\n",
    "df_bank.loc[(df_bank['Age']>=0 )& (df_bank['Age']<=18 ) , 'Age_Group'] = '0-18'\n",
    "df_bank.loc[(df_bank['Age']>18 )& (df_bank['Age']<=25 ) , 'Age_Group'] = '19-25'\n",
    "df_bank.loc[(df_bank['Age']>25 )& (df_bank['Age']<=35 ) , 'Age_Group'] = '26-35'\n",
    "df_bank.loc[(df_bank['Age']>=36 )& (df_bank['Age']<45 ) , 'Age_Group'] = '36-45'\n",
    "df_bank.loc[(df_bank['Age']>=45 ), 'Age_Group'] = '45+'"
   ]
  },
  {
   "cell_type": "code",
   "execution_count": 40,
   "id": "b4d8c2ab",
   "metadata": {},
   "outputs": [
    {
     "data": {
      "text/plain": [
       "0-18      94424\n",
       "19-25      1974\n",
       "26-35    283070\n",
       "36-45    223947\n",
       "45+       56889\n",
       "Name: Age_Group, dtype: int64"
      ]
     },
     "execution_count": 40,
     "metadata": {},
     "output_type": "execute_result"
    }
   ],
   "source": [
    "df_bank['Age_Group'].value_counts(dropna=False).sort_index()"
   ]
  },
  {
   "cell_type": "code",
   "execution_count": null,
   "id": "03a622c1",
   "metadata": {
    "scrolled": true
   },
   "outputs": [],
   "source": [
    "#Create a categorical plot in seaborn using the month spend categories\n",
    "# order_agebin = pd.value_counts(df_bank['Age_Group']).sort_index().index\n",
    "sns.set(style=\"ticks\")\n",
    "# g1 = sns.catplot(x=\"Age_Group\", y=\"TransactionAmount (INR)\", hue=\"Month_spend\", data=df_bank,order = order_agebin)\n",
    "g1 = sns.catplot(x=\"Age_Group\", y=\"TransactionAmount (INR)\", hue=\"Month_spend\", data=df_bank,order =['0-18', '19-25', '26-35', '36-45', '45+'])"
   ]
  },
  {
   "cell_type": "code",
   "execution_count": null,
   "id": "23553639",
   "metadata": {},
   "outputs": [],
   "source": [
    "# order_agebin"
   ]
  },
  {
   "cell_type": "code",
   "execution_count": 41,
   "id": "2996557e",
   "metadata": {},
   "outputs": [],
   "source": [
    "#  determine sensible categories for the age\n",
    "df_bank.loc[(df_bank['Age']>=0 )& (df_bank['Age']<30 ) , 'Age_Category'] = 'Low spenders'\n",
    "df_bank.loc[(df_bank['Age']>=30 )& (df_bank['Age']<40 ) , 'Age_Category'] = 'High spenders'\n",
    "df_bank.loc[(df_bank['Age']>=40 ) , 'Age_Category'] = 'Medium spenders'"
   ]
  },
  {
   "cell_type": "code",
   "execution_count": 42,
   "id": "a53c5d9c",
   "metadata": {},
   "outputs": [
    {
     "data": {
      "text/plain": [
       "Index(['TransactionID', 'CustomerID', 'CustomerDOB', 'CustGender',\n",
       "       'CustLocation', 'CustAccountBalance', 'TransactionDate',\n",
       "       'TransactionTime', 'TransactionAmount (INR)', 'Age',\n",
       "       'month of transaction', 'Trans_monthname', 'Month_spend', 'Age_Group',\n",
       "       'Age_Category'],\n",
       "      dtype='object')"
      ]
     },
     "execution_count": 42,
     "metadata": {},
     "output_type": "execute_result"
    }
   ],
   "source": [
    "df_bank.columns"
   ]
  },
  {
   "cell_type": "code",
   "execution_count": null,
   "id": "449ee107",
   "metadata": {
    "scrolled": false
   },
   "outputs": [],
   "source": [
    "# Create a categorical plot in seaborn using age categories\n",
    "sns.set(style=\"ticks\")\n",
    "g2 = sns.catplot(x=\"Age_Group\", y=\"TransactionAmount (INR)\", hue=\"Age_Category\", data=df_bank, order =['0-18', '19-25', '26-35', '36-45', '45+'])"
   ]
  },
  {
   "cell_type": "markdown",
   "id": "e3e9a52c",
   "metadata": {},
   "source": [
    "# The age group of 26 to 35 has the most high spenders, followed by those aged 36 to 45.\n",
    "# Low-spending individuals are younger than 25. "
   ]
  },
  {
   "cell_type": "code",
   "execution_count": null,
   "id": "b7541a48",
   "metadata": {},
   "outputs": [],
   "source": [
    "# Create a categorical plot in seaborn using the gender categories\n",
    "sns.set(style=\"ticks\")\n",
    "g3 = sns.catplot(x=\"Age_Group\", y=\"TransactionAmount (INR)\", hue=\"CustGender\", data=df_bank,order =['0-18', '19-25', '26-35', '36-45', '45+'])"
   ]
  },
  {
   "cell_type": "code",
   "execution_count": null,
   "id": "7510c990",
   "metadata": {},
   "outputs": [],
   "source": [
    "sns.set(style=\"ticks\")\n",
    "g4 = sns.catplot(x=\"Age_Group\", y=\"CustAccountBalance\", hue=\"CustGender\", data=df_bank,order =['0-18', '19-25', '26-35', '36-45', '45+'])"
   ]
  },
  {
   "cell_type": "markdown",
   "id": "98858b7f",
   "metadata": {},
   "source": [
    "# Customers with Gender nondisclosure are represented as 0."
   ]
  },
  {
   "cell_type": "code",
   "execution_count": null,
   "id": "cf2b1908",
   "metadata": {},
   "outputs": [],
   "source": [
    "sns.set(style=\"ticks\")\n",
    "g5 = sns.catplot(x=\"CustGender\", y=\"TransactionAmount (INR)\", hue=\"Age_Group\", data=df_bank,order =['F', 'M'])"
   ]
  },
  {
   "cell_type": "markdown",
   "id": "59877947",
   "metadata": {},
   "source": [
    "# Male customers have marginally higher account balances or number of transactions in comparison to  female customers."
   ]
  },
  {
   "cell_type": "code",
   "execution_count": 43,
   "id": "28ec532c",
   "metadata": {},
   "outputs": [],
   "source": [
    "df_bank.to_csv(os.path.join(path,'Data','Prepared Data','Bank Transactions 1.csv'),index=False)"
   ]
  },
  {
   "cell_type": "code",
   "execution_count": 44,
   "id": "f16f176e",
   "metadata": {},
   "outputs": [],
   "source": [
    "df_bank.to_pickle(os.path.join(path,'Data','Prepared Data','Bank Transactions 1.pkl'))"
   ]
  },
  {
   "cell_type": "code",
   "execution_count": null,
   "id": "5dd99af6",
   "metadata": {},
   "outputs": [],
   "source": []
  }
 ],
 "metadata": {
  "kernelspec": {
   "display_name": "Python 3 (ipykernel)",
   "language": "python",
   "name": "python3"
  },
  "language_info": {
   "codemirror_mode": {
    "name": "ipython",
    "version": 3
   },
   "file_extension": ".py",
   "mimetype": "text/x-python",
   "name": "python",
   "nbconvert_exporter": "python",
   "pygments_lexer": "ipython3",
   "version": "3.10.9"
  }
 },
 "nbformat": 4,
 "nbformat_minor": 5
}
